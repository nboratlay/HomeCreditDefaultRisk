{
 "cells": [
  {
   "cell_type": "code",
   "execution_count": 1,
   "id": "b6e65189",
   "metadata": {},
   "outputs": [],
   "source": [
    "import math\n",
    "import pandas as pd\n",
    "import numpy as np\n",
    "import matplotlib.pyplot as plt"
   ]
  },
  {
   "cell_type": "code",
   "execution_count": 2,
   "id": "8c279820",
   "metadata": {},
   "outputs": [],
   "source": [
    "ins_pay_data_path = r\"C:\\Users\\redal\\Code\\bootcamp_ppi\\HomeCreditDefaultRisk\\HomeCreditDefaultRisk\\installments_payments.csv\""
   ]
  },
  {
   "cell_type": "code",
   "execution_count": 3,
   "id": "0503cb23",
   "metadata": {},
   "outputs": [
    {
     "data": {
      "text/html": [
       "<div>\n",
       "<style scoped>\n",
       "    .dataframe tbody tr th:only-of-type {\n",
       "        vertical-align: middle;\n",
       "    }\n",
       "\n",
       "    .dataframe tbody tr th {\n",
       "        vertical-align: top;\n",
       "    }\n",
       "\n",
       "    .dataframe thead th {\n",
       "        text-align: right;\n",
       "    }\n",
       "</style>\n",
       "<table border=\"1\" class=\"dataframe\">\n",
       "  <thead>\n",
       "    <tr style=\"text-align: right;\">\n",
       "      <th></th>\n",
       "      <th>SK_ID_PREV</th>\n",
       "      <th>SK_ID_CURR</th>\n",
       "      <th>NUM_INSTALMENT_VERSION</th>\n",
       "      <th>NUM_INSTALMENT_NUMBER</th>\n",
       "      <th>DAYS_INSTALMENT</th>\n",
       "      <th>DAYS_ENTRY_PAYMENT</th>\n",
       "      <th>AMT_INSTALMENT</th>\n",
       "      <th>AMT_PAYMENT</th>\n",
       "    </tr>\n",
       "  </thead>\n",
       "  <tbody>\n",
       "    <tr>\n",
       "      <th>0</th>\n",
       "      <td>1054186</td>\n",
       "      <td>161674</td>\n",
       "      <td>1.0</td>\n",
       "      <td>6</td>\n",
       "      <td>-1180.0</td>\n",
       "      <td>-1187.0</td>\n",
       "      <td>6948.360</td>\n",
       "      <td>6948.360</td>\n",
       "    </tr>\n",
       "    <tr>\n",
       "      <th>1</th>\n",
       "      <td>1330831</td>\n",
       "      <td>151639</td>\n",
       "      <td>0.0</td>\n",
       "      <td>34</td>\n",
       "      <td>-2156.0</td>\n",
       "      <td>-2156.0</td>\n",
       "      <td>1716.525</td>\n",
       "      <td>1716.525</td>\n",
       "    </tr>\n",
       "    <tr>\n",
       "      <th>2</th>\n",
       "      <td>2085231</td>\n",
       "      <td>193053</td>\n",
       "      <td>2.0</td>\n",
       "      <td>1</td>\n",
       "      <td>-63.0</td>\n",
       "      <td>-63.0</td>\n",
       "      <td>25425.000</td>\n",
       "      <td>25425.000</td>\n",
       "    </tr>\n",
       "    <tr>\n",
       "      <th>3</th>\n",
       "      <td>2452527</td>\n",
       "      <td>199697</td>\n",
       "      <td>1.0</td>\n",
       "      <td>3</td>\n",
       "      <td>-2418.0</td>\n",
       "      <td>-2426.0</td>\n",
       "      <td>24350.130</td>\n",
       "      <td>24350.130</td>\n",
       "    </tr>\n",
       "    <tr>\n",
       "      <th>4</th>\n",
       "      <td>2714724</td>\n",
       "      <td>167756</td>\n",
       "      <td>1.0</td>\n",
       "      <td>2</td>\n",
       "      <td>-1383.0</td>\n",
       "      <td>-1366.0</td>\n",
       "      <td>2165.040</td>\n",
       "      <td>2160.585</td>\n",
       "    </tr>\n",
       "  </tbody>\n",
       "</table>\n",
       "</div>"
      ],
      "text/plain": [
       "   SK_ID_PREV  SK_ID_CURR  NUM_INSTALMENT_VERSION  NUM_INSTALMENT_NUMBER  \\\n",
       "0     1054186      161674                     1.0                      6   \n",
       "1     1330831      151639                     0.0                     34   \n",
       "2     2085231      193053                     2.0                      1   \n",
       "3     2452527      199697                     1.0                      3   \n",
       "4     2714724      167756                     1.0                      2   \n",
       "\n",
       "   DAYS_INSTALMENT  DAYS_ENTRY_PAYMENT  AMT_INSTALMENT  AMT_PAYMENT  \n",
       "0          -1180.0             -1187.0        6948.360     6948.360  \n",
       "1          -2156.0             -2156.0        1716.525     1716.525  \n",
       "2            -63.0               -63.0       25425.000    25425.000  \n",
       "3          -2418.0             -2426.0       24350.130    24350.130  \n",
       "4          -1383.0             -1366.0        2165.040     2160.585  "
      ]
     },
     "execution_count": 3,
     "metadata": {},
     "output_type": "execute_result"
    }
   ],
   "source": [
    "df = pd.read_csv(ins_pay_data_path)\n",
    "df.head()"
   ]
  },
  {
   "cell_type": "markdown",
   "id": "83d7fda3",
   "metadata": {},
   "source": [
    "- SK_ID_PREV: ID of previous credit in Home credit related to loan in our sample. (One loan in our sample can have 0,1,2 or more previous loans in Home Credit)\n",
    "\n",
    "- SK_ID_CURR: ID of loan in our sample\n",
    "\n",
    "- NUM_INSTALMENT_VERSION: Version of installment calendar (0 is for credit card) of previous credit. Change of installment version from month to month signifies that some parameter of payment calendar has changed\n",
    "\n",
    "- NUM_INSTALMENT_NUMBER: On which installment we observe payment\n",
    "\n",
    "- DAYS_INSTALMENT: When the installment of previous credit was supposed to be paid (relative to application date of current loan)\n",
    "\n",
    "- DAYS_ENTRY_PAYMENT: When was the installments of previous credit paid actually (relative to application date of current loan)\n",
    "\n",
    "- AMT_INSTALMENT: What was the prescribed installment amount of previous credit on this installment\n",
    "\n",
    "- AMT_PAYMENT: What the client actually paid on previous credit on this installment"
   ]
  },
  {
   "cell_type": "code",
   "execution_count": 166,
   "id": "9adff1b2",
   "metadata": {},
   "outputs": [
    {
     "data": {
      "text/html": [
       "<div>\n",
       "<style scoped>\n",
       "    .dataframe tbody tr th:only-of-type {\n",
       "        vertical-align: middle;\n",
       "    }\n",
       "\n",
       "    .dataframe tbody tr th {\n",
       "        vertical-align: top;\n",
       "    }\n",
       "\n",
       "    .dataframe thead th {\n",
       "        text-align: right;\n",
       "    }\n",
       "</style>\n",
       "<table border=\"1\" class=\"dataframe\">\n",
       "  <thead>\n",
       "    <tr style=\"text-align: right;\">\n",
       "      <th></th>\n",
       "      <th>SK_ID_PREV</th>\n",
       "      <th>SK_ID_CURR</th>\n",
       "      <th>NUM_INSTALMENT_VERSION</th>\n",
       "      <th>NUM_INSTALMENT_NUMBER</th>\n",
       "      <th>DAYS_INSTALMENT</th>\n",
       "      <th>DAYS_ENTRY_PAYMENT</th>\n",
       "      <th>AMT_INSTALMENT</th>\n",
       "      <th>AMT_PAYMENT</th>\n",
       "    </tr>\n",
       "  </thead>\n",
       "  <tbody>\n",
       "    <tr>\n",
       "      <th>11463719</th>\n",
       "      <td>1035136</td>\n",
       "      <td>339127</td>\n",
       "      <td>6.0</td>\n",
       "      <td>1</td>\n",
       "      <td>-48.0</td>\n",
       "      <td>NaN</td>\n",
       "      <td>31698.225</td>\n",
       "      <td>NaN</td>\n",
       "    </tr>\n",
       "  </tbody>\n",
       "</table>\n",
       "</div>"
      ],
      "text/plain": [
       "          SK_ID_PREV  SK_ID_CURR  NUM_INSTALMENT_VERSION  \\\n",
       "11463719     1035136      339127                     6.0   \n",
       "\n",
       "          NUM_INSTALMENT_NUMBER  DAYS_INSTALMENT  DAYS_ENTRY_PAYMENT  \\\n",
       "11463719                      1            -48.0                 NaN   \n",
       "\n",
       "          AMT_INSTALMENT  AMT_PAYMENT  \n",
       "11463719       31698.225          NaN  "
      ]
     },
     "execution_count": 166,
     "metadata": {},
     "output_type": "execute_result"
    }
   ],
   "source": [
    "df[df[\"SK_ID_PREV\"] == 1035136].sort_values(\"NUM_INSTALMENT_NUMBER\")"
   ]
  },
  {
   "cell_type": "code",
   "execution_count": 5,
   "id": "88614cb2",
   "metadata": {},
   "outputs": [],
   "source": [
    "# THIS LINE IS VERY IMPORTANT -- MUST RUN!\n",
    "df = df.sort_values(by=['SK_ID_PREV', 'SK_ID_CURR', 'NUM_INSTALMENT_NUMBER'])"
   ]
  },
  {
   "cell_type": "code",
   "execution_count": 177,
   "id": "65250f7b",
   "metadata": {},
   "outputs": [],
   "source": [
    "# TODO: SOMEWHERE HERE RUNS VERY SLOW -- NEED TO CHECK!\n",
    "def group_rows_by_months(df_original):\n",
    "    df = df_original.copy()\n",
    "\n",
    "    # exception: if \"first_day\" is later than \"last_day\"!!!\n",
    "    first_day = np.nanmin(df['DAYS_ENTRY_PAYMENT']) - 0.1\n",
    "    last_day = np.nanmax(df['DAYS_ENTRY_PAYMENT'])\n",
    "   \n",
    "    # ValueError: arange: cannot compute length\n",
    "    try:\n",
    "        groups = list(np.arange(first_day, last_day + 30, 30))\n",
    "    except ValueError:\n",
    "        return {}, 0\n",
    "\n",
    "    df['group'] = pd.cut(df['DAYS_ENTRY_PAYMENT'], bins=groups)\n",
    "    \n",
    "    df_new = df.groupby(['group']).agg({\"DAYS_INSTALMENT\": \"mean\",\n",
    "                                        \"DAYS_ENTRY_PAYMENT\": \"mean\",\n",
    "                                        \"AMT_INSTALMENT\": \"sum\",\n",
    "                                        \"AMT_PAYMENT\": \"sum\"})\n",
    "    \n",
    "    df_w_na = df[df.isna().any(axis=1)]\n",
    "\n",
    "    if len(df_w_na) > 0:\n",
    "        \n",
    "        #cat.iloc[idx, cat.columns.get_loc('AMT_PAYMENT')] = val\n",
    "        df_new.iloc[len(df_new)-1, df_new.columns.get_loc('DAYS_INSTALMENT')] = df_w_na[\"DAYS_INSTALMENT\"].mean()\n",
    "        df_new.iloc[len(df_new)-1, df_new.columns.get_loc('AMT_INSTALMENT')] = df_w_na[\"AMT_INSTALMENT\"].sum()\n",
    "\n",
    "    return df_new, len(df_w_na)"
   ]
  },
  {
   "cell_type": "code",
   "execution_count": 184,
   "id": "b7e8eb92",
   "metadata": {},
   "outputs": [],
   "source": [
    "# TODO: SOMEWHERE HERE RUNS VERY SLOW -- NEED TO CHECK!\n",
    "def extract_features(id_prev, df_grouped, rows_w_na):\n",
    "    dict_for_this_sk_id = {}\n",
    "    if len(df_grouped) == 0:\n",
    "        dict_for_this_sk_id[\"SK_ID_PREV\"] = id_prev\n",
    "        dict_for_this_sk_id[\"DEFAULT\"] = False\n",
    "        dict_for_this_sk_id[\"STDEV_PAYMENTS\"] = np.nan\n",
    "\n",
    "        dict_for_this_sk_id[\"MEAN_DAYS_LATE\"] = np.nan\n",
    "        return dict_for_this_sk_id\n",
    "        \n",
    "        \n",
    "    \n",
    "    dict_for_this_sk_id[\"SK_ID_PREV\"] = id_prev\n",
    "    \n",
    "    if len(df_grouped) < 2:\n",
    "        dict_for_this_sk_id[\"DEFAULT\"] = False\n",
    "        dict_for_this_sk_id[\"STDEV_PAYMENTS\"] = 0\n",
    "\n",
    "        dict_for_this_sk_id[\"MEAN_DAYS_LATE\"] = df_grouped[\"DAYS_ENTRY_PAYMENT\"].values[0] - df_grouped[\"DAYS_INSTALMENT\"].values[0]\n",
    "        return dict_for_this_sk_id\n",
    "\n",
    "    num_rows_with_na = rows_w_na\n",
    "    money_owed = df_grouped[\"AMT_INSTALMENT\"].sum() - df_grouped[\"AMT_PAYMENT\"].sum()\n",
    "\n",
    "    percentage_installment_owed = money_owed/df_grouped[\"AMT_INSTALMENT\"].mean()\n",
    "    \n",
    "    # default conditions: \n",
    "    # rows_w_na > 3 & DAYS_INSTALMENT_MEAN (last one) > 90 \n",
    "    # AMT_INSTALMENT_SUM > 10000 \n",
    "    # percentage_owed > 20% of avg installment\n",
    "    default_conditions_bool = (num_rows_with_na > 3) & \\\n",
    "                            (money_owed > 10000) & \\\n",
    "                            (percentage_installment_owed > 0.2) & \\\n",
    "                            (df_grouped[\"AMT_INSTALMENT\"].values[-1] > 90)\n",
    "    \n",
    "    dict_for_this_sk_id[\"DEFAULT\"] = default_conditions_bool\n",
    "    dict_for_this_sk_id[\"STDEV_PAYMENTS\"] = df_grouped[\"AMT_INSTALMENT\"][df_grouped[\"AMT_INSTALMENT\"] != 0].std()\n",
    "    dict_for_this_sk_id[\"MEAN_DAYS_LATE\"] = df_grouped[\"DAYS_ENTRY_PAYMENT\"].mean() - df_grouped[\"DAYS_INSTALMENT\"].mean()\n",
    "\n",
    "    return dict_for_this_sk_id"
   ]
  },
  {
   "cell_type": "code",
   "execution_count": 160,
   "id": "579d12d1",
   "metadata": {},
   "outputs": [
    {
     "name": "stdout",
     "output_type": "stream",
     "text": [
      "997752\n"
     ]
    }
   ],
   "source": [
    "id_prev_to_preprocess = df.SK_ID_PREV.unique()\n",
    "print(len(id_prev_to_preprocess))"
   ]
  },
  {
   "cell_type": "code",
   "execution_count": 174,
   "id": "99279ecf",
   "metadata": {},
   "outputs": [
    {
     "name": "stdout",
     "output_type": "stream",
     "text": [
      "1048805\n"
     ]
    }
   ],
   "source": [
    "#print(id_prev_to_preprocess[22857+4915])"
   ]
  },
  {
   "cell_type": "code",
   "execution_count": 189,
   "id": "7bc5fdaf",
   "metadata": {},
   "outputs": [
    {
     "name": "stderr",
     "output_type": "stream",
     "text": [
      "C:\\Users\\redal\\AppData\\Local\\Temp/ipykernel_24688/779097346.py:5: RuntimeWarning: All-NaN axis encountered\n",
      "  first_day = np.nanmin(df['DAYS_ENTRY_PAYMENT']) - 0.1\n",
      "C:\\Users\\redal\\AppData\\Local\\Temp/ipykernel_24688/779097346.py:6: RuntimeWarning: All-NaN axis encountered\n",
      "  last_day = np.nanmax(df['DAYS_ENTRY_PAYMENT'])\n",
      "C:\\Users\\redal\\AppData\\Local\\Temp/ipykernel_24688/3392711282.py:25: RuntimeWarning: divide by zero encountered in double_scalars\n",
      "  percentage_installment_owed = money_owed/df_grouped[\"AMT_INSTALMENT\"].mean()\n"
     ]
    },
    {
     "ename": "KeyboardInterrupt",
     "evalue": "",
     "output_type": "error",
     "traceback": [
      "\u001b[1;31m---------------------------------------------------------------------------\u001b[0m",
      "\u001b[1;31mKeyboardInterrupt\u001b[0m                         Traceback (most recent call last)",
      "\u001b[1;32m~\\AppData\\Local\\Temp/ipykernel_24688/67749238.py\u001b[0m in \u001b[0;36m<module>\u001b[1;34m\u001b[0m\n\u001b[0;32m      9\u001b[0m \u001b[1;32mfor\u001b[0m \u001b[0mid_prev\u001b[0m \u001b[1;32min\u001b[0m \u001b[0mid_prev_to_preprocess\u001b[0m\u001b[1;33m[\u001b[0m\u001b[1;36m64111\u001b[0m\u001b[1;33m:\u001b[0m\u001b[1;33m]\u001b[0m\u001b[1;33m:\u001b[0m\u001b[1;33m\u001b[0m\u001b[1;33m\u001b[0m\u001b[0m\n\u001b[0;32m     10\u001b[0m     \u001b[1;31m#print(id_prev)\u001b[0m\u001b[1;33m\u001b[0m\u001b[1;33m\u001b[0m\u001b[0m\n\u001b[1;32m---> 11\u001b[1;33m     \u001b[0mdf_for_the_id\u001b[0m \u001b[1;33m=\u001b[0m \u001b[0mdf\u001b[0m\u001b[1;33m[\u001b[0m\u001b[0mdf\u001b[0m\u001b[1;33m[\u001b[0m\u001b[1;34m\"SK_ID_PREV\"\u001b[0m\u001b[1;33m]\u001b[0m \u001b[1;33m==\u001b[0m \u001b[0mid_prev\u001b[0m\u001b[1;33m]\u001b[0m\u001b[1;33m\u001b[0m\u001b[1;33m\u001b[0m\u001b[0m\n\u001b[0m\u001b[0;32m     12\u001b[0m     \u001b[0mstdev\u001b[0m \u001b[1;33m=\u001b[0m \u001b[0mdf_for_the_id\u001b[0m\u001b[1;33m[\u001b[0m\u001b[1;34m\"AMT_PAYMENT\"\u001b[0m\u001b[1;33m]\u001b[0m\u001b[1;33m.\u001b[0m\u001b[0mstd\u001b[0m\u001b[1;33m(\u001b[0m\u001b[1;33m)\u001b[0m\u001b[1;33m\u001b[0m\u001b[1;33m\u001b[0m\u001b[0m\n\u001b[0;32m     13\u001b[0m     \u001b[0mcat\u001b[0m\u001b[1;33m,\u001b[0m \u001b[0mna_rows\u001b[0m \u001b[1;33m=\u001b[0m \u001b[0mgroup_rows_by_months\u001b[0m\u001b[1;33m(\u001b[0m\u001b[0mdf_for_the_id\u001b[0m\u001b[1;33m)\u001b[0m\u001b[1;33m\u001b[0m\u001b[1;33m\u001b[0m\u001b[0m\n",
      "\u001b[1;32m~\\anaconda3\\lib\\site-packages\\pandas\\core\\frame.py\u001b[0m in \u001b[0;36m__getitem__\u001b[1;34m(self, key)\u001b[0m\n\u001b[0;32m   3447\u001b[0m         \u001b[1;31m# Do we have a (boolean) 1d indexer?\u001b[0m\u001b[1;33m\u001b[0m\u001b[1;33m\u001b[0m\u001b[0m\n\u001b[0;32m   3448\u001b[0m         \u001b[1;32mif\u001b[0m \u001b[0mcom\u001b[0m\u001b[1;33m.\u001b[0m\u001b[0mis_bool_indexer\u001b[0m\u001b[1;33m(\u001b[0m\u001b[0mkey\u001b[0m\u001b[1;33m)\u001b[0m\u001b[1;33m:\u001b[0m\u001b[1;33m\u001b[0m\u001b[1;33m\u001b[0m\u001b[0m\n\u001b[1;32m-> 3449\u001b[1;33m             \u001b[1;32mreturn\u001b[0m \u001b[0mself\u001b[0m\u001b[1;33m.\u001b[0m\u001b[0m_getitem_bool_array\u001b[0m\u001b[1;33m(\u001b[0m\u001b[0mkey\u001b[0m\u001b[1;33m)\u001b[0m\u001b[1;33m\u001b[0m\u001b[1;33m\u001b[0m\u001b[0m\n\u001b[0m\u001b[0;32m   3450\u001b[0m \u001b[1;33m\u001b[0m\u001b[0m\n\u001b[0;32m   3451\u001b[0m         \u001b[1;31m# We are left with two options: a single key, and a collection of keys,\u001b[0m\u001b[1;33m\u001b[0m\u001b[1;33m\u001b[0m\u001b[0m\n",
      "\u001b[1;32m~\\anaconda3\\lib\\site-packages\\pandas\\core\\frame.py\u001b[0m in \u001b[0;36m_getitem_bool_array\u001b[1;34m(self, key)\u001b[0m\n\u001b[0;32m   3501\u001b[0m         \u001b[1;31m# be reindexed to match DataFrame rows\u001b[0m\u001b[1;33m\u001b[0m\u001b[1;33m\u001b[0m\u001b[0m\n\u001b[0;32m   3502\u001b[0m         \u001b[0mkey\u001b[0m \u001b[1;33m=\u001b[0m \u001b[0mcheck_bool_indexer\u001b[0m\u001b[1;33m(\u001b[0m\u001b[0mself\u001b[0m\u001b[1;33m.\u001b[0m\u001b[0mindex\u001b[0m\u001b[1;33m,\u001b[0m \u001b[0mkey\u001b[0m\u001b[1;33m)\u001b[0m\u001b[1;33m\u001b[0m\u001b[1;33m\u001b[0m\u001b[0m\n\u001b[1;32m-> 3503\u001b[1;33m         \u001b[0mindexer\u001b[0m \u001b[1;33m=\u001b[0m \u001b[0mkey\u001b[0m\u001b[1;33m.\u001b[0m\u001b[0mnonzero\u001b[0m\u001b[1;33m(\u001b[0m\u001b[1;33m)\u001b[0m\u001b[1;33m[\u001b[0m\u001b[1;36m0\u001b[0m\u001b[1;33m]\u001b[0m\u001b[1;33m\u001b[0m\u001b[1;33m\u001b[0m\u001b[0m\n\u001b[0m\u001b[0;32m   3504\u001b[0m         \u001b[1;32mreturn\u001b[0m \u001b[0mself\u001b[0m\u001b[1;33m.\u001b[0m\u001b[0m_take_with_is_copy\u001b[0m\u001b[1;33m(\u001b[0m\u001b[0mindexer\u001b[0m\u001b[1;33m,\u001b[0m \u001b[0maxis\u001b[0m\u001b[1;33m=\u001b[0m\u001b[1;36m0\u001b[0m\u001b[1;33m)\u001b[0m\u001b[1;33m\u001b[0m\u001b[1;33m\u001b[0m\u001b[0m\n\u001b[0;32m   3505\u001b[0m \u001b[1;33m\u001b[0m\u001b[0m\n",
      "\u001b[1;31mKeyboardInterrupt\u001b[0m: "
     ]
    }
   ],
   "source": [
    "#1310347 (no broke but nans)\n",
    "#2448869 (broke)\n",
    "#1308766 (irregular paying pattern)\n",
    "\n",
    "id_mega_dict = []\n",
    "\n",
    "# error at: print(id_prev_to_preprocess[22857]), print(id_prev_to_preprocess[22857+4915])\n",
    "# cleaned_final1: len is 64110\n",
    "# cleaned2: len = 63390\n",
    "\n",
    "for id_prev in id_prev_to_preprocess[(64111 + 63390 + 1):]:\n",
    "    #print(id_prev)\n",
    "    df_for_the_id = df[df[\"SK_ID_PREV\"] == id_prev]\n",
    "    stdev = df_for_the_id[\"AMT_PAYMENT\"].std()\n",
    "    cat, na_rows = group_rows_by_months(df_for_the_id)\n",
    "    id_dict = extract_features(id_prev, cat, na_rows)\n",
    "    \n",
    "    id_mega_dict.append(id_dict)\n",
    "\n",
    "#print(id_mega_dict)\n",
    "#print(df_cat)\n",
    "    #print(id_dict)"
   ]
  },
  {
   "cell_type": "code",
   "execution_count": 190,
   "id": "c72613ab",
   "metadata": {},
   "outputs": [
    {
     "name": "stdout",
     "output_type": "stream",
     "text": [
      "63390\n"
     ]
    }
   ],
   "source": [
    "print(len(id_mega_dict))"
   ]
  },
  {
   "cell_type": "code",
   "execution_count": 191,
   "id": "cac860fa",
   "metadata": {},
   "outputs": [],
   "source": [
    "df_cat = pd.DataFrame.from_records(id_mega_dict)"
   ]
  },
  {
   "cell_type": "code",
   "execution_count": 192,
   "id": "5d280d56",
   "metadata": {},
   "outputs": [],
   "source": [
    "df_cat.to_csv(path_or_buf = r\"C:\\Users\\redal\\Code\\bootcamp_ppi\\HomeCreditDefaultRisk\\HomeCreditDefaultRisk\\installments_payments_cleaned_final2.csv\",index=False)"
   ]
  }
 ],
 "metadata": {
  "kernelspec": {
   "display_name": "Python 3 (ipykernel)",
   "language": "python",
   "name": "python3"
  },
  "language_info": {
   "codemirror_mode": {
    "name": "ipython",
    "version": 3
   },
   "file_extension": ".py",
   "mimetype": "text/x-python",
   "name": "python",
   "nbconvert_exporter": "python",
   "pygments_lexer": "ipython3",
   "version": "3.9.7"
  }
 },
 "nbformat": 4,
 "nbformat_minor": 5
}
