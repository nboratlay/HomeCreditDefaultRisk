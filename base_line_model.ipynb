{
 "cells": [
  {
   "cell_type": "markdown",
   "id": "a8809167",
   "metadata": {
    "jp-MarkdownHeadingCollapsed": true,
    "tags": []
   },
   "source": [
    "# Setup"
   ]
  },
  {
   "cell_type": "code",
   "execution_count": 1,
   "id": "70a46404",
   "metadata": {},
   "outputs": [],
   "source": [
    "import warnings\n",
    "warnings.filterwarnings('ignore') #beware\n",
    "\n",
    "import pandas as pd\n",
    "import numpy as np\n",
    "import matplotlib.pyplot as plt\n",
    "import seaborn as sns\n",
    "from scipy.stats.mstats import winsorize\n",
    "from sklearn.compose import ColumnTransformer\n",
    "from sklearn.preprocessing import (\n",
    "    OneHotEncoder, \n",
    "    KBinsDiscretizer, \n",
    "    FunctionTransformer,\n",
    "    MinMaxScaler,\n",
    ")\n",
    "from sklearn.linear_model import LogisticRegression\n",
    "from sklearn.model_selection import (\n",
    "    train_test_split, \n",
    "    cross_val_score, \n",
    "    GridSearchCV, \n",
    "    validation_curve, \n",
    "    KFold,\n",
    ")\n",
    "from sklearn.metrics import (\n",
    "    plot_confusion_matrix, \n",
    "    accuracy_score, \n",
    "    precision_score, \n",
    "    recall_score, \n",
    "    confusion_matrix, \n",
    "    f1_score,\n",
    "    classification_report,\n",
    "    roc_auc_score,\n",
    "    roc_curve,\n",
    "    RocCurveDisplay,\n",
    ")\n",
    "from sklearn.feature_selection import (\n",
    "    f_classif,\n",
    ")   \n",
    "from univariate_graph import univariate_graph"
   ]
  },
  {
   "cell_type": "markdown",
   "id": "cdc8ef46",
   "metadata": {
    "jp-MarkdownHeadingCollapsed": true,
    "tags": []
   },
   "source": [
    "# Load data"
   ]
  },
  {
   "cell_type": "code",
   "execution_count": 2,
   "id": "f8936bac",
   "metadata": {},
   "outputs": [],
   "source": [
    "app_train = pd.read_csv('data/application_train.csv')"
   ]
  },
  {
   "cell_type": "code",
   "execution_count": 3,
   "id": "a58e6234",
   "metadata": {},
   "outputs": [
    {
     "name": "stdout",
     "output_type": "stream",
     "text": [
      "SK_ID_CURR\n",
      "TARGET\n",
      "NAME_CONTRACT_TYPE\n",
      "CODE_GENDER\n",
      "FLAG_OWN_CAR\n",
      "FLAG_OWN_REALTY\n",
      "CNT_CHILDREN\n",
      "AMT_INCOME_TOTAL\n",
      "AMT_CREDIT\n",
      "AMT_ANNUITY\n",
      "AMT_GOODS_PRICE\n",
      "NAME_TYPE_SUITE\n",
      "NAME_INCOME_TYPE\n",
      "NAME_EDUCATION_TYPE\n",
      "NAME_FAMILY_STATUS\n",
      "NAME_HOUSING_TYPE\n",
      "REGION_POPULATION_RELATIVE\n",
      "DAYS_BIRTH\n",
      "DAYS_EMPLOYED\n",
      "DAYS_REGISTRATION\n",
      "DAYS_ID_PUBLISH\n",
      "OWN_CAR_AGE\n",
      "FLAG_MOBIL\n",
      "FLAG_EMP_PHONE\n",
      "FLAG_WORK_PHONE\n",
      "FLAG_CONT_MOBILE\n",
      "FLAG_PHONE\n",
      "FLAG_EMAIL\n",
      "OCCUPATION_TYPE\n",
      "CNT_FAM_MEMBERS\n",
      "REGION_RATING_CLIENT\n",
      "REGION_RATING_CLIENT_W_CITY\n",
      "WEEKDAY_APPR_PROCESS_START\n",
      "HOUR_APPR_PROCESS_START\n",
      "REG_REGION_NOT_LIVE_REGION\n",
      "REG_REGION_NOT_WORK_REGION\n",
      "LIVE_REGION_NOT_WORK_REGION\n",
      "REG_CITY_NOT_LIVE_CITY\n",
      "REG_CITY_NOT_WORK_CITY\n",
      "LIVE_CITY_NOT_WORK_CITY\n",
      "ORGANIZATION_TYPE\n",
      "EXT_SOURCE_1\n",
      "EXT_SOURCE_2\n",
      "EXT_SOURCE_3\n",
      "APARTMENTS_AVG\n",
      "BASEMENTAREA_AVG\n",
      "YEARS_BEGINEXPLUATATION_AVG\n",
      "YEARS_BUILD_AVG\n",
      "COMMONAREA_AVG\n",
      "ELEVATORS_AVG\n",
      "ENTRANCES_AVG\n",
      "FLOORSMAX_AVG\n",
      "FLOORSMIN_AVG\n",
      "LANDAREA_AVG\n",
      "LIVINGAPARTMENTS_AVG\n",
      "LIVINGAREA_AVG\n",
      "NONLIVINGAPARTMENTS_AVG\n",
      "NONLIVINGAREA_AVG\n",
      "APARTMENTS_MODE\n",
      "BASEMENTAREA_MODE\n",
      "YEARS_BEGINEXPLUATATION_MODE\n",
      "YEARS_BUILD_MODE\n",
      "COMMONAREA_MODE\n",
      "ELEVATORS_MODE\n",
      "ENTRANCES_MODE\n",
      "FLOORSMAX_MODE\n",
      "FLOORSMIN_MODE\n",
      "LANDAREA_MODE\n",
      "LIVINGAPARTMENTS_MODE\n",
      "LIVINGAREA_MODE\n",
      "NONLIVINGAPARTMENTS_MODE\n",
      "NONLIVINGAREA_MODE\n",
      "APARTMENTS_MEDI\n",
      "BASEMENTAREA_MEDI\n",
      "YEARS_BEGINEXPLUATATION_MEDI\n",
      "YEARS_BUILD_MEDI\n",
      "COMMONAREA_MEDI\n",
      "ELEVATORS_MEDI\n",
      "ENTRANCES_MEDI\n",
      "FLOORSMAX_MEDI\n",
      "FLOORSMIN_MEDI\n",
      "LANDAREA_MEDI\n",
      "LIVINGAPARTMENTS_MEDI\n",
      "LIVINGAREA_MEDI\n",
      "NONLIVINGAPARTMENTS_MEDI\n",
      "NONLIVINGAREA_MEDI\n",
      "FONDKAPREMONT_MODE\n",
      "HOUSETYPE_MODE\n",
      "TOTALAREA_MODE\n",
      "WALLSMATERIAL_MODE\n",
      "EMERGENCYSTATE_MODE\n",
      "OBS_30_CNT_SOCIAL_CIRCLE\n",
      "DEF_30_CNT_SOCIAL_CIRCLE\n",
      "OBS_60_CNT_SOCIAL_CIRCLE\n",
      "DEF_60_CNT_SOCIAL_CIRCLE\n",
      "DAYS_LAST_PHONE_CHANGE\n",
      "FLAG_DOCUMENT_2\n",
      "FLAG_DOCUMENT_3\n",
      "FLAG_DOCUMENT_4\n",
      "FLAG_DOCUMENT_5\n",
      "FLAG_DOCUMENT_6\n",
      "FLAG_DOCUMENT_7\n",
      "FLAG_DOCUMENT_8\n",
      "FLAG_DOCUMENT_9\n",
      "FLAG_DOCUMENT_10\n",
      "FLAG_DOCUMENT_11\n",
      "FLAG_DOCUMENT_12\n",
      "FLAG_DOCUMENT_13\n",
      "FLAG_DOCUMENT_14\n",
      "FLAG_DOCUMENT_15\n",
      "FLAG_DOCUMENT_16\n",
      "FLAG_DOCUMENT_17\n",
      "FLAG_DOCUMENT_18\n",
      "FLAG_DOCUMENT_19\n",
      "FLAG_DOCUMENT_20\n",
      "FLAG_DOCUMENT_21\n",
      "AMT_REQ_CREDIT_BUREAU_HOUR\n",
      "AMT_REQ_CREDIT_BUREAU_DAY\n",
      "AMT_REQ_CREDIT_BUREAU_WEEK\n",
      "AMT_REQ_CREDIT_BUREAU_MON\n",
      "AMT_REQ_CREDIT_BUREAU_QRT\n",
      "AMT_REQ_CREDIT_BUREAU_YEAR\n"
     ]
    }
   ],
   "source": [
    "for column in app_train.columns:\n",
    "    print(column)"
   ]
  },
  {
   "cell_type": "markdown",
   "id": "07a862c9-e39b-42f0-9911-5eac2bbaedae",
   "metadata": {
    "jp-MarkdownHeadingCollapsed": true,
    "tags": []
   },
   "source": [
    "# Load other tables data"
   ]
  },
  {
   "cell_type": "code",
   "execution_count": 4,
   "id": "867c4566-0346-40fa-92c8-c9496f8f1fc7",
   "metadata": {},
   "outputs": [
    {
     "name": "stdout",
     "output_type": "stream",
     "text": [
      "Percentage of rows empty: \n",
      "\n",
      "SK_ID_CURR                 0.000000\n",
      "SK_ID_BUREAU               0.000000\n",
      "CREDIT_ACTIVE              0.000000\n",
      "CREDIT_CURRENCY            0.000000\n",
      "DAYS_CREDIT                0.000000\n",
      "CREDIT_DAY_OVERDUE         0.000000\n",
      "DAYS_CREDIT_ENDDATE        6.149573\n",
      "DAYS_ENDDATE_FACT         36.916958\n",
      "AMT_CREDIT_MAX_OVERDUE    65.513264\n",
      "CNT_CREDIT_PROLONG         0.000000\n",
      "AMT_CREDIT_SUM             0.000757\n",
      "AMT_CREDIT_SUM_DEBT       15.011932\n",
      "AMT_CREDIT_SUM_LIMIT      34.477415\n",
      "AMT_CREDIT_SUM_OVERDUE     0.000000\n",
      "CREDIT_TYPE                0.000000\n",
      "DAYS_CREDIT_UPDATE         0.000000\n",
      "AMT_ANNUITY               71.473490\n",
      "dtype: float64\n",
      "Percentage of rows empty: \n",
      "\n",
      "SK_ID_BUREAU      0.0\n",
      "MONTHS_BALANCE    0.0\n",
      "STATUS            0.0\n",
      "dtype: float64\n",
      "0.000000       304219\n",
      "10.606602          21\n",
      "13.416408          20\n",
      "11.338934          18\n",
      "15.000000          17\n",
      "                ...  \n",
      "8.043153            1\n",
      "1395.121679         1\n",
      "39.600084           1\n",
      "121.622366          1\n",
      "33.941125           1\n",
      "Name: std_days_overdue_on_one_credit, Length: 963, dtype: int64\n",
      "0.000          304139\n",
      "4.500             117\n",
      "9.000              34\n",
      "13.500             33\n",
      "22.500             31\n",
      "                ...  \n",
      "948.060             1\n",
      "516.060             1\n",
      "1044.000            1\n",
      "2079509.895         1\n",
      "22581.000           1\n",
      "Name: total_amount_of_credit_overdue, Length: 714, dtype: int64\n",
      "0.000          304139\n",
      "4.500             117\n",
      "9.000              34\n",
      "13.500             33\n",
      "22.500             31\n",
      "                ...  \n",
      "948.060             1\n",
      "516.060             1\n",
      "1044.000            1\n",
      "2079509.895         1\n",
      "22581.000           1\n",
      "Name: active_total_amount_of_credit_overdue, Length: 714, dtype: int64\n",
      "0     304868\n",
      "1        800\n",
      "2         97\n",
      "3         31\n",
      "4         10\n",
      "5          2\n",
      "7          1\n",
      "6          1\n",
      "10         1\n",
      "Name: number_of_income_generating_credits, dtype: int64\n",
      "0.000000    304868\n",
      "0.200000        92\n",
      "0.166667        83\n",
      "0.250000        83\n",
      "0.333333        80\n",
      "0.125000        71\n",
      "0.142857        65\n",
      "0.500000        61\n",
      "0.111111        55\n",
      "0.100000        40\n",
      "0.090909        31\n",
      "0.083333        31\n",
      "0.071429        27\n",
      "0.076923        25\n",
      "1.000000        20\n",
      "0.066667        19\n",
      "0.062500        19\n",
      "0.055556        13\n",
      "0.222222        11\n",
      "0.400000        11\n",
      "0.058824        10\n",
      "0.666667         9\n",
      "0.050000         8\n",
      "0.285714         8\n",
      "0.181818         7\n",
      "0.052632         5\n",
      "0.047619         4\n",
      "0.375000         4\n",
      "0.095238         4\n",
      "0.428571         3\n",
      "0.133333         3\n",
      "0.153846         3\n",
      "0.045455         3\n",
      "0.037037         3\n",
      "0.300000         3\n",
      "0.600000         2\n",
      "0.041667         2\n",
      "0.117647         2\n",
      "0.136364         2\n",
      "0.030303         1\n",
      "0.033333         1\n",
      "0.272727         1\n",
      "0.571429         1\n",
      "0.157895         1\n",
      "0.260870         1\n",
      "0.029412         1\n",
      "0.444444         1\n",
      "0.294118         1\n",
      "0.023256         1\n",
      "0.086957         1\n",
      "0.210526         1\n",
      "0.032258         1\n",
      "0.031250         1\n",
      "0.187500         1\n",
      "0.105263         1\n",
      "0.214286         1\n",
      "0.043478         1\n",
      "0.269231         1\n",
      "0.040000         1\n",
      "0.038462         1\n",
      "Name: share_of_income_generating_credits, dtype: int64\n"
     ]
    }
   ],
   "source": [
    "%run ./lennard/bureau_data_prep.ipynb\n",
    "# final df name: bureau_reduced"
   ]
  },
  {
   "cell_type": "code",
   "execution_count": 5,
   "id": "613146bc-7707-460c-b856-5640eb3a81b7",
   "metadata": {},
   "outputs": [
    {
     "data": {
      "text/html": [
       "<style>.container { width:100% !important; }</style>"
      ],
      "text/plain": [
       "<IPython.core.display.HTML object>"
      ]
     },
     "metadata": {},
     "output_type": "display_data"
    },
    {
     "data": {
      "image/png": "[encoded data removed]",
      "text/plain": [
       "<Figure size 432x288 with 1 Axes>"
      ]
     },
     "metadata": {
      "needs_background": "light"
     },
     "output_type": "display_data"
    },
    {
     "data": {
      "image/png": "[encoded data removed]",
      "text/plain": [
       "<Figure size 432x288 with 1 Axes>"
      ]
     },
     "metadata": {
      "needs_background": "light"
     },
     "output_type": "display_data"
    },
    {
     "data": {
      "image/png": "[encoded data removed]",
      "text/plain": [
       "<Figure size 432x288 with 1 Axes>"
      ]
     },
     "metadata": {
      "needs_background": "light"
     },
     "output_type": "display_data"
    },
    {
     "data": {
      "image/png": "[encoded data removed]",
      "text/plain": [
       "<Figure size 432x288 with 1 Axes>"
      ]
     },
     "metadata": {
      "needs_background": "light"
     },
     "output_type": "display_data"
    },
    {
     "data": {
      "image/png": "[encoded data removed]",
      "text/plain": [
       "<Figure size 432x288 with 1 Axes>"
      ]
     },
     "metadata": {
      "needs_background": "light"
     },
     "output_type": "display_data"
    },
    {
     "name": "stdout",
     "output_type": "stream",
     "text": [
      "SK_DPD                  0\n",
      "AMT_RECEIVABLE_RAT      0\n",
      "MIN_INST_PAYMENT_RAT    0\n",
      "dtype: int64\n",
      " \n",
      "(101989, 3)\n"
     ]
    }
   ],
   "source": [
    "%run ./credit_card_bora.ipynb\n",
    "# final df name: df_ccard_agg"
   ]
  },
  {
   "cell_type": "code",
   "execution_count": 6,
   "id": "381b0898-9f29-49e5-8fc4-276811e6942e",
   "metadata": {},
   "outputs": [
    {
     "name": "stdout",
     "output_type": "stream",
     "text": [
      "Done aggregating.\n"
     ]
    },
    {
     "data": {
      "image/png": "[encoded data removed]",
      "text/plain": [
       "<Figure size 1080x864 with 2 Axes>"
      ]
     },
     "metadata": {
      "needs_background": "light"
     },
     "output_type": "display_data"
    }
   ],
   "source": [
    "%run ./Prev_application_table.ipynb\n",
    "# final df name: df_aggregated"
   ]
  },
  {
   "cell_type": "code",
   "execution_count": 7,
   "id": "60c442c2-17ec-4b1e-a90c-86573561cc2e",
   "metadata": {},
   "outputs": [],
   "source": [
    "%run ./kahmin/installments_payments_data_aggregation_time_optimised.ipynb\n",
    "# final df name: df_curr_level"
   ]
  },
  {
   "cell_type": "markdown",
   "id": "165e0959-8783-49e9-b8a1-7b9486022bdf",
   "metadata": {
    "jp-MarkdownHeadingCollapsed": true,
    "tags": []
   },
   "source": [
    "# Join data files"
   ]
  },
  {
   "cell_type": "markdown",
   "id": "2acbf833-6c08-4705-93f3-fe918c20bcda",
   "metadata": {
    "jp-MarkdownHeadingCollapsed": true,
    "tags": []
   },
   "source": [
    "### Add bureau data"
   ]
  },
  {
   "cell_type": "code",
   "execution_count": 8,
   "id": "fce5e687-b90b-4da7-b0eb-be8da9b71988",
   "metadata": {},
   "outputs": [],
   "source": [
    "bureau_reduced.columns = [\"SK_ID_CURR\", *list(bureau_reduced.columns + \"_bureau\")[1:]]\n",
    "app_train = app_train.merge(bureau_reduced, on = \"SK_ID_CURR\", how = \"left\")"
   ]
  },
  {
   "cell_type": "markdown",
   "id": "31fda20a-c8e5-479c-9b19-ad33749158c6",
   "metadata": {
    "jp-MarkdownHeadingCollapsed": true,
    "tags": []
   },
   "source": [
    "### Add credit card data"
   ]
  },
  {
   "cell_type": "code",
   "execution_count": 9,
   "id": "ff47c359-f6a5-4bf9-894a-ff813232208c",
   "metadata": {},
   "outputs": [],
   "source": [
    "df_ccard_agg.columns = [\"SK_ID_CURR\", *list(df_ccard_agg.columns + \"_creditcard\")[1:]]\n",
    "app_train = app_train.merge(df_ccard_agg, on = \"SK_ID_CURR\", how = \"left\")"
   ]
  },
  {
   "cell_type": "markdown",
   "id": "f8ad5d88-11af-4767-859b-5b8358407f02",
   "metadata": {
    "jp-MarkdownHeadingCollapsed": true,
    "tags": []
   },
   "source": [
    "### Add installment data"
   ]
  },
  {
   "cell_type": "code",
   "execution_count": 10,
   "id": "1b8fca8c-1c27-4446-8f81-1770f567efee",
   "metadata": {},
   "outputs": [],
   "source": [
    "df_aggregated = df_aggregated.reset_index()\n",
    "df_aggregated.columns = [\"SK_ID_CURR\", *list(df_aggregated.columns + \"_installments\")[1:]]\n",
    "app_train = app_train.merge(df_aggregated, on = \"SK_ID_CURR\", how = \"left\")"
   ]
  },
  {
   "cell_type": "markdown",
   "id": "c7259788-2762-40e8-83b4-0a0c9cd3dcdd",
   "metadata": {
    "jp-MarkdownHeadingCollapsed": true,
    "tags": []
   },
   "source": [
    "### Add installment payments data"
   ]
  },
  {
   "cell_type": "code",
   "execution_count": 11,
   "id": "2047105d-d117-41df-8494-83c5dc3b7293",
   "metadata": {},
   "outputs": [],
   "source": [
    "df_curr_level = df_curr_level.reset_index()\n",
    "df_curr_level.columns = [\"SK_ID_CURR\", *['_'.join(d) for d in df_curr_level.columns][1:]]\n",
    "app_train = app_train.merge(df_curr_level, on = \"SK_ID_CURR\", how = \"left\")"
   ]
  },
  {
   "cell_type": "markdown",
   "id": "6437153c-2ea4-4a9a-9745-9a3569dfb585",
   "metadata": {
    "jp-MarkdownHeadingCollapsed": true,
    "tags": []
   },
   "source": [
    "### Quick check"
   ]
  },
  {
   "cell_type": "code",
   "execution_count": 12,
   "id": "ae48ac2d-75e7-4604-b3dd-43cf6835804d",
   "metadata": {},
   "outputs": [
    {
     "data": {
      "text/plain": [
       "SK_ID_CURR                   0\n",
       "TARGET                       0\n",
       "NAME_CONTRACT_TYPE           0\n",
       "CODE_GENDER                  0\n",
       "FLAG_OWN_CAR                 0\n",
       "                         ...  \n",
       "AMT_PAYMENT_std          16564\n",
       "AMT_PAYMENT_sum          15868\n",
       "MEAN_DAYS_LATE_          15876\n",
       "MONEY_OWED_              15868\n",
       "PERC_INSTALMENT_OWED_    15868\n",
       "Length: 159, dtype: int64"
      ]
     },
     "execution_count": 12,
     "metadata": {},
     "output_type": "execute_result"
    }
   ],
   "source": [
    "app_train.isna().sum()"
   ]
  },
  {
   "cell_type": "markdown",
   "id": "0df803cf-bdbb-4278-bf2d-b523615f1d15",
   "metadata": {},
   "source": [
    "### Some additional variables"
   ]
  },
  {
   "cell_type": "code",
   "execution_count": 13,
   "id": "ab7fd7ae-42e8-4eec-96da-63e0cff6cf20",
   "metadata": {},
   "outputs": [],
   "source": [
    "app_train['EXT_SOURCE_AVG'] = app_train[[\"EXT_SOURCE_1\", \"EXT_SOURCE_2\", \"EXT_SOURCE_3\"]].mean(axis=1)\n",
    "app_train['EXT_SOURCE_AVG'] = app_train['EXT_SOURCE_AVG'].fillna(0)"
   ]
  },
  {
   "cell_type": "code",
   "execution_count": 14,
   "id": "907cebce-db4b-42e0-9da3-e992dc1fdcb2",
   "metadata": {},
   "outputs": [],
   "source": [
    "app_train[\"DEF_60_CNT_SOCIAL_CIRCLE\"] = [1 if d > 0 else 0 for d in app_train[\"DEF_60_CNT_SOCIAL_CIRCLE\"]]"
   ]
  },
  {
   "cell_type": "markdown",
   "id": "dc3e26d2",
   "metadata": {
    "jp-MarkdownHeadingCollapsed": true,
    "tags": []
   },
   "source": [
    "# Split data"
   ]
  },
  {
   "cell_type": "code",
   "execution_count": 15,
   "id": "aa4c6cf6",
   "metadata": {},
   "outputs": [],
   "source": [
    "X = app_train\n",
    "y = app_train[\"TARGET\"]\n",
    "\n",
    "X_train, X_test, y_train, y_test = train_test_split(X, y,\n",
    "                                                    random_state=84,\n",
    "                                                    stratify = X[[\"TARGET\"]])"
   ]
  },
  {
   "cell_type": "code",
   "execution_count": 16,
   "id": "a115ca3c",
   "metadata": {},
   "outputs": [
    {
     "data": {
      "text/plain": [
       "((230633, 160), (230633,))"
      ]
     },
     "execution_count": 16,
     "metadata": {},
     "output_type": "execute_result"
    }
   ],
   "source": [
    "X_train.shape, y_train.shape"
   ]
  },
  {
   "cell_type": "code",
   "execution_count": 17,
   "id": "984c921e",
   "metadata": {},
   "outputs": [
    {
     "data": {
      "text/plain": [
       "((76878, 160), (76878,))"
      ]
     },
     "execution_count": 17,
     "metadata": {},
     "output_type": "execute_result"
    }
   ],
   "source": [
    "X_test.shape, y_test.shape"
   ]
  },
  {
   "cell_type": "markdown",
   "id": "35053c32",
   "metadata": {
    "jp-MarkdownHeadingCollapsed": true,
    "tags": []
   },
   "source": [
    "# Pre-process"
   ]
  },
  {
   "cell_type": "markdown",
   "id": "0415d236",
   "metadata": {
    "tags": []
   },
   "source": [
    "### Custom functions for some variables"
   ]
  },
  {
   "cell_type": "code",
   "execution_count": 18,
   "id": "85b77cd5",
   "metadata": {},
   "outputs": [],
   "source": [
    "def abs_log(a):\n",
    "    \"\"\"\n",
    "    This function takes the absolute value and then applies a log transformation. Absolute\n",
    "    values are necessary as the values are negative and log transformation coult not be \n",
    "    applied. Log transformation is applied to make the variables more normally distributed\n",
    "    while keeping ease of interpretation.\n",
    "    \"\"\"\n",
    "    a = a.iloc[:, 0]\n",
    "    a = abs(a)\n",
    "    a = np.log(a)\n",
    "    a = np.array(a).reshape(-1, 1)\n",
    "    return a"
   ]
  },
  {
   "cell_type": "code",
   "execution_count": 19,
   "id": "a1a6e298",
   "metadata": {},
   "outputs": [],
   "source": [
    "def winsorize_and_log(a):\n",
    "    \"\"\"\n",
    "    This function winsorizes at 1% and 99% of the distribution to handle outliers which are \n",
    "    clearly wrong and not reduce the sample size. A log of the variable is taken after \n",
    "    winsorizing to get the distribution closer to a normal distribution while keeping ease\n",
    "    of interpretation.\n",
    "    \"\"\"\n",
    "    a = a.iloc[:, 0]\n",
    "    a = winsorize(a, limits = [.01, .01])\n",
    "    a = np.log(a)\n",
    "    a = np.array(a).reshape(-1, 1)\n",
    "    return a"
   ]
  },
  {
   "cell_type": "code",
   "execution_count": 20,
   "id": "c8cce158",
   "metadata": {},
   "outputs": [],
   "source": [
    "def categorize_education_type(a):\n",
    "    \"\"\"\n",
    "    This function splits people into having higher education or not. This is done to reduce the\n",
    "    amount of categories while still being meaningful.\n",
    "    \"\"\"\n",
    "    a = a.iloc[:, 0]\n",
    "    b = (\"Secondary / secondary special\", \"Lower secondary\")\n",
    "    a = [1 if d in b else 0 for d in a]\n",
    "    a = np.array(a).reshape(-1, 1)\n",
    "    return a"
   ]
  },
  {
   "cell_type": "code",
   "execution_count": 21,
   "id": "ec2b0adf",
   "metadata": {},
   "outputs": [],
   "source": [
    "def categorize_income_type(a):\n",
    "    \"\"\"\n",
    "    This function splits people into being active workers or not. Grouping is necessary here as \n",
    "    otherwise we would need to delete the Maternity leave/Businessman group as there are very few\n",
    "    observations for these categories. When doing the split, these categories cause issues.\n",
    "    \"\"\"\n",
    "    a = a.iloc[:, 0]\n",
    "    b = (\"Working\", \"Commercial associate\", \"State servant\", \"Businessman\")\n",
    "    a = [1 if d in b else 0 for d in a]\n",
    "    a = np.array(a).reshape(-1, 1)\n",
    "    return a"
   ]
  },
  {
   "cell_type": "code",
   "execution_count": 22,
   "id": "9c4f2a06",
   "metadata": {},
   "outputs": [],
   "source": [
    "def categorize_family_status(a):\n",
    "    \"\"\"\n",
    "    This function splits people into being alone or not. Grouping is necessary here as otherwise \n",
    "    we would need to delete the Unknown group as there are only 2 observations for that category.\n",
    "    When doing the split, this very small category causes issues.\n",
    "    \"\"\"\n",
    "    a = a.iloc[:, 0]\n",
    "    b = (\"Married\", \"Civil marriage\")\n",
    "    a = [1 if d in b else 0 for d in a]\n",
    "    a = np.array(a).reshape(-1, 1)\n",
    "    return a"
   ]
  },
  {
   "cell_type": "markdown",
   "id": "39669257",
   "metadata": {
    "tags": []
   },
   "source": [
    "### Column transformations"
   ]
  },
  {
   "cell_type": "code",
   "execution_count": 23,
   "id": "0fee80ac",
   "metadata": {},
   "outputs": [],
   "source": [
    "ct = ColumnTransformer(\n",
    "    [\n",
    "        ( # Bora, Maha\n",
    "            \"dummies\", OneHotEncoder(), \n",
    "            [\"NAME_HOUSING_TYPE\", \"NAME_CONTRACT_TYPE\"]\n",
    "        ), \n",
    "        \n",
    "        ( # Bora\n",
    "            \"logs\", FunctionTransformer(np.log), \n",
    "             [\"AMT_ANNUITY\"]\n",
    "        ), \n",
    "        \n",
    "        ( # Kahmin\n",
    "            \"abs_logs\", FunctionTransformer(abs_log), \n",
    "             [\"DAYS_BIRTH\"]\n",
    "        ), \n",
    "        \n",
    "        ( # Maha\n",
    "            \"winsorized_log\", FunctionTransformer(winsorize_and_log), \n",
    "            [\"AMT_INCOME_TOTAL\"]\n",
    "        ),\n",
    "        \n",
    "        ( # Lennard\n",
    "            \"higher_education\", FunctionTransformer(categorize_education_type), \n",
    "            [\"NAME_EDUCATION_TYPE\"]\n",
    "        ), \n",
    "        \n",
    "        ( # Kahmin\n",
    "            \"is_alone\", FunctionTransformer(categorize_family_status), \n",
    "            [\"NAME_FAMILY_STATUS\"]\n",
    "        ), \n",
    "        \n",
    "        ( # Sailan\n",
    "            \"active_employment\", FunctionTransformer(categorize_income_type), \n",
    "            [\"NAME_INCOME_TYPE\"]\n",
    "        ), \n",
    "        \n",
    "        ( # Sailan\n",
    "            \"minmax\", MinMaxScaler(),\n",
    "            [\"AMT_CREDIT\"]\n",
    "        ), \n",
    "        \n",
    "        ( # Kahmin\n",
    "            \"passthroughs\", \"passthrough\",\n",
    "            [\"CNT_FAM_MEMBERS\", \"EXT_SOURCE_AVG\", \"DEF_60_CNT_SOCIAL_CIRCLE\"]\n",
    "        ), \n",
    "        \n",
    "        ( # bureau\n",
    "            \"bureau_variables\", \"passthrough\",\n",
    "            bureau_reduced.columns[1:]\n",
    "        ),\n",
    "        \n",
    "        ( # credit cards\n",
    "            \"ccards\", \"passthrough\",\n",
    "            df_ccard_agg.columns[1:]\n",
    "        ),\n",
    "        \n",
    "        ( # installments\n",
    "            \"installments\", \"passthrough\",\n",
    "            df_aggregated.columns[1:]\n",
    "        ),\n",
    "        \n",
    "        ( # installment payments\n",
    "            \"installment_payments\", \"passthrough\",\n",
    "            df_curr_level.columns[1:]\n",
    "        ),\n",
    "        \n",
    "    ]\n",
    ")"
   ]
  },
  {
   "cell_type": "code",
   "execution_count": 24,
   "id": "37408fcf-626e-4c6a-a9c2-2538425dff04",
   "metadata": {},
   "outputs": [
    {
     "data": {
      "text/plain": [
       "Index(['SK_ID_CURR', 'TARGET', 'NAME_CONTRACT_TYPE', 'CODE_GENDER',\n",
       "       'FLAG_OWN_CAR', 'FLAG_OWN_REALTY', 'CNT_CHILDREN', 'AMT_INCOME_TOTAL',\n",
       "       'AMT_CREDIT', 'AMT_ANNUITY',\n",
       "       ...\n",
       "       'DAYS_ENTRY_PAYMENT_mean', 'DAYS_INSTALMENT_mean', 'AMT_INSTALMENT_sum',\n",
       "       'AMT_INSTALMENT_mean', 'AMT_PAYMENT_std', 'AMT_PAYMENT_sum',\n",
       "       'MEAN_DAYS_LATE_', 'MONEY_OWED_', 'PERC_INSTALMENT_OWED_',\n",
       "       'EXT_SOURCE_AVG'],\n",
       "      dtype='object', length=160)"
      ]
     },
     "execution_count": 24,
     "metadata": {},
     "output_type": "execute_result"
    }
   ],
   "source": [
    "X_train.columns"
   ]
  },
  {
   "cell_type": "code",
   "execution_count": 25,
   "id": "1b281470",
   "metadata": {},
   "outputs": [],
   "source": [
    "X_train_processed = pd.DataFrame(ct.fit_transform(X_train))\n",
    "X_test_processed = pd.DataFrame(ct.fit_transform(X_test))"
   ]
  },
  {
   "cell_type": "code",
   "execution_count": 26,
   "id": "ce22074e",
   "metadata": {},
   "outputs": [
    {
     "data": {
      "text/plain": [
       "((230633, 55), (76878, 55))"
      ]
     },
     "execution_count": 26,
     "metadata": {},
     "output_type": "execute_result"
    }
   ],
   "source": [
    "X_train_processed.shape, X_test_processed.shape"
   ]
  },
  {
   "cell_type": "markdown",
   "id": "6cf56702",
   "metadata": {
    "jp-MarkdownHeadingCollapsed": true,
    "tags": []
   },
   "source": [
    "### Prepare y-vector"
   ]
  },
  {
   "cell_type": "code",
   "execution_count": 27,
   "id": "9a4b1346",
   "metadata": {},
   "outputs": [],
   "source": [
    "y_train_processed = y_train.reset_index(drop=True)\n",
    "y_test_processed = y_test.reset_index(drop=True)"
   ]
  },
  {
   "cell_type": "code",
   "execution_count": 28,
   "id": "736d7f12",
   "metadata": {},
   "outputs": [
    {
     "data": {
      "text/plain": [
       "((230633,), (76878,))"
      ]
     },
     "execution_count": 28,
     "metadata": {},
     "output_type": "execute_result"
    }
   ],
   "source": [
    "y_train_processed.shape, y_test_processed.shape"
   ]
  },
  {
   "cell_type": "markdown",
   "id": "109893c4",
   "metadata": {
    "jp-MarkdownHeadingCollapsed": true,
    "tags": []
   },
   "source": [
    "# Clean"
   ]
  },
  {
   "cell_type": "markdown",
   "id": "5c013f02",
   "metadata": {
    "jp-MarkdownHeadingCollapsed": true,
    "tags": []
   },
   "source": [
    "### Correct for remaining missing values"
   ]
  },
  {
   "cell_type": "code",
   "execution_count": 29,
   "id": "1e7c68da",
   "metadata": {},
   "outputs": [],
   "source": [
    "index_train = (X_train_processed.isna().sum(axis=1)) | (y_train.isna())\n",
    "index_test = (X_test_processed.isna().sum(axis=1)) | (y_test.isna())"
   ]
  },
  {
   "cell_type": "code",
   "execution_count": 30,
   "id": "bc1ac069",
   "metadata": {},
   "outputs": [],
   "source": [
    "X_train_processed_cleaned = X_train_processed[-index_train]\n",
    "y_train_processed_cleaned = y_train_processed[-index_train]\n",
    "\n",
    "X_test_processed_cleaned = X_test_processed[-index_test]\n",
    "y_test_processed_cleaned = y_test_processed[-index_test]"
   ]
  },
  {
   "cell_type": "code",
   "execution_count": 31,
   "id": "fdf7d13e",
   "metadata": {},
   "outputs": [
    {
     "data": {
      "text/plain": [
       "((21106, 55), (7009, 55))"
      ]
     },
     "execution_count": 31,
     "metadata": {},
     "output_type": "execute_result"
    }
   ],
   "source": [
    "X_train_processed_cleaned.shape, X_test_processed_cleaned.shape"
   ]
  },
  {
   "cell_type": "code",
   "execution_count": 32,
   "id": "7371b4d4",
   "metadata": {},
   "outputs": [
    {
     "data": {
      "text/plain": [
       "((21106,), (7009,))"
      ]
     },
     "execution_count": 32,
     "metadata": {},
     "output_type": "execute_result"
    }
   ],
   "source": [
    "y_train_processed_cleaned.shape, y_test_processed_cleaned.shape"
   ]
  },
  {
   "cell_type": "markdown",
   "id": "f7d45831-9488-4bb1-a70a-3a320e1eb403",
   "metadata": {
    "jp-MarkdownHeadingCollapsed": true,
    "tags": []
   },
   "source": [
    "# Name all features in the dataset"
   ]
  },
  {
   "cell_type": "code",
   "execution_count": 33,
   "id": "bfe97e12-5fb0-4710-a1bd-f714581958fb",
   "metadata": {},
   "outputs": [
    {
     "data": {
      "text/plain": [
       "['housing_type_dummy_0',\n",
       " 'housing_type_dummy_1',\n",
       " 'housing_type_dummy_2',\n",
       " 'housing_type_dummy_3',\n",
       " 'housing_type_dummy_4',\n",
       " 'housing_type_dummy_5',\n",
       " 'contract_type_dummy_0',\n",
       " 'contract_type_dummy_1',\n",
       " 'AMT_ANNUITY',\n",
       " 'DAYS_BIRTH',\n",
       " 'AMT_INCOME_TOTAL',\n",
       " 'NAME_EDUCATION_TYPE',\n",
       " 'NAME_FAMILY_STATUS',\n",
       " 'NAME_INCOME_TYPE',\n",
       " 'AMT_CREDIT',\n",
       " 'CNT_FAM_MEMBERS',\n",
       " 'EXT_SOURCE_AVG',\n",
       " 'DEF_60_CNT_SOCIAL_CIRCLE',\n",
       " 'number_of_credits_registered_bureau',\n",
       " 'share_of_active_credits_of_total_credits_bureau',\n",
       " 'last_credit_application_before_mortgage_bureau',\n",
       " 'std_days_overdue_on_one_credit_bureau',\n",
       " 'total_amount_of_credit_taken_bureau',\n",
       " 'active_total_amount_of_credit_taken_bureau',\n",
       " 'total_amount_of_credit_overdue_bureau',\n",
       " 'active_total_amount_of_credit_overdue_bureau',\n",
       " 'number_of_income_generating_credits_bureau',\n",
       " 'issues_last_year_bureau',\n",
       " 'share_of_income_generating_credits_bureau',\n",
       " 'SK_DPD_creditcard',\n",
       " 'AMT_RECEIVABLE_RAT_creditcard',\n",
       " 'MIN_INST_PAYMENT_RAT_creditcard',\n",
       " 'AMT_ANNUITY_last_installments',\n",
       " 'AMT_APPLICATION_last_installments',\n",
       " 'AMT_CREDIT_last_installments',\n",
       " 'AMT_DOWN_PAYMENT_last_installments',\n",
       " 'AMT_GOODS_PRICE_last_installments',\n",
       " 'application_to_credit_ratio_installments',\n",
       " 'credit_collateral_installments',\n",
       " 'amortization_rate_installments',\n",
       " 'DAYS_DECISION_installments',\n",
       " 'CNT_PAYMENT_installments',\n",
       " 'has_been_rejected_before_installments',\n",
       " 'repeated_customer_installments',\n",
       " 'high_yield_installments',\n",
       " 'cash_product_installments',\n",
       " 'DAYS_ENTRY_PAYMENT_mean',\n",
       " 'DAYS_INSTALMENT_mean',\n",
       " 'AMT_INSTALMENT_sum',\n",
       " 'AMT_INSTALMENT_mean',\n",
       " 'AMT_PAYMENT_std',\n",
       " 'AMT_PAYMENT_sum',\n",
       " 'MEAN_DAYS_LATE_',\n",
       " 'MONEY_OWED_',\n",
       " 'PERC_INSTALMENT_OWED_']"
      ]
     },
     "execution_count": 33,
     "metadata": {},
     "output_type": "execute_result"
    }
   ],
   "source": [
    "all_column_names = [\n",
    "    *[f\"housing_type_dummy_{i}\" for i in range(X_train.NAME_HOUSING_TYPE.nunique())],\n",
    "    *[f\"contract_type_dummy_{i}\" for i in range(X_train.NAME_CONTRACT_TYPE.nunique())],\n",
    "    \"AMT_ANNUITY\",\n",
    "    \"DAYS_BIRTH\",\n",
    "    \"AMT_INCOME_TOTAL\",\n",
    "    \"NAME_EDUCATION_TYPE\",\n",
    "    \"NAME_FAMILY_STATUS\",\n",
    "    \"NAME_INCOME_TYPE\",\n",
    "    \"AMT_CREDIT\",\n",
    "    \"CNT_FAM_MEMBERS\",\n",
    "    \"EXT_SOURCE_AVG\",\n",
    "    \"DEF_60_CNT_SOCIAL_CIRCLE\",\n",
    "    *list(bureau_reduced.columns[1:]),\n",
    "    *list(df_ccard_agg.columns[1:]),\n",
    "    *list(df_aggregated.columns[1:]),\n",
    "    *list(df_curr_level.columns[1:]),\n",
    "]\n",
    "all_column_names"
   ]
  },
  {
   "cell_type": "code",
   "execution_count": 34,
   "id": "f2e8374f-31e5-4650-80e7-bca08a68027a",
   "metadata": {},
   "outputs": [],
   "source": [
    "X_train_processed_cleaned.columns = all_column_names\n",
    "X_test_processed_cleaned.columns = all_column_names"
   ]
  },
  {
   "cell_type": "markdown",
   "id": "0cba6765-45ac-45cf-9e30-050466b2b65f",
   "metadata": {
    "jp-MarkdownHeadingCollapsed": true,
    "tags": []
   },
   "source": [
    "# Selection of important variables"
   ]
  },
  {
   "cell_type": "code",
   "execution_count": 42,
   "id": "b616e44e-d61d-45b5-99f7-bb6e9ed88547",
   "metadata": {},
   "outputs": [],
   "source": [
    "def get_f_stats():\n",
    "    X_best = f_classif(X_train_processed_cleaned, \n",
    "                       y_train_processed_cleaned)\n",
    "    X_best = pd.DataFrame(X_best)\n",
    "    X_best.columns = all_column_names\n",
    "    X_best = X_best.T\n",
    "    X_best.columns = [\"F-stat\", \"p-value\"]\n",
    "    return X_best"
   ]
  },
  {
   "cell_type": "code",
   "execution_count": 47,
   "id": "364d4889",
   "metadata": {},
   "outputs": [],
   "source": [
    "def select_best_vars(X_best):\n",
    "    X_best = X_best[X_best[\"F-stat\"] >= 40].sort_values(\"F-stat\", ascending = False)\n",
    "    return list(X_best.index)"
   ]
  },
  {
   "cell_type": "code",
   "execution_count": 49,
   "id": "c02c7d74-e2f3-4db5-b87a-8cdd939e940f",
   "metadata": {},
   "outputs": [
    {
     "data": {
      "text/plain": [
       "['EXT_SOURCE_AVG',\n",
       " 'DAYS_ENTRY_PAYMENT_mean',\n",
       " 'DAYS_INSTALMENT_mean',\n",
       " 'share_of_active_credits_of_total_credits_bureau',\n",
       " 'DAYS_BIRTH',\n",
       " 'DAYS_DECISION_installments',\n",
       " 'last_credit_application_before_mortgage_bureau',\n",
       " 'MIN_INST_PAYMENT_RAT_creditcard',\n",
       " 'amortization_rate_installments',\n",
       " 'credit_collateral_installments',\n",
       " 'total_amount_of_credit_overdue_bureau',\n",
       " 'active_total_amount_of_credit_overdue_bureau',\n",
       " 'CNT_PAYMENT_installments',\n",
       " 'NAME_INCOME_TYPE']"
      ]
     },
     "execution_count": 49,
     "metadata": {},
     "output_type": "execute_result"
    }
   ],
   "source": [
    "f_stats = get_f_stats()\n",
    "best_vars = select_best_vars(f_stats)\n",
    "best_vars"
   ]
  },
  {
   "cell_type": "code",
   "execution_count": 55,
   "id": "47b6acdc",
   "metadata": {},
   "outputs": [
    {
     "data": {
      "text/html": [
       "<div>\n",
       "<style scoped>\n",
       "    .dataframe tbody tr th:only-of-type {\n",
       "        vertical-align: middle;\n",
       "    }\n",
       "\n",
       "    .dataframe tbody tr th {\n",
       "        vertical-align: top;\n",
       "    }\n",
       "\n",
       "    .dataframe thead th {\n",
       "        text-align: right;\n",
       "    }\n",
       "</style>\n",
       "<table border=\"1\" class=\"dataframe\">\n",
       "  <thead>\n",
       "    <tr style=\"text-align: right;\">\n",
       "      <th></th>\n",
       "      <th>F-stat</th>\n",
       "      <th>p-value</th>\n",
       "    </tr>\n",
       "  </thead>\n",
       "  <tbody>\n",
       "    <tr>\n",
       "      <th>EXT_SOURCE_AVG</th>\n",
       "      <td>1084.407640</td>\n",
       "      <td>5.874514e-232</td>\n",
       "    </tr>\n",
       "    <tr>\n",
       "      <th>DAYS_ENTRY_PAYMENT_mean</th>\n",
       "      <td>132.957548</td>\n",
       "      <td>1.141397e-30</td>\n",
       "    </tr>\n",
       "    <tr>\n",
       "      <th>DAYS_INSTALMENT_mean</th>\n",
       "      <td>130.723126</td>\n",
       "      <td>3.493227e-30</td>\n",
       "    </tr>\n",
       "    <tr>\n",
       "      <th>share_of_active_credits_of_total_credits_bureau</th>\n",
       "      <td>121.528273</td>\n",
       "      <td>3.495453e-28</td>\n",
       "    </tr>\n",
       "    <tr>\n",
       "      <th>DAYS_BIRTH</th>\n",
       "      <td>112.384563</td>\n",
       "      <td>3.425347e-26</td>\n",
       "    </tr>\n",
       "    <tr>\n",
       "      <th>DAYS_DECISION_installments</th>\n",
       "      <td>105.976908</td>\n",
       "      <td>8.538989e-25</td>\n",
       "    </tr>\n",
       "    <tr>\n",
       "      <th>last_credit_application_before_mortgage_bureau</th>\n",
       "      <td>105.449531</td>\n",
       "      <td>1.112788e-24</td>\n",
       "    </tr>\n",
       "    <tr>\n",
       "      <th>MIN_INST_PAYMENT_RAT_creditcard</th>\n",
       "      <td>70.875867</td>\n",
       "      <td>4.043676e-17</td>\n",
       "    </tr>\n",
       "    <tr>\n",
       "      <th>amortization_rate_installments</th>\n",
       "      <td>69.563340</td>\n",
       "      <td>7.848382e-17</td>\n",
       "    </tr>\n",
       "    <tr>\n",
       "      <th>credit_collateral_installments</th>\n",
       "      <td>68.297470</td>\n",
       "      <td>1.488100e-16</td>\n",
       "    </tr>\n",
       "    <tr>\n",
       "      <th>total_amount_of_credit_overdue_bureau</th>\n",
       "      <td>45.576762</td>\n",
       "      <td>1.505846e-11</td>\n",
       "    </tr>\n",
       "    <tr>\n",
       "      <th>active_total_amount_of_credit_overdue_bureau</th>\n",
       "      <td>45.576762</td>\n",
       "      <td>1.505846e-11</td>\n",
       "    </tr>\n",
       "    <tr>\n",
       "      <th>CNT_PAYMENT_installments</th>\n",
       "      <td>44.790503</td>\n",
       "      <td>2.247859e-11</td>\n",
       "    </tr>\n",
       "    <tr>\n",
       "      <th>NAME_INCOME_TYPE</th>\n",
       "      <td>43.719743</td>\n",
       "      <td>3.879931e-11</td>\n",
       "    </tr>\n",
       "    <tr>\n",
       "      <th>PERC_INSTALMENT_OWED_</th>\n",
       "      <td>38.849494</td>\n",
       "      <td>4.664448e-10</td>\n",
       "    </tr>\n",
       "    <tr>\n",
       "      <th>NAME_EDUCATION_TYPE</th>\n",
       "      <td>32.504336</td>\n",
       "      <td>1.205147e-08</td>\n",
       "    </tr>\n",
       "    <tr>\n",
       "      <th>has_been_rejected_before_installments</th>\n",
       "      <td>30.800756</td>\n",
       "      <td>2.893630e-08</td>\n",
       "    </tr>\n",
       "    <tr>\n",
       "      <th>MONEY_OWED_</th>\n",
       "      <td>25.822063</td>\n",
       "      <td>3.775782e-07</td>\n",
       "    </tr>\n",
       "    <tr>\n",
       "      <th>high_yield_installments</th>\n",
       "      <td>25.389736</td>\n",
       "      <td>4.722711e-07</td>\n",
       "    </tr>\n",
       "    <tr>\n",
       "      <th>AMT_CREDIT</th>\n",
       "      <td>20.796892</td>\n",
       "      <td>5.135276e-06</td>\n",
       "    </tr>\n",
       "    <tr>\n",
       "      <th>cash_product_installments</th>\n",
       "      <td>18.322477</td>\n",
       "      <td>1.873162e-05</td>\n",
       "    </tr>\n",
       "    <tr>\n",
       "      <th>housing_type_dummy_5</th>\n",
       "      <td>17.515472</td>\n",
       "      <td>2.861324e-05</td>\n",
       "    </tr>\n",
       "    <tr>\n",
       "      <th>MEAN_DAYS_LATE_</th>\n",
       "      <td>16.475945</td>\n",
       "      <td>4.944876e-05</td>\n",
       "    </tr>\n",
       "    <tr>\n",
       "      <th>AMT_DOWN_PAYMENT_last_installments</th>\n",
       "      <td>14.015217</td>\n",
       "      <td>1.818184e-04</td>\n",
       "    </tr>\n",
       "    <tr>\n",
       "      <th>housing_type_dummy_1</th>\n",
       "      <td>13.957705</td>\n",
       "      <td>1.874621e-04</td>\n",
       "    </tr>\n",
       "    <tr>\n",
       "      <th>AMT_CREDIT_last_installments</th>\n",
       "      <td>10.067480</td>\n",
       "      <td>1.511256e-03</td>\n",
       "    </tr>\n",
       "    <tr>\n",
       "      <th>DEF_60_CNT_SOCIAL_CIRCLE</th>\n",
       "      <td>9.759472</td>\n",
       "      <td>1.786426e-03</td>\n",
       "    </tr>\n",
       "    <tr>\n",
       "      <th>number_of_credits_registered_bureau</th>\n",
       "      <td>8.439803</td>\n",
       "      <td>3.674771e-03</td>\n",
       "    </tr>\n",
       "    <tr>\n",
       "      <th>CNT_FAM_MEMBERS</th>\n",
       "      <td>7.977205</td>\n",
       "      <td>4.741443e-03</td>\n",
       "    </tr>\n",
       "    <tr>\n",
       "      <th>AMT_APPLICATION_last_installments</th>\n",
       "      <td>6.874297</td>\n",
       "      <td>8.750693e-03</td>\n",
       "    </tr>\n",
       "    <tr>\n",
       "      <th>AMT_GOODS_PRICE_last_installments</th>\n",
       "      <td>6.874297</td>\n",
       "      <td>8.750693e-03</td>\n",
       "    </tr>\n",
       "    <tr>\n",
       "      <th>application_to_credit_ratio_installments</th>\n",
       "      <td>6.609339</td>\n",
       "      <td>1.015132e-02</td>\n",
       "    </tr>\n",
       "    <tr>\n",
       "      <th>AMT_PAYMENT_sum</th>\n",
       "      <td>5.998640</td>\n",
       "      <td>1.432499e-02</td>\n",
       "    </tr>\n",
       "    <tr>\n",
       "      <th>AMT_INCOME_TOTAL</th>\n",
       "      <td>4.117189</td>\n",
       "      <td>4.246207e-02</td>\n",
       "    </tr>\n",
       "    <tr>\n",
       "      <th>AMT_PAYMENT_std</th>\n",
       "      <td>3.055872</td>\n",
       "      <td>8.046034e-02</td>\n",
       "    </tr>\n",
       "    <tr>\n",
       "      <th>AMT_INSTALMENT_mean</th>\n",
       "      <td>2.941823</td>\n",
       "      <td>8.632793e-02</td>\n",
       "    </tr>\n",
       "    <tr>\n",
       "      <th>AMT_INSTALMENT_sum</th>\n",
       "      <td>2.334961</td>\n",
       "      <td>1.265132e-01</td>\n",
       "    </tr>\n",
       "    <tr>\n",
       "      <th>contract_type_dummy_1</th>\n",
       "      <td>2.159812</td>\n",
       "      <td>1.416769e-01</td>\n",
       "    </tr>\n",
       "    <tr>\n",
       "      <th>contract_type_dummy_0</th>\n",
       "      <td>2.159812</td>\n",
       "      <td>1.416769e-01</td>\n",
       "    </tr>\n",
       "    <tr>\n",
       "      <th>active_total_amount_of_credit_taken_bureau</th>\n",
       "      <td>1.884799</td>\n",
       "      <td>1.698043e-01</td>\n",
       "    </tr>\n",
       "    <tr>\n",
       "      <th>housing_type_dummy_0</th>\n",
       "      <td>1.871598</td>\n",
       "      <td>1.713068e-01</td>\n",
       "    </tr>\n",
       "    <tr>\n",
       "      <th>housing_type_dummy_4</th>\n",
       "      <td>1.696944</td>\n",
       "      <td>1.927024e-01</td>\n",
       "    </tr>\n",
       "    <tr>\n",
       "      <th>AMT_ANNUITY</th>\n",
       "      <td>1.132583</td>\n",
       "      <td>2.872371e-01</td>\n",
       "    </tr>\n",
       "    <tr>\n",
       "      <th>housing_type_dummy_2</th>\n",
       "      <td>1.050334</td>\n",
       "      <td>3.054418e-01</td>\n",
       "    </tr>\n",
       "    <tr>\n",
       "      <th>SK_DPD_creditcard</th>\n",
       "      <td>0.919310</td>\n",
       "      <td>3.376673e-01</td>\n",
       "    </tr>\n",
       "    <tr>\n",
       "      <th>AMT_RECEIVABLE_RAT_creditcard</th>\n",
       "      <td>0.810370</td>\n",
       "      <td>3.680210e-01</td>\n",
       "    </tr>\n",
       "    <tr>\n",
       "      <th>AMT_ANNUITY_last_installments</th>\n",
       "      <td>0.736865</td>\n",
       "      <td>3.906769e-01</td>\n",
       "    </tr>\n",
       "    <tr>\n",
       "      <th>share_of_income_generating_credits_bureau</th>\n",
       "      <td>0.653856</td>\n",
       "      <td>4.187464e-01</td>\n",
       "    </tr>\n",
       "    <tr>\n",
       "      <th>repeated_customer_installments</th>\n",
       "      <td>0.358473</td>\n",
       "      <td>5.493617e-01</td>\n",
       "    </tr>\n",
       "    <tr>\n",
       "      <th>housing_type_dummy_3</th>\n",
       "      <td>0.348056</td>\n",
       "      <td>5.552222e-01</td>\n",
       "    </tr>\n",
       "    <tr>\n",
       "      <th>total_amount_of_credit_taken_bureau</th>\n",
       "      <td>0.250244</td>\n",
       "      <td>6.169082e-01</td>\n",
       "    </tr>\n",
       "    <tr>\n",
       "      <th>number_of_income_generating_credits_bureau</th>\n",
       "      <td>0.192526</td>\n",
       "      <td>6.608267e-01</td>\n",
       "    </tr>\n",
       "    <tr>\n",
       "      <th>NAME_FAMILY_STATUS</th>\n",
       "      <td>0.049294</td>\n",
       "      <td>8.242990e-01</td>\n",
       "    </tr>\n",
       "    <tr>\n",
       "      <th>std_days_overdue_on_one_credit_bureau</th>\n",
       "      <td>0.017063</td>\n",
       "      <td>8.960716e-01</td>\n",
       "    </tr>\n",
       "    <tr>\n",
       "      <th>issues_last_year_bureau</th>\n",
       "      <td>NaN</td>\n",
       "      <td>NaN</td>\n",
       "    </tr>\n",
       "  </tbody>\n",
       "</table>\n",
       "</div>"
      ],
      "text/plain": [
       "                                                      F-stat        p-value\n",
       "EXT_SOURCE_AVG                                   1084.407640  5.874514e-232\n",
       "DAYS_ENTRY_PAYMENT_mean                           132.957548   1.141397e-30\n",
       "DAYS_INSTALMENT_mean                              130.723126   3.493227e-30\n",
       "share_of_active_credits_of_total_credits_bureau   121.528273   3.495453e-28\n",
       "DAYS_BIRTH                                        112.384563   3.425347e-26\n",
       "DAYS_DECISION_installments                        105.976908   8.538989e-25\n",
       "last_credit_application_before_mortgage_bureau    105.449531   1.112788e-24\n",
       "MIN_INST_PAYMENT_RAT_creditcard                    70.875867   4.043676e-17\n",
       "amortization_rate_installments                     69.563340   7.848382e-17\n",
       "credit_collateral_installments                     68.297470   1.488100e-16\n",
       "total_amount_of_credit_overdue_bureau              45.576762   1.505846e-11\n",
       "active_total_amount_of_credit_overdue_bureau       45.576762   1.505846e-11\n",
       "CNT_PAYMENT_installments                           44.790503   2.247859e-11\n",
       "NAME_INCOME_TYPE                                   43.719743   3.879931e-11\n",
       "PERC_INSTALMENT_OWED_                              38.849494   4.664448e-10\n",
       "NAME_EDUCATION_TYPE                                32.504336   1.205147e-08\n",
       "has_been_rejected_before_installments              30.800756   2.893630e-08\n",
       "MONEY_OWED_                                        25.822063   3.775782e-07\n",
       "high_yield_installments                            25.389736   4.722711e-07\n",
       "AMT_CREDIT                                         20.796892   5.135276e-06\n",
       "cash_product_installments                          18.322477   1.873162e-05\n",
       "housing_type_dummy_5                               17.515472   2.861324e-05\n",
       "MEAN_DAYS_LATE_                                    16.475945   4.944876e-05\n",
       "AMT_DOWN_PAYMENT_last_installments                 14.015217   1.818184e-04\n",
       "housing_type_dummy_1                               13.957705   1.874621e-04\n",
       "AMT_CREDIT_last_installments                       10.067480   1.511256e-03\n",
       "DEF_60_CNT_SOCIAL_CIRCLE                            9.759472   1.786426e-03\n",
       "number_of_credits_registered_bureau                 8.439803   3.674771e-03\n",
       "CNT_FAM_MEMBERS                                     7.977205   4.741443e-03\n",
       "AMT_APPLICATION_last_installments                   6.874297   8.750693e-03\n",
       "AMT_GOODS_PRICE_last_installments                   6.874297   8.750693e-03\n",
       "application_to_credit_ratio_installments            6.609339   1.015132e-02\n",
       "AMT_PAYMENT_sum                                     5.998640   1.432499e-02\n",
       "AMT_INCOME_TOTAL                                    4.117189   4.246207e-02\n",
       "AMT_PAYMENT_std                                     3.055872   8.046034e-02\n",
       "AMT_INSTALMENT_mean                                 2.941823   8.632793e-02\n",
       "AMT_INSTALMENT_sum                                  2.334961   1.265132e-01\n",
       "contract_type_dummy_1                               2.159812   1.416769e-01\n",
       "contract_type_dummy_0                               2.159812   1.416769e-01\n",
       "active_total_amount_of_credit_taken_bureau          1.884799   1.698043e-01\n",
       "housing_type_dummy_0                                1.871598   1.713068e-01\n",
       "housing_type_dummy_4                                1.696944   1.927024e-01\n",
       "AMT_ANNUITY                                         1.132583   2.872371e-01\n",
       "housing_type_dummy_2                                1.050334   3.054418e-01\n",
       "SK_DPD_creditcard                                   0.919310   3.376673e-01\n",
       "AMT_RECEIVABLE_RAT_creditcard                       0.810370   3.680210e-01\n",
       "AMT_ANNUITY_last_installments                       0.736865   3.906769e-01\n",
       "share_of_income_generating_credits_bureau           0.653856   4.187464e-01\n",
       "repeated_customer_installments                      0.358473   5.493617e-01\n",
       "housing_type_dummy_3                                0.348056   5.552222e-01\n",
       "total_amount_of_credit_taken_bureau                 0.250244   6.169082e-01\n",
       "number_of_income_generating_credits_bureau          0.192526   6.608267e-01\n",
       "NAME_FAMILY_STATUS                                  0.049294   8.242990e-01\n",
       "std_days_overdue_on_one_credit_bureau               0.017063   8.960716e-01\n",
       "issues_last_year_bureau                                  NaN            NaN"
      ]
     },
     "execution_count": 55,
     "metadata": {},
     "output_type": "execute_result"
    }
   ],
   "source": [
    "f_stats"
   ]
  },
  {
   "cell_type": "code",
   "execution_count": 86,
   "id": "669fca9e",
   "metadata": {},
   "outputs": [
    {
     "data": {
      "image/png": "[encoded data removed]",
      "text/plain": [
       "<Figure size 432x288 with 1 Axes>"
      ]
     },
     "metadata": {
      "needs_background": "light"
     },
     "output_type": "display_data"
    }
   ],
   "source": [
    "f_stats = f_stats.sort_values(\"F-stat\", ascending = False)\n",
    "\n",
    "plt.tick_params(\n",
    "axis='x', # changes apply to the x-axis\n",
    "which='both', # both major and minor ticks are affected\n",
    "bottom=False, # ticks along the bottom edge are off\n",
    "top=False, # ticks along the top edge are off\n",
    "labelbottom=False) # labels along the bottom edge are off\n",
    "\n",
    "plt.bar(f_stats.index, f_stats[\"F-stat\"])\n",
    "plt.xticks(rotation=45, fontsize = 0)\n",
    "plt.axvline(x = len(best_vars)+.5, color = 'red')\n",
    "plt.show()"
   ]
  },
  {
   "cell_type": "markdown",
   "id": "2b0574e8",
   "metadata": {
    "tags": []
   },
   "source": [
    "# Model"
   ]
  },
  {
   "cell_type": "code",
   "execution_count": 37,
   "id": "4506c0a6",
   "metadata": {},
   "outputs": [
    {
     "data": {
      "text/html": [
       "<style>#sk-container-id-1 {color: black;background-color: white;}#sk-container-id-1 pre{padding: 0;}#sk-container-id-1 div.sk-toggleable {background-color: white;}#sk-container-id-1 label.sk-toggleable__label {cursor: pointer;display: block;width: 100%;margin-bottom: 0;padding: 0.3em;box-sizing: border-box;text-align: center;}#sk-container-id-1 label.sk-toggleable__label-arrow:before {content: \"▸\";float: left;margin-right: 0.25em;color: #696969;}#sk-container-id-1 label.sk-toggleable__label-arrow:hover:before {color: black;}#sk-container-id-1 div.sk-estimator:hover label.sk-toggleable__label-arrow:before {color: black;}#sk-container-id-1 div.sk-toggleable__content {max-height: 0;max-width: 0;overflow: hidden;text-align: left;background-color: #f0f8ff;}#sk-container-id-1 div.sk-toggleable__content pre {margin: 0.2em;color: black;border-radius: 0.25em;background-color: #f0f8ff;}#sk-container-id-1 input.sk-toggleable__control:checked~div.sk-toggleable__content {max-height: 200px;max-width: 100%;overflow: auto;}#sk-container-id-1 input.sk-toggleable__control:checked~label.sk-toggleable__label-arrow:before {content: \"▾\";}#sk-container-id-1 div.sk-estimator input.sk-toggleable__control:checked~label.sk-toggleable__label {background-color: #d4ebff;}#sk-container-id-1 div.sk-label input.sk-toggleable__control:checked~label.sk-toggleable__label {background-color: #d4ebff;}#sk-container-id-1 input.sk-hidden--visually {border: 0;clip: rect(1px 1px 1px 1px);clip: rect(1px, 1px, 1px, 1px);height: 1px;margin: -1px;overflow: hidden;padding: 0;position: absolute;width: 1px;}#sk-container-id-1 div.sk-estimator {font-family: monospace;background-color: #f0f8ff;border: 1px dotted black;border-radius: 0.25em;box-sizing: border-box;margin-bottom: 0.5em;}#sk-container-id-1 div.sk-estimator:hover {background-color: #d4ebff;}#sk-container-id-1 div.sk-parallel-item::after {content: \"\";width: 100%;border-bottom: 1px solid gray;flex-grow: 1;}#sk-container-id-1 div.sk-label:hover label.sk-toggleable__label {background-color: #d4ebff;}#sk-container-id-1 div.sk-serial::before {content: \"\";position: absolute;border-left: 1px solid gray;box-sizing: border-box;top: 0;bottom: 0;left: 50%;z-index: 0;}#sk-container-id-1 div.sk-serial {display: flex;flex-direction: column;align-items: center;background-color: white;padding-right: 0.2em;padding-left: 0.2em;position: relative;}#sk-container-id-1 div.sk-item {position: relative;z-index: 1;}#sk-container-id-1 div.sk-parallel {display: flex;align-items: stretch;justify-content: center;background-color: white;position: relative;}#sk-container-id-1 div.sk-item::before, #sk-container-id-1 div.sk-parallel-item::before {content: \"\";position: absolute;border-left: 1px solid gray;box-sizing: border-box;top: 0;bottom: 0;left: 50%;z-index: -1;}#sk-container-id-1 div.sk-parallel-item {display: flex;flex-direction: column;z-index: 1;position: relative;background-color: white;}#sk-container-id-1 div.sk-parallel-item:first-child::after {align-self: flex-end;width: 50%;}#sk-container-id-1 div.sk-parallel-item:last-child::after {align-self: flex-start;width: 50%;}#sk-container-id-1 div.sk-parallel-item:only-child::after {width: 0;}#sk-container-id-1 div.sk-dashed-wrapped {border: 1px dashed gray;margin: 0 0.4em 0.5em 0.4em;box-sizing: border-box;padding-bottom: 0.4em;background-color: white;}#sk-container-id-1 div.sk-label label {font-family: monospace;font-weight: bold;display: inline-block;line-height: 1.2em;}#sk-container-id-1 div.sk-label-container {text-align: center;}#sk-container-id-1 div.sk-container {/* jupyter's `normalize.less` sets `[hidden] { display: none; }` but bootstrap.min.css set `[hidden] { display: none !important; }` so we also need the `!important` here to be able to override the default hidden behavior on the sphinx rendered scikit-learn.org. See: https://github.com/scikit-learn/scikit-learn/issues/21755 */display: inline-block !important;position: relative;}#sk-container-id-1 div.sk-text-repr-fallback {display: none;}</style><div id=\"sk-container-id-1\" class=\"sk-top-container\"><div class=\"sk-text-repr-fallback\"><pre>LogisticRegression()</pre><b>In a Jupyter environment, please rerun this cell to show the HTML representation or trust the notebook. <br />On GitHub, the HTML representation is unable to render, please try loading this page with nbviewer.org.</b></div><div class=\"sk-container\" hidden><div class=\"sk-item\"><div class=\"sk-estimator sk-toggleable\"><input class=\"sk-toggleable__control sk-hidden--visually\" id=\"sk-estimator-id-1\" type=\"checkbox\" checked><label for=\"sk-estimator-id-1\" class=\"sk-toggleable__label sk-toggleable__label-arrow\">LogisticRegression</label><div class=\"sk-toggleable__content\"><pre>LogisticRegression()</pre></div></div></div></div></div>"
      ],
      "text/plain": [
       "LogisticRegression()"
      ]
     },
     "execution_count": 37,
     "metadata": {},
     "output_type": "execute_result"
    }
   ],
   "source": [
    "log_reg = LogisticRegression()\n",
    "\n",
    "log_reg.fit(X_train_processed_cleaned.loc[:, best_vars], \n",
    "            y_train_processed_cleaned)"
   ]
  },
  {
   "cell_type": "markdown",
   "id": "925fd243",
   "metadata": {},
   "source": [
    "### Evaluate"
   ]
  },
  {
   "cell_type": "code",
   "execution_count": 38,
   "id": "9d01518a-8e76-46de-88e0-ef16524aeb81",
   "metadata": {},
   "outputs": [
    {
     "data": {
      "text/plain": [
       "<sklearn.metrics._plot.roc_curve.RocCurveDisplay at 0x7f4a137c2380>"
      ]
     },
     "execution_count": 38,
     "metadata": {},
     "output_type": "execute_result"
    },
    {
     "data": {
      "image/png": "[encoded data removed]",
      "text/plain": [
       "<Figure size 432x288 with 1 Axes>"
      ]
     },
     "metadata": {
      "needs_background": "light"
     },
     "output_type": "display_data"
    }
   ],
   "source": [
    "RocCurveDisplay.from_estimator(log_reg,\n",
    "                               X_test_processed_cleaned.loc[:, best_vars],\n",
    "                               y_test_processed_cleaned,\n",
    "                               )"
   ]
  },
  {
   "cell_type": "code",
   "execution_count": 39,
   "id": "1d7ee99e",
   "metadata": {},
   "outputs": [
    {
     "data": {
      "text/plain": [
       "<sklearn.metrics._plot.confusion_matrix.ConfusionMatrixDisplay at 0x7f49565dcaf0>"
      ]
     },
     "execution_count": 39,
     "metadata": {},
     "output_type": "execute_result"
    },
    {
     "data": {
      "image/png": "[encoded data removed]",
      "text/plain": [
       "<Figure size 432x288 with 2 Axes>"
      ]
     },
     "metadata": {
      "needs_background": "light"
     },
     "output_type": "display_data"
    }
   ],
   "source": [
    "plot_confusion_matrix(log_reg, \n",
    "                      X_test_processed_cleaned.loc[:, best_vars], \n",
    "                      y_test_processed_cleaned)"
   ]
  },
  {
   "cell_type": "code",
   "execution_count": 40,
   "id": "4bd2dfd6-4706-4191-9ed9-ff0046d4f58f",
   "metadata": {},
   "outputs": [
    {
     "name": "stdout",
     "output_type": "stream",
     "text": [
      "              precision    recall  f1-score   support\n",
      "\n",
      "           0       0.91      1.00      0.95      6400\n",
      "           1       1.00      0.00      0.00       609\n",
      "\n",
      "    accuracy                           0.91      7009\n",
      "   macro avg       0.96      0.50      0.48      7009\n",
      "weighted avg       0.92      0.91      0.87      7009\n",
      "\n"
     ]
    }
   ],
   "source": [
    "print(classification_report(y_test_processed_cleaned, \n",
    "                            log_reg.predict(X_test_processed_cleaned.loc[:, best_vars])))"
   ]
  },
  {
   "cell_type": "markdown",
   "id": "9031737c",
   "metadata": {
    "jp-MarkdownHeadingCollapsed": true,
    "tags": []
   },
   "source": [
    "## Kfold validation"
   ]
  },
  {
   "cell_type": "code",
   "execution_count": 41,
   "id": "6514a0be",
   "metadata": {},
   "outputs": [
    {
     "ename": "NameError",
     "evalue": "name 'X_test_fold_processed_cleaned' is not defined",
     "output_type": "error",
     "traceback": [
      "\u001b[0;31m---------------------------------------------------------------------------\u001b[0m",
      "\u001b[0;31mNameError\u001b[0m                                 Traceback (most recent call last)",
      "\u001b[0;32m/tmp/ipykernel_117875/3531786030.py\u001b[0m in \u001b[0;36m<module>\u001b[0;34m\u001b[0m\n\u001b[1;32m     17\u001b[0m     \u001b[0mX_train_fold_processed\u001b[0m \u001b[0;34m=\u001b[0m \u001b[0mpd\u001b[0m\u001b[0;34m.\u001b[0m\u001b[0mDataFrame\u001b[0m\u001b[0;34m(\u001b[0m\u001b[0mct\u001b[0m\u001b[0;34m.\u001b[0m\u001b[0mfit_transform\u001b[0m\u001b[0;34m(\u001b[0m\u001b[0mX_train_fold\u001b[0m\u001b[0;34m)\u001b[0m\u001b[0;34m)\u001b[0m\u001b[0;34m\u001b[0m\u001b[0;34m\u001b[0m\u001b[0m\n\u001b[1;32m     18\u001b[0m     \u001b[0mX_test_fold_processed\u001b[0m \u001b[0;34m=\u001b[0m \u001b[0mpd\u001b[0m\u001b[0;34m.\u001b[0m\u001b[0mDataFrame\u001b[0m\u001b[0;34m(\u001b[0m\u001b[0mct\u001b[0m\u001b[0;34m.\u001b[0m\u001b[0mfit_transform\u001b[0m\u001b[0;34m(\u001b[0m\u001b[0mX_test_fold\u001b[0m\u001b[0;34m)\u001b[0m\u001b[0;34m)\u001b[0m\u001b[0;34m\u001b[0m\u001b[0;34m\u001b[0m\u001b[0m\n\u001b[0;32m---> 19\u001b[0;31m     \u001b[0mX_test_fold_processed_cleaned\u001b[0m\u001b[0;34m.\u001b[0m\u001b[0mcolumns\u001b[0m \u001b[0;34m=\u001b[0m \u001b[0mall_column_names\u001b[0m\u001b[0;34m\u001b[0m\u001b[0;34m\u001b[0m\u001b[0m\n\u001b[0m\u001b[1;32m     20\u001b[0m     \u001b[0mX_train_fold_processed_cleaned\u001b[0m\u001b[0;34m.\u001b[0m\u001b[0mcolumns\u001b[0m \u001b[0;34m=\u001b[0m \u001b[0mall_column_names\u001b[0m\u001b[0;34m\u001b[0m\u001b[0;34m\u001b[0m\u001b[0m\n\u001b[1;32m     21\u001b[0m     \u001b[0my_train_fold_processed\u001b[0m \u001b[0;34m=\u001b[0m \u001b[0my_train_fold\u001b[0m\u001b[0;34m.\u001b[0m\u001b[0mreset_index\u001b[0m\u001b[0;34m(\u001b[0m\u001b[0mdrop\u001b[0m \u001b[0;34m=\u001b[0m \u001b[0;32mTrue\u001b[0m\u001b[0;34m)\u001b[0m\u001b[0;34m\u001b[0m\u001b[0;34m\u001b[0m\u001b[0m\n",
      "\u001b[0;31mNameError\u001b[0m: name 'X_test_fold_processed_cleaned' is not defined"
     ]
    }
   ],
   "source": [
    "aucs = []\n",
    "model = []\n",
    "\n",
    "kf = KFold(n_splits = 10)\n",
    "kf.get_n_splits(X_train)\n",
    "\n",
    "X = X_train.reset_index(drop = True)\n",
    "y = y_train.reset_index(drop = True)\n",
    "\n",
    "for train_fold, test_fold in kf.split(X_train):\n",
    "\n",
    "    # split\n",
    "    X_train_fold, X_test_fold = X.iloc[train_fold], X.iloc[test_fold]\n",
    "    y_train_fold, y_test_fold = y[train_fold], y[test_fold]\n",
    "    \n",
    "    # transform\n",
    "    X_train_fold_processed = pd.DataFrame(ct.fit_transform(X_train_fold))\n",
    "    X_test_fold_processed = pd.DataFrame(ct.fit_transform(X_test_fold)) \n",
    "    X_test_fold_processed_cleaned.columns = all_column_names\n",
    "    X_train_fold_processed_cleaned.columns = all_column_names\n",
    "    y_train_fold_processed = y_train_fold.reset_index(drop = True)\n",
    "    y_test_fold_processed = y_test_fold.reset_index(drop = True)\n",
    "    \n",
    "    # clean\n",
    "    index_train = (X_train_fold_processed.isna().sum(axis = 1)) | (y_train_fold_processed.isna())\n",
    "    index_test = (X_test_fold_processed.isna().sum(axis = 1)) | (y_test_fold_processed.isna())\n",
    "    X_train_fold_processed_cleaned = X_train_fold_processed[-index_train]\n",
    "    y_train_fold_processed_cleaned = y_train_fold_processed[-index_train]\n",
    "    X_test_fold_processed_cleaned = X_test_fold_processed[-index_test]\n",
    "    y_test_fold_processed_cleaned = y_test_fold_processed[-index_test]\n",
    "        \n",
    "    # model\n",
    "    lr = LogisticRegression()\n",
    "    lr.fit(X_train_fold_processed_cleaned.loc[:, best_vars], \n",
    "           y_train_fold_processed_cleaned)\n",
    "\n",
    "    # save\n",
    "    model.append(lr)\n",
    "    aucs.append(roc_auc_score(lr.predict(X_test_fold_processed_cleaned.loc[:, best_vars]), \n",
    "                              y_test_fold_processed_cleaned))"
   ]
  },
  {
   "cell_type": "markdown",
   "id": "1a271821-7c62-45be-94fb-d51f009e8603",
   "metadata": {
    "tags": []
   },
   "source": [
    "# Create univariate graphs"
   ]
  },
  {
   "cell_type": "code",
   "execution_count": null,
   "id": "c77674dd-42cc-439d-8f2a-9b8048930b89",
   "metadata": {},
   "outputs": [],
   "source": [
    "df = pd.concat([X_train_processed_cleaned, \n",
    "                y_train_processed_cleaned], \n",
    "               axis = 1)\n",
    "df"
   ]
  },
  {
   "cell_type": "code",
   "execution_count": null,
   "id": "e0f1a4e1-71b2-44f0-8e25-276f6ecdf47d",
   "metadata": {},
   "outputs": [],
   "source": [
    "for variable in df.iloc[:, 8:-1]:\n",
    "    quantile = (\n",
    "        \"add variables that should be plotted with quantile strategy here\",\n",
    "    \n",
    "    )\n",
    "    \n",
    "    if variable in quantile:\n",
    "        univariate_graph(df, variable, \"lennard/graphs/\", strategy = \"quantile\")\n",
    "    else:\n",
    "        univariate_graph(df, variable, \"lennard/graphs/\", strategy = \"uniform\")"
   ]
  }
 ],
 "metadata": {
  "kernelspec": {
   "display_name": "Python 3 (ipykernel)",
   "language": "python",
   "name": "python3"
  },
  "language_info": {
   "codemirror_mode": {
    "name": "ipython",
    "version": 3
   },
   "file_extension": ".py",
   "mimetype": "text/x-python",
   "name": "python",
   "nbconvert_exporter": "python",
   "pygments_lexer": "ipython3",
   "version": "3.10.4"
  }
 },
 "nbformat": 4,
 "nbformat_minor": 5
}
