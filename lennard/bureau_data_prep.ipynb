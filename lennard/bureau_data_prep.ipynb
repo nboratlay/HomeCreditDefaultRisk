{
 "cells": [
  {
   "cell_type": "markdown",
   "id": "7e7d4970",
   "metadata": {},
   "source": [
    "# Setup"
   ]
  },
  {
   "cell_type": "code",
   "execution_count": 1,
   "id": "102a6ad9",
   "metadata": {},
   "outputs": [],
   "source": [
    "import numpy as np\n",
    "import pandas as pd\n",
    "import math\n",
    "import matplotlib.pyplot as plt"
   ]
  },
  {
   "cell_type": "markdown",
   "id": "3ac0bea8",
   "metadata": {},
   "source": [
    "# Helper functions"
   ]
  },
  {
   "cell_type": "markdown",
   "id": "5ef58512",
   "metadata": {},
   "source": [
    "# Bureau table"
   ]
  },
  {
   "cell_type": "markdown",
   "id": "1fddba6b",
   "metadata": {},
   "source": [
    "## Load data"
   ]
  },
  {
   "cell_type": "code",
   "execution_count": 2,
   "id": "6580a4ea",
   "metadata": {},
   "outputs": [
    {
     "data": {
      "text/html": [
       "<div>\n",
       "<style scoped>\n",
       "    .dataframe tbody tr th:only-of-type {\n",
       "        vertical-align: middle;\n",
       "    }\n",
       "\n",
       "    .dataframe tbody tr th {\n",
       "        vertical-align: top;\n",
       "    }\n",
       "\n",
       "    .dataframe thead th {\n",
       "        text-align: right;\n",
       "    }\n",
       "</style>\n",
       "<table border=\"1\" class=\"dataframe\">\n",
       "  <thead>\n",
       "    <tr style=\"text-align: right;\">\n",
       "      <th></th>\n",
       "      <th>SK_ID_CURR</th>\n",
       "      <th>SK_ID_BUREAU</th>\n",
       "      <th>CREDIT_ACTIVE</th>\n",
       "      <th>CREDIT_CURRENCY</th>\n",
       "      <th>DAYS_CREDIT</th>\n",
       "      <th>CREDIT_DAY_OVERDUE</th>\n",
       "      <th>DAYS_CREDIT_ENDDATE</th>\n",
       "      <th>DAYS_ENDDATE_FACT</th>\n",
       "      <th>AMT_CREDIT_MAX_OVERDUE</th>\n",
       "      <th>CNT_CREDIT_PROLONG</th>\n",
       "      <th>AMT_CREDIT_SUM</th>\n",
       "      <th>AMT_CREDIT_SUM_DEBT</th>\n",
       "      <th>AMT_CREDIT_SUM_LIMIT</th>\n",
       "      <th>AMT_CREDIT_SUM_OVERDUE</th>\n",
       "      <th>CREDIT_TYPE</th>\n",
       "      <th>DAYS_CREDIT_UPDATE</th>\n",
       "      <th>AMT_ANNUITY</th>\n",
       "    </tr>\n",
       "  </thead>\n",
       "  <tbody>\n",
       "    <tr>\n",
       "      <th>0</th>\n",
       "      <td>215354</td>\n",
       "      <td>5714462</td>\n",
       "      <td>Closed</td>\n",
       "      <td>currency 1</td>\n",
       "      <td>-497</td>\n",
       "      <td>0</td>\n",
       "      <td>-153.0</td>\n",
       "      <td>-153.0</td>\n",
       "      <td>NaN</td>\n",
       "      <td>0</td>\n",
       "      <td>91323.00</td>\n",
       "      <td>0.0</td>\n",
       "      <td>NaN</td>\n",
       "      <td>0.0</td>\n",
       "      <td>Consumer credit</td>\n",
       "      <td>-131</td>\n",
       "      <td>NaN</td>\n",
       "    </tr>\n",
       "    <tr>\n",
       "      <th>1</th>\n",
       "      <td>215354</td>\n",
       "      <td>5714463</td>\n",
       "      <td>Active</td>\n",
       "      <td>currency 1</td>\n",
       "      <td>-208</td>\n",
       "      <td>0</td>\n",
       "      <td>1075.0</td>\n",
       "      <td>NaN</td>\n",
       "      <td>NaN</td>\n",
       "      <td>0</td>\n",
       "      <td>225000.00</td>\n",
       "      <td>171342.0</td>\n",
       "      <td>NaN</td>\n",
       "      <td>0.0</td>\n",
       "      <td>Credit card</td>\n",
       "      <td>-20</td>\n",
       "      <td>NaN</td>\n",
       "    </tr>\n",
       "    <tr>\n",
       "      <th>2</th>\n",
       "      <td>215354</td>\n",
       "      <td>5714464</td>\n",
       "      <td>Active</td>\n",
       "      <td>currency 1</td>\n",
       "      <td>-203</td>\n",
       "      <td>0</td>\n",
       "      <td>528.0</td>\n",
       "      <td>NaN</td>\n",
       "      <td>NaN</td>\n",
       "      <td>0</td>\n",
       "      <td>464323.50</td>\n",
       "      <td>NaN</td>\n",
       "      <td>NaN</td>\n",
       "      <td>0.0</td>\n",
       "      <td>Consumer credit</td>\n",
       "      <td>-16</td>\n",
       "      <td>NaN</td>\n",
       "    </tr>\n",
       "    <tr>\n",
       "      <th>3</th>\n",
       "      <td>215354</td>\n",
       "      <td>5714465</td>\n",
       "      <td>Active</td>\n",
       "      <td>currency 1</td>\n",
       "      <td>-203</td>\n",
       "      <td>0</td>\n",
       "      <td>NaN</td>\n",
       "      <td>NaN</td>\n",
       "      <td>NaN</td>\n",
       "      <td>0</td>\n",
       "      <td>90000.00</td>\n",
       "      <td>NaN</td>\n",
       "      <td>NaN</td>\n",
       "      <td>0.0</td>\n",
       "      <td>Credit card</td>\n",
       "      <td>-16</td>\n",
       "      <td>NaN</td>\n",
       "    </tr>\n",
       "    <tr>\n",
       "      <th>4</th>\n",
       "      <td>215354</td>\n",
       "      <td>5714466</td>\n",
       "      <td>Active</td>\n",
       "      <td>currency 1</td>\n",
       "      <td>-629</td>\n",
       "      <td>0</td>\n",
       "      <td>1197.0</td>\n",
       "      <td>NaN</td>\n",
       "      <td>77674.5</td>\n",
       "      <td>0</td>\n",
       "      <td>2700000.00</td>\n",
       "      <td>NaN</td>\n",
       "      <td>NaN</td>\n",
       "      <td>0.0</td>\n",
       "      <td>Consumer credit</td>\n",
       "      <td>-21</td>\n",
       "      <td>NaN</td>\n",
       "    </tr>\n",
       "    <tr>\n",
       "      <th>...</th>\n",
       "      <td>...</td>\n",
       "      <td>...</td>\n",
       "      <td>...</td>\n",
       "      <td>...</td>\n",
       "      <td>...</td>\n",
       "      <td>...</td>\n",
       "      <td>...</td>\n",
       "      <td>...</td>\n",
       "      <td>...</td>\n",
       "      <td>...</td>\n",
       "      <td>...</td>\n",
       "      <td>...</td>\n",
       "      <td>...</td>\n",
       "      <td>...</td>\n",
       "      <td>...</td>\n",
       "      <td>...</td>\n",
       "      <td>...</td>\n",
       "    </tr>\n",
       "    <tr>\n",
       "      <th>1716423</th>\n",
       "      <td>259355</td>\n",
       "      <td>5057750</td>\n",
       "      <td>Active</td>\n",
       "      <td>currency 1</td>\n",
       "      <td>-44</td>\n",
       "      <td>0</td>\n",
       "      <td>-30.0</td>\n",
       "      <td>NaN</td>\n",
       "      <td>0.0</td>\n",
       "      <td>0</td>\n",
       "      <td>11250.00</td>\n",
       "      <td>11250.0</td>\n",
       "      <td>0.0</td>\n",
       "      <td>0.0</td>\n",
       "      <td>Microloan</td>\n",
       "      <td>-19</td>\n",
       "      <td>NaN</td>\n",
       "    </tr>\n",
       "    <tr>\n",
       "      <th>1716424</th>\n",
       "      <td>100044</td>\n",
       "      <td>5057754</td>\n",
       "      <td>Closed</td>\n",
       "      <td>currency 1</td>\n",
       "      <td>-2648</td>\n",
       "      <td>0</td>\n",
       "      <td>-2433.0</td>\n",
       "      <td>-2493.0</td>\n",
       "      <td>5476.5</td>\n",
       "      <td>0</td>\n",
       "      <td>38130.84</td>\n",
       "      <td>0.0</td>\n",
       "      <td>0.0</td>\n",
       "      <td>0.0</td>\n",
       "      <td>Consumer credit</td>\n",
       "      <td>-2493</td>\n",
       "      <td>NaN</td>\n",
       "    </tr>\n",
       "    <tr>\n",
       "      <th>1716425</th>\n",
       "      <td>100044</td>\n",
       "      <td>5057762</td>\n",
       "      <td>Closed</td>\n",
       "      <td>currency 1</td>\n",
       "      <td>-1809</td>\n",
       "      <td>0</td>\n",
       "      <td>-1628.0</td>\n",
       "      <td>-970.0</td>\n",
       "      <td>NaN</td>\n",
       "      <td>0</td>\n",
       "      <td>15570.00</td>\n",
       "      <td>NaN</td>\n",
       "      <td>NaN</td>\n",
       "      <td>0.0</td>\n",
       "      <td>Consumer credit</td>\n",
       "      <td>-967</td>\n",
       "      <td>NaN</td>\n",
       "    </tr>\n",
       "    <tr>\n",
       "      <th>1716426</th>\n",
       "      <td>246829</td>\n",
       "      <td>5057770</td>\n",
       "      <td>Closed</td>\n",
       "      <td>currency 1</td>\n",
       "      <td>-1878</td>\n",
       "      <td>0</td>\n",
       "      <td>-1513.0</td>\n",
       "      <td>-1513.0</td>\n",
       "      <td>NaN</td>\n",
       "      <td>0</td>\n",
       "      <td>36000.00</td>\n",
       "      <td>0.0</td>\n",
       "      <td>0.0</td>\n",
       "      <td>0.0</td>\n",
       "      <td>Consumer credit</td>\n",
       "      <td>-1508</td>\n",
       "      <td>NaN</td>\n",
       "    </tr>\n",
       "    <tr>\n",
       "      <th>1716427</th>\n",
       "      <td>246829</td>\n",
       "      <td>5057778</td>\n",
       "      <td>Closed</td>\n",
       "      <td>currency 1</td>\n",
       "      <td>-463</td>\n",
       "      <td>0</td>\n",
       "      <td>NaN</td>\n",
       "      <td>-387.0</td>\n",
       "      <td>NaN</td>\n",
       "      <td>0</td>\n",
       "      <td>22500.00</td>\n",
       "      <td>0.0</td>\n",
       "      <td>NaN</td>\n",
       "      <td>0.0</td>\n",
       "      <td>Microloan</td>\n",
       "      <td>-387</td>\n",
       "      <td>NaN</td>\n",
       "    </tr>\n",
       "  </tbody>\n",
       "</table>\n",
       "<p>1716428 rows × 17 columns</p>\n",
       "</div>"
      ],
      "text/plain": [
       "         SK_ID_CURR  SK_ID_BUREAU CREDIT_ACTIVE CREDIT_CURRENCY  DAYS_CREDIT  \\\n",
       "0            215354       5714462        Closed      currency 1         -497   \n",
       "1            215354       5714463        Active      currency 1         -208   \n",
       "2            215354       5714464        Active      currency 1         -203   \n",
       "3            215354       5714465        Active      currency 1         -203   \n",
       "4            215354       5714466        Active      currency 1         -629   \n",
       "...             ...           ...           ...             ...          ...   \n",
       "1716423      259355       5057750        Active      currency 1          -44   \n",
       "1716424      100044       5057754        Closed      currency 1        -2648   \n",
       "1716425      100044       5057762        Closed      currency 1        -1809   \n",
       "1716426      246829       5057770        Closed      currency 1        -1878   \n",
       "1716427      246829       5057778        Closed      currency 1         -463   \n",
       "\n",
       "         CREDIT_DAY_OVERDUE  DAYS_CREDIT_ENDDATE  DAYS_ENDDATE_FACT  \\\n",
       "0                         0               -153.0             -153.0   \n",
       "1                         0               1075.0                NaN   \n",
       "2                         0                528.0                NaN   \n",
       "3                         0                  NaN                NaN   \n",
       "4                         0               1197.0                NaN   \n",
       "...                     ...                  ...                ...   \n",
       "1716423                   0                -30.0                NaN   \n",
       "1716424                   0              -2433.0            -2493.0   \n",
       "1716425                   0              -1628.0             -970.0   \n",
       "1716426                   0              -1513.0            -1513.0   \n",
       "1716427                   0                  NaN             -387.0   \n",
       "\n",
       "         AMT_CREDIT_MAX_OVERDUE  CNT_CREDIT_PROLONG  AMT_CREDIT_SUM  \\\n",
       "0                           NaN                   0        91323.00   \n",
       "1                           NaN                   0       225000.00   \n",
       "2                           NaN                   0       464323.50   \n",
       "3                           NaN                   0        90000.00   \n",
       "4                       77674.5                   0      2700000.00   \n",
       "...                         ...                 ...             ...   \n",
       "1716423                     0.0                   0        11250.00   \n",
       "1716424                  5476.5                   0        38130.84   \n",
       "1716425                     NaN                   0        15570.00   \n",
       "1716426                     NaN                   0        36000.00   \n",
       "1716427                     NaN                   0        22500.00   \n",
       "\n",
       "         AMT_CREDIT_SUM_DEBT  AMT_CREDIT_SUM_LIMIT  AMT_CREDIT_SUM_OVERDUE  \\\n",
       "0                        0.0                   NaN                     0.0   \n",
       "1                   171342.0                   NaN                     0.0   \n",
       "2                        NaN                   NaN                     0.0   \n",
       "3                        NaN                   NaN                     0.0   \n",
       "4                        NaN                   NaN                     0.0   \n",
       "...                      ...                   ...                     ...   \n",
       "1716423              11250.0                   0.0                     0.0   \n",
       "1716424                  0.0                   0.0                     0.0   \n",
       "1716425                  NaN                   NaN                     0.0   \n",
       "1716426                  0.0                   0.0                     0.0   \n",
       "1716427                  0.0                   NaN                     0.0   \n",
       "\n",
       "             CREDIT_TYPE  DAYS_CREDIT_UPDATE  AMT_ANNUITY  \n",
       "0        Consumer credit                -131          NaN  \n",
       "1            Credit card                 -20          NaN  \n",
       "2        Consumer credit                 -16          NaN  \n",
       "3            Credit card                 -16          NaN  \n",
       "4        Consumer credit                 -21          NaN  \n",
       "...                  ...                 ...          ...  \n",
       "1716423        Microloan                 -19          NaN  \n",
       "1716424  Consumer credit               -2493          NaN  \n",
       "1716425  Consumer credit                -967          NaN  \n",
       "1716426  Consumer credit               -1508          NaN  \n",
       "1716427        Microloan                -387          NaN  \n",
       "\n",
       "[1716428 rows x 17 columns]"
      ]
     },
     "execution_count": 2,
     "metadata": {},
     "output_type": "execute_result"
    }
   ],
   "source": [
    "bureau = pd.read_csv(\"../data/bureau.csv\")\n",
    "bureau"
   ]
  },
  {
   "cell_type": "markdown",
   "id": "e040f8c1",
   "metadata": {},
   "source": [
    "- ID of loan in our sample one loan in our sample can have 0,1,2 or more related previous credits in credit bureau \n",
    "- Recoded ID of previous Credit Bureau credit related to our loan (unique coding for each loan application)\n",
    "- Status of the Credit Bureau (CB) reported credits\n",
    "- Recoded currency of the Credit Bureau credit\n",
    "- How many days before current application did client apply for Credit Bureau credit\n",
    "- Number of days past due on CB credit at the time of application for related loan in our sample\n",
    "- Remaining duration of CB credit (in days) at the time of application in Home Credit\n",
    "- Days since CB credit ended at the time of application in Home Credit (only for closed credit)\n",
    "- Maximal amount overdue on the Credit Bureau credit so far (at application date of loan in our sample)\n",
    "- How many times was the Credit Bureau credit prolonged\n",
    "- Current credit amount for the Credit Bureau credit\n",
    "- Current debt on Credit Bureau credit\n",
    "- Current credit limit of credit card reported in Credit Bureau\n",
    "- Current amount overdue on Credit Bureau credit\n",
    "- Type of Credit Bureau credit (Car, cash,...)\n",
    "- How many days before loan application did last information about the Credit Bureau credit come\n",
    "- Annuity of the Credit Bureau credit"
   ]
  },
  {
   "cell_type": "code",
   "execution_count": 4,
   "id": "631ebe1e",
   "metadata": {},
   "outputs": [],
   "source": [
    "income_generating_credits = ('Loan for business development', 'Loan for working capital replenishment', 'Real estate loan', 'Loan for the purchase of equipment', 'Loan for purchase of shares (margin lending)')"
   ]
  },
  {
   "cell_type": "code",
   "execution_count": 5,
   "id": "0b93723e",
   "metadata": {},
   "outputs": [],
   "source": [
    "bureau[\"credit_active_dummy\"] = [1 if d == \"Active\" else 0 for d in bureau.CREDIT_ACTIVE]\n",
    "bureau[\"active_AMT_CREDIT_SUM\"] = bureau[\"AMT_CREDIT_SUM\"] * bureau[\"credit_active_dummy\"]\n",
    "bureau[\"active_AMT_CREDIT_SUM_OVERDUE\"] = bureau[\"AMT_CREDIT_SUM_OVERDUE\"] * bureau[\"credit_active_dummy\"]\n",
    "bureau[\"income_generating_credit\"] = [1 if d in income_generating_credits else 0 for d in bureau.CREDIT_TYPE]"
   ]
  },
  {
   "cell_type": "code",
   "execution_count": 8,
   "id": "c66cdf4f",
   "metadata": {},
   "outputs": [],
   "source": [
    "def aggregate_variable(name, func):\n",
    "    a = bureau[[\"SK_ID_CURR\", name]].groupby(\"SK_ID_CURR\").agg(func)\n",
    "    if func == np.std:\n",
    "        a[a[name].isna()] = 0\n",
    "    return a"
   ]
  },
  {
   "cell_type": "code",
   "execution_count": 9,
   "id": "9844a1bc",
   "metadata": {},
   "outputs": [],
   "source": [
    "transformations = {\n",
    "    \"number_of_credits_registered\" : bureau[[\"SK_ID_CURR\"]].groupby(\"SK_ID_CURR\")['SK_ID_CURR'].count(),\n",
    "    \"share_of_active_credits_of_total_credits\" : aggregate_variable(\"credit_active_dummy\", np.mean),\n",
    "    \"last_credit_application_before_mortgage\" : aggregate_variable(\"DAYS_CREDIT\", np.min),\n",
    "    \"std_days_overdue_on_one_credit\" : aggregate_variable(\"CREDIT_DAY_OVERDUE\", np.std),\n",
    "    \"total_amount_of_credit_taken\" : aggregate_variable(\"AMT_CREDIT_SUM\", np.sum),\n",
    "    \"active_total_amount_of_credit_taken\" : aggregate_variable(\"active_AMT_CREDIT_SUM\", np.sum),\n",
    "    \"total_amount_of_credit_overdue\" : aggregate_variable(\"AMT_CREDIT_SUM_OVERDUE\", np.sum),\n",
    "    \"active_total_amount_of_credit_overdue\" : aggregate_variable(\"AMT_CREDIT_SUM_OVERDUE\", np.sum),\n",
    "    \"number_of_income_generating_credits\" : aggregate_variable(\"income_generating_credit\", np.sum),\n",
    "    #\"share_of_income_generating_credits\" : number_of_income_generating_credits / number_of_credits_registered\n",
    "}"
   ]
  },
  {
   "cell_type": "code",
   "execution_count": 10,
   "id": "2ad1cdd9",
   "metadata": {},
   "outputs": [
    {
     "data": {
      "text/plain": [
       "{'number_of_credits_registered': SK_ID_CURR\n",
       " 100001     7\n",
       " 100002     8\n",
       " 100003     4\n",
       " 100004     2\n",
       " 100005     3\n",
       "           ..\n",
       " 456249    13\n",
       " 456250     3\n",
       " 456253     4\n",
       " 456254     1\n",
       " 456255    11\n",
       " Name: SK_ID_CURR, Length: 305811, dtype: int64,\n",
       " 'share_of_active_credits_of_total_credits':             credit_active_dummy\n",
       " SK_ID_CURR                     \n",
       " 100001                 0.428571\n",
       " 100002                 0.250000\n",
       " 100003                 0.250000\n",
       " 100004                 0.000000\n",
       " 100005                 0.666667\n",
       " ...                         ...\n",
       " 456249                 0.153846\n",
       " 456250                 0.666667\n",
       " 456253                 0.500000\n",
       " 456254                 0.000000\n",
       " 456255                 0.454545\n",
       " \n",
       " [305811 rows x 1 columns],\n",
       " 'last_credit_application_before_mortgage':             DAYS_CREDIT\n",
       " SK_ID_CURR             \n",
       " 100001            -1572\n",
       " 100002            -1437\n",
       " 100003            -2586\n",
       " 100004            -1326\n",
       " 100005             -373\n",
       " ...                 ...\n",
       " 456249            -2713\n",
       " 456250            -1002\n",
       " 456253             -919\n",
       " 456254            -1104\n",
       " 456255            -2337\n",
       " \n",
       " [305811 rows x 1 columns],\n",
       " 'std_days_overdue_on_one_credit':             CREDIT_DAY_OVERDUE\n",
       " SK_ID_CURR                    \n",
       " 100001                     0.0\n",
       " 100002                     0.0\n",
       " 100003                     0.0\n",
       " 100004                     0.0\n",
       " 100005                     0.0\n",
       " ...                        ...\n",
       " 456249                     0.0\n",
       " 456250                     0.0\n",
       " 456253                     0.0\n",
       " 456254                     0.0\n",
       " 456255                     0.0\n",
       " \n",
       " [305811 rows x 1 columns],\n",
       " 'total_amount_of_credit_taken':             AMT_CREDIT_SUM\n",
       " SK_ID_CURR                \n",
       " 100001         1453365.000\n",
       " 100002          865055.565\n",
       " 100003         1017400.500\n",
       " 100004          189037.800\n",
       " 100005          657126.000\n",
       " ...                    ...\n",
       " 456249         3693858.660\n",
       " 456250         3086459.550\n",
       " 456253         3960000.000\n",
       " 456254           45000.000\n",
       " 456255         3801919.500\n",
       " \n",
       " [305811 rows x 1 columns],\n",
       " 'active_total_amount_of_credit_taken':             active_AMT_CREDIT_SUM\n",
       " SK_ID_CURR                       \n",
       " 100001                 884025.000\n",
       " 100002                 481988.565\n",
       " 100003                 810000.000\n",
       " 100004                      0.000\n",
       " 100005                 598626.000\n",
       " ...                           ...\n",
       " 456249                 405000.000\n",
       " 456250                2603110.050\n",
       " 456253                2610000.000\n",
       " 456254                      0.000\n",
       " 456255                2339532.000\n",
       " \n",
       " [305811 rows x 1 columns],\n",
       " 'total_amount_of_credit_overdue':             AMT_CREDIT_SUM_OVERDUE\n",
       " SK_ID_CURR                        \n",
       " 100001                         0.0\n",
       " 100002                         0.0\n",
       " 100003                         0.0\n",
       " 100004                         0.0\n",
       " 100005                         0.0\n",
       " ...                            ...\n",
       " 456249                         0.0\n",
       " 456250                         0.0\n",
       " 456253                         0.0\n",
       " 456254                         0.0\n",
       " 456255                         0.0\n",
       " \n",
       " [305811 rows x 1 columns],\n",
       " 'active_total_amount_of_credit_overdue':             AMT_CREDIT_SUM_OVERDUE\n",
       " SK_ID_CURR                        \n",
       " 100001                         0.0\n",
       " 100002                         0.0\n",
       " 100003                         0.0\n",
       " 100004                         0.0\n",
       " 100005                         0.0\n",
       " ...                            ...\n",
       " 456249                         0.0\n",
       " 456250                         0.0\n",
       " 456253                         0.0\n",
       " 456254                         0.0\n",
       " 456255                         0.0\n",
       " \n",
       " [305811 rows x 1 columns],\n",
       " 'number_of_income_generating_credits':             income_generating_credit\n",
       " SK_ID_CURR                          \n",
       " 100001                             0\n",
       " 100002                             0\n",
       " 100003                             0\n",
       " 100004                             0\n",
       " 100005                             0\n",
       " ...                              ...\n",
       " 456249                             0\n",
       " 456250                             0\n",
       " 456253                             0\n",
       " 456254                             0\n",
       " 456255                             0\n",
       " \n",
       " [305811 rows x 1 columns]}"
      ]
     },
     "execution_count": 10,
     "metadata": {},
     "output_type": "execute_result"
    }
   ],
   "source": [
    "transformations"
   ]
  },
  {
   "cell_type": "markdown",
   "id": "0bcf5df3",
   "metadata": {},
   "source": [
    "## Overview"
   ]
  },
  {
   "cell_type": "code",
   "execution_count": null,
   "id": "915365b5",
   "metadata": {},
   "outputs": [],
   "source": [
    "len(bureau.SK_ID_BUREAU.unique())"
   ]
  },
  {
   "cell_type": "markdown",
   "id": "89db78aa",
   "metadata": {},
   "source": [
    "SK_ID_BUREAU are unique row identifiers in the bureau dataset\n",
    "    meaning that the bureau has multiple applications that are linked to one current bank credit"
   ]
  },
  {
   "cell_type": "code",
   "execution_count": null,
   "id": "196ed7ae",
   "metadata": {
    "scrolled": true
   },
   "outputs": [],
   "source": [
    "print(\"Percentage of rows empty: \")\n",
    "print(\"\")\n",
    "print(bureau.isna().sum() / len(bureau.SK_ID_CURR) * 100)"
   ]
  },
  {
   "cell_type": "markdown",
   "id": "5028a9e8",
   "metadata": {},
   "source": [
    "## Feature creation"
   ]
  },
  {
   "cell_type": "markdown",
   "id": "c208dc55",
   "metadata": {},
   "source": [
    "### Active credits"
   ]
  },
  {
   "cell_type": "markdown",
   "id": "885bdc27",
   "metadata": {},
   "source": [
    "Calculate the share of active credits of total credits known of the creditor"
   ]
  },
  {
   "cell_type": "code",
   "execution_count": null,
   "id": "9ef42258",
   "metadata": {},
   "outputs": [],
   "source": [
    "bureau[\"credit_active_dummy\"] = [1 if d == \"Active\" else 0 for d in bureau.CREDIT_ACTIVE]\n",
    "\n",
    "share_of_active_credits_of_total_credits = bureau[[\"SK_ID_CURR\", \"credit_active_dummy\"]].groupby(\"SK_ID_CURR\").agg(np.mean)\n",
    "share_of_active_credits_of_total_credits.columns = ['share_of_active_credits_of_total_credits']\n",
    "\n",
    "number_of_credits_registered = bureau[[\"SK_ID_CURR\"]].groupby(\"SK_ID_CURR\")['SK_ID_CURR'].count()\n",
    "number_of_credits_registered = pd.DataFrame(number_of_credits_registered)\n",
    "number_of_credits_registered.columns = ['number_of_credits_registered']"
   ]
  },
  {
   "cell_type": "markdown",
   "id": "414abd3b",
   "metadata": {},
   "source": [
    "### Last credit application"
   ]
  },
  {
   "cell_type": "code",
   "execution_count": null,
   "id": "686a8519",
   "metadata": {},
   "outputs": [],
   "source": [
    "bureau.DAYS_CREDIT.value_counts()"
   ]
  },
  {
   "cell_type": "code",
   "execution_count": null,
   "id": "93382111",
   "metadata": {},
   "outputs": [],
   "source": [
    "last_credit_application_before_mortgage = aggregate_variable(\"DAYS_CREDIT\", \"last_credit_application_before_mortgage\", np.min)\n",
    "last_credit_application_before_mortgage"
   ]
  },
  {
   "cell_type": "markdown",
   "id": "21c6b813",
   "metadata": {},
   "source": [
    "### Days overdue"
   ]
  },
  {
   "cell_type": "code",
   "execution_count": null,
   "id": "e1b5532b",
   "metadata": {},
   "outputs": [],
   "source": [
    "bureau.CREDIT_DAY_OVERDUE.value_counts()"
   ]
  },
  {
   "cell_type": "code",
   "execution_count": null,
   "id": "c6d45169",
   "metadata": {},
   "outputs": [],
   "source": [
    "bureau.CREDIT_DAY_OVERDUE.isna().sum()"
   ]
  },
  {
   "cell_type": "code",
   "execution_count": null,
   "id": "e56b4770",
   "metadata": {},
   "outputs": [],
   "source": [
    "std_days_overdue_on_one_credit = aggregate_variable(\"CREDIT_DAY_OVERDUE\", \"std_days_overdue_on_one_credit\", np.std)\n",
    "std_days_overdue_on_one_credit[std_days_overdue_on_one_credit[\"std_days_overdue_on_one_credit\"].isna()] = 0\n",
    "std_days_overdue_on_one_credit"
   ]
  },
  {
   "cell_type": "code",
   "execution_count": null,
   "id": "a3d9fcef",
   "metadata": {},
   "outputs": [],
   "source": [
    "pd.DataFrame(std_days_overdue_on_one_credit).isna().sum()"
   ]
  },
  {
   "cell_type": "markdown",
   "id": "1aef759f",
   "metadata": {},
   "source": [
    "### Credit amount"
   ]
  },
  {
   "cell_type": "markdown",
   "id": "585309e5",
   "metadata": {},
   "source": [
    "This is all credit amount, might make more sense to look only at active credit amounts. See below"
   ]
  },
  {
   "cell_type": "code",
   "execution_count": null,
   "id": "35b5c1ff",
   "metadata": {},
   "outputs": [],
   "source": [
    "bureau.AMT_CREDIT_SUM.value_counts()"
   ]
  },
  {
   "cell_type": "code",
   "execution_count": null,
   "id": "6db688ea",
   "metadata": {},
   "outputs": [],
   "source": [
    "total_amount_of_credit_taken = aggregate_variable(\"AMT_CREDIT_SUM\", \"total_amount_of_credit_taken\", np.sum)\n",
    "total_amount_of_credit_taken"
   ]
  },
  {
   "cell_type": "markdown",
   "id": "21f5ec98",
   "metadata": {},
   "source": [
    "This is only active credit amounts"
   ]
  },
  {
   "cell_type": "code",
   "execution_count": null,
   "id": "49248a64",
   "metadata": {},
   "outputs": [],
   "source": [
    "bureau[\"active_AMT_CREDIT_SUM\"] = bureau[\"AMT_CREDIT_SUM\"] * bureau[\"credit_active_dummy\"]\n",
    "active_total_amount_of_credit_taken = aggregate_variable(\"active_AMT_CREDIT_SUM\", \"active_total_amount_of_credit_taken\", np.sum)\n",
    "active_total_amount_of_credit_taken"
   ]
  },
  {
   "cell_type": "markdown",
   "id": "bab3a148",
   "metadata": {},
   "source": [
    "### Credit amount overdue"
   ]
  },
  {
   "cell_type": "markdown",
   "id": "f9726bbc",
   "metadata": {},
   "source": [
    "This is all credit amount overdue, might make more sense to look only at active credit amounts overdue. See below"
   ]
  },
  {
   "cell_type": "code",
   "execution_count": null,
   "id": "f44d04cb",
   "metadata": {},
   "outputs": [],
   "source": [
    "bureau.AMT_CREDIT_SUM_OVERDUE.value_counts()"
   ]
  },
  {
   "cell_type": "code",
   "execution_count": null,
   "id": "ccf4ef6a",
   "metadata": {},
   "outputs": [],
   "source": [
    "total_amount_of_credit_overdue = aggregate_variable(\"AMT_CREDIT_SUM_OVERDUE\", \"total_amount_of_credit_overdue\", np.sum)\n",
    "total_amount_of_credit_overdue"
   ]
  },
  {
   "cell_type": "markdown",
   "id": "59d29026",
   "metadata": {},
   "source": [
    "This is only active credit amount overdue"
   ]
  },
  {
   "cell_type": "code",
   "execution_count": null,
   "id": "d6d53340",
   "metadata": {},
   "outputs": [],
   "source": [
    "bureau[\"active_AMT_CREDIT_SUM_OVERDUE\"] = bureau[\"AMT_CREDIT_SUM_OVERDUE\"] * bureau[\"credit_active_dummy\"]\n",
    "active_total_amount_of_credit_overdue = aggregate_variable(\"AMT_CREDIT_SUM_OVERDUE\", \"active_total_amount_of_credit_overdue\", np.sum)\n",
    "active_total_amount_of_credit_overdue"
   ]
  },
  {
   "cell_type": "markdown",
   "id": "8e17ec56",
   "metadata": {},
   "source": [
    "### Credit Type"
   ]
  },
  {
   "cell_type": "code",
   "execution_count": null,
   "id": "5bc035ba",
   "metadata": {},
   "outputs": [],
   "source": [
    "bureau.CREDIT_TYPE.value_counts()"
   ]
  },
  {
   "cell_type": "markdown",
   "id": "4ba9638c",
   "metadata": {},
   "source": [
    "Approach ideas:\n",
    "- what kind of other credits taken?\n",
    "- income generating vs consumer credits taken?\n",
    "\n",
    "I think income generating vs consumer is best"
   ]
  },
  {
   "cell_type": "code",
   "execution_count": null,
   "id": "a4fbf419",
   "metadata": {},
   "outputs": [],
   "source": [
    "income_generating_credits = ('Loan for business development', 'Loan for working capital replenishment', 'Real estate loan', 'Loan for the purchase of equipment', 'Loan for purchase of shares (margin lending)')"
   ]
  },
  {
   "cell_type": "code",
   "execution_count": null,
   "id": "77f6b0b0",
   "metadata": {},
   "outputs": [],
   "source": [
    "bureau[\"income_generating_credit\"] = [1 if d in income_generating_credits else 0 for d in bureau.CREDIT_TYPE]\n",
    "number_of_income_generating_credits = bureau[[\"SK_ID_CURR\", \"income_generating_credit\"]].groupby(\"SK_ID_CURR\").agg(np.sum)\n",
    "number_of_income_generating_credits.columns = [\"number_of_income_generating_credits\"]\n",
    "\n",
    "share_of_income_generating_credits = pd.concat([number_of_income_generating_credits, number_of_credits_registered], axis = 1)\n",
    "\n",
    "share_of_income_generating_credits[\"share_of_income_generating_credits\"] = share_of_income_generating_credits[\"number_of_income_generating_credits\"] / share_of_income_generating_credits[\"number_of_credits_registered\"]\n",
    "share_of_income_generating_credits = share_of_income_generating_credits[\"share_of_income_generating_credits\"]\n",
    "share_of_income_generating_credits"
   ]
  },
  {
   "cell_type": "markdown",
   "id": "473ae971",
   "metadata": {},
   "source": [
    "# Bureau balance table"
   ]
  },
  {
   "cell_type": "markdown",
   "id": "946f0f71",
   "metadata": {},
   "source": [
    "## Load data"
   ]
  },
  {
   "cell_type": "code",
   "execution_count": null,
   "id": "fbe35ee7",
   "metadata": {},
   "outputs": [],
   "source": [
    "bureau_balance = pd.read_csv(\"../data/bureau_balance.csv\")\n",
    "bureau_balance"
   ]
  },
  {
   "cell_type": "markdown",
   "id": "0257d059",
   "metadata": {},
   "source": [
    "- Recoded ID of Credit Bureau credit (unique coding for each application) use this to join to CREDIT_BUREAU table\n",
    "- Month of balance relative to application date (-1 means the freshest balance date)\n",
    "- Status of Credit Bureau loan during the month (active, closed, DPD0-30,� [C means closed, X means status unknown, 0 means no DPD, 1 means maximal did during month between 1-30, 2 means DPD 31-60,� 5 means DPD 120+ or sold or written off ] )"
   ]
  },
  {
   "cell_type": "markdown",
   "id": "40b8998d",
   "metadata": {},
   "source": [
    "## Overview"
   ]
  },
  {
   "cell_type": "code",
   "execution_count": null,
   "id": "9fb2666c",
   "metadata": {
    "scrolled": true
   },
   "outputs": [],
   "source": [
    "print(\"Percentage of rows empty: \")\n",
    "print(\"\")\n",
    "print(bureau_balance.isna().sum() / len(bureau_balance.SK_ID_BUREAU) * 100)"
   ]
  },
  {
   "cell_type": "code",
   "execution_count": null,
   "id": "dc28ac10",
   "metadata": {
    "scrolled": true
   },
   "outputs": [],
   "source": [
    "link_table = bureau[[\"SK_ID_CURR\", \"SK_ID_BUREAU\"]].drop_duplicates()\n",
    "link_table"
   ]
  },
  {
   "cell_type": "code",
   "execution_count": null,
   "id": "304d3eae",
   "metadata": {},
   "outputs": [],
   "source": [
    "bureau_balance.STATUS.value_counts()"
   ]
  },
  {
   "cell_type": "markdown",
   "id": "dc2f5b76",
   "metadata": {},
   "source": [
    "## Feature creation"
   ]
  },
  {
   "cell_type": "code",
   "execution_count": null,
   "id": "40bda60c",
   "metadata": {},
   "outputs": [],
   "source": [
    "bureau_balance[\"defaulted\"] = [1 if d != \"0|1|2|3|C\" else 0 for d in bureau_balance[\"STATUS\"]]\n",
    "bureau_balance[\"year_before_application\"] = [1 if d > -13 else 0 for d in bureau_balance['MONTHS_BALANCE']]\n",
    "bureau_balance"
   ]
  },
  {
   "cell_type": "code",
   "execution_count": null,
   "id": "c5b13d4c",
   "metadata": {
    "scrolled": true
   },
   "outputs": [],
   "source": [
    "defaulted_last_year_bureau = bureau_balance[bureau_balance[\"year_before_application\"] == 1][[\"SK_ID_BUREAU\", \"defaulted\"]].groupby(\"SK_ID_BUREAU\").agg(np.sum)\n",
    "defaulted_last_year_bureau.columns = [\"defaulted_last_year_bureau\"]\n",
    "defaulted_last_year_bureau[\"defaulted_last_year_bureau\"] = [1 if d > 0 else 0 for d in defaulted_last_year_bureau[\"defaulted_last_year_bureau\"]]\n",
    "defaulted_last_year_bureau = defaulted_last_year_bureau.merge(link_table, on = \"SK_ID_BUREAU\", how = \"left\")[[\"SK_ID_CURR\", \"defaulted_last_year_bureau\"]]\n",
    "\n",
    "defaulted_last_year_bureau"
   ]
  },
  {
   "cell_type": "code",
   "execution_count": null,
   "id": "930f696b",
   "metadata": {},
   "outputs": [],
   "source": [
    "defaulted_last_year = defaulted_last_year_bureau.groupby(\"SK_ID_CURR\").agg(np.sum)\n",
    "defaulted_last_year[\"defaulted_last_year\"] = [1 if d > 0 else 0 for d in defaulted_last_year[\"defaulted_last_year_bureau\"]]\n",
    "defaulted_last_year.rename({\"defaulted_last_year_bureau\" : \"number_of_credits_defaulted_last_year\"}, inplace = True)\n",
    "defaulted_last_year"
   ]
  },
  {
   "cell_type": "markdown",
   "id": "19cb3996",
   "metadata": {},
   "source": [
    "# Getting features from both tables together"
   ]
  },
  {
   "cell_type": "markdown",
   "id": "64607aa6",
   "metadata": {},
   "source": [
    "## Create dataframe with only IDs"
   ]
  },
  {
   "cell_type": "code",
   "execution_count": null,
   "id": "fcf76e40",
   "metadata": {},
   "outputs": [],
   "source": [
    "bureau_reduced = pd.DataFrame(bureau.SK_ID_CURR.unique())\n",
    "bureau_reduced.columns = [\"SK_ID_CURR\"]\n",
    "bureau_reduced"
   ]
  },
  {
   "cell_type": "markdown",
   "id": "63b4d59e",
   "metadata": {},
   "source": [
    "## Merge all features based on ID"
   ]
  },
  {
   "cell_type": "code",
   "execution_count": null,
   "id": "ef8c9951",
   "metadata": {
    "scrolled": true
   },
   "outputs": [],
   "source": [
    "feature_list = [\n",
    "    share_of_active_credits_of_total_credits,\n",
    "    number_of_credits_registered,\n",
    "    last_credit_application_before_mortgage,\n",
    "    std_days_overdue_on_one_credit,\n",
    "    total_amount_of_credit_taken,\n",
    "    active_total_amount_of_credit_taken,\n",
    "    total_amount_of_credit_overdue,\n",
    "    active_total_amount_of_credit_overdue,\n",
    "    share_of_income_generating_credits,\n",
    "    defaulted_last_year,    \n",
    "]\n",
    "\n",
    "for feature in feature_list:\n",
    "    bureau_reduced = bureau_reduced.merge(feature, on ='SK_ID_CURR', how = 'left')"
   ]
  },
  {
   "cell_type": "markdown",
   "id": "916cb612",
   "metadata": {},
   "source": [
    "## Overview of final table"
   ]
  },
  {
   "cell_type": "code",
   "execution_count": null,
   "id": "fb26cce4",
   "metadata": {},
   "outputs": [],
   "source": [
    "bureau_reduced.isna().sum()"
   ]
  },
  {
   "cell_type": "code",
   "execution_count": null,
   "id": "88ae1c07",
   "metadata": {},
   "outputs": [],
   "source": [
    "bureau_reduced"
   ]
  }
 ],
 "metadata": {
  "kernelspec": {
   "display_name": "Python 3 (ipykernel)",
   "language": "python",
   "name": "python3"
  },
  "language_info": {
   "codemirror_mode": {
    "name": "ipython",
    "version": 3
   },
   "file_extension": ".py",
   "mimetype": "text/x-python",
   "name": "python",
   "nbconvert_exporter": "python",
   "pygments_lexer": "ipython3",
   "version": "3.10.4"
  }
 },
 "nbformat": 4,
 "nbformat_minor": 5
}
