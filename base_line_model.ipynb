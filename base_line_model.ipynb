{
 "cells": [
  {
   "cell_type": "markdown",
   "id": "a8809167",
   "metadata": {},
   "source": [
    "# Setup"
   ]
  },
  {
   "cell_type": "code",
   "execution_count": 1,
   "id": "70a46404",
   "metadata": {},
   "outputs": [],
   "source": [
    "import warnings\n",
    "warnings.filterwarnings('ignore') #beware\n",
    "\n",
    "import pandas as pd\n",
    "import numpy as np\n",
    "import matplotlib.pyplot as plt\n",
    "import seaborn as sns\n",
    "from scipy.stats.mstats import winsorize\n",
    "from sklearn.compose import ColumnTransformer\n",
    "from sklearn.preprocessing import (\n",
    "    OneHotEncoder, \n",
    "    KBinsDiscretizer, \n",
    "    FunctionTransformer,\n",
    "    MinMaxScaler,\n",
    ")\n",
    "from sklearn.linear_model import LogisticRegression\n",
    "from sklearn.model_selection import (\n",
    "    train_test_split, \n",
    "    cross_val_score, \n",
    "    GridSearchCV, \n",
    "    validation_curve, \n",
    "    KFold,\n",
    ")\n",
    "from sklearn.metrics import (\n",
    "    plot_confusion_matrix, \n",
    "    accuracy_score, \n",
    "    precision_score, \n",
    "    recall_score, \n",
    "    confusion_matrix, \n",
    "    f1_score,\n",
    ")"
   ]
  },
  {
   "cell_type": "markdown",
   "id": "cdc8ef46",
   "metadata": {},
   "source": [
    "# Load data"
   ]
  },
  {
   "cell_type": "code",
   "execution_count": 2,
   "id": "f8936bac",
   "metadata": {},
   "outputs": [],
   "source": [
    "app_train = pd.read_csv('data/application_train.csv')"
   ]
  },
  {
   "cell_type": "code",
   "execution_count": 3,
   "id": "a58e6234",
   "metadata": {},
   "outputs": [
    {
     "name": "stdout",
     "output_type": "stream",
     "text": [
      "SK_ID_CURR\n",
      "TARGET\n",
      "NAME_CONTRACT_TYPE\n",
      "CODE_GENDER\n",
      "FLAG_OWN_CAR\n",
      "FLAG_OWN_REALTY\n",
      "CNT_CHILDREN\n",
      "AMT_INCOME_TOTAL\n",
      "AMT_CREDIT\n",
      "AMT_ANNUITY\n",
      "AMT_GOODS_PRICE\n",
      "NAME_TYPE_SUITE\n",
      "NAME_INCOME_TYPE\n",
      "NAME_EDUCATION_TYPE\n",
      "NAME_FAMILY_STATUS\n",
      "NAME_HOUSING_TYPE\n",
      "REGION_POPULATION_RELATIVE\n",
      "DAYS_BIRTH\n",
      "DAYS_EMPLOYED\n",
      "DAYS_REGISTRATION\n",
      "DAYS_ID_PUBLISH\n",
      "OWN_CAR_AGE\n",
      "FLAG_MOBIL\n",
      "FLAG_EMP_PHONE\n",
      "FLAG_WORK_PHONE\n",
      "FLAG_CONT_MOBILE\n",
      "FLAG_PHONE\n",
      "FLAG_EMAIL\n",
      "OCCUPATION_TYPE\n",
      "CNT_FAM_MEMBERS\n",
      "REGION_RATING_CLIENT\n",
      "REGION_RATING_CLIENT_W_CITY\n",
      "WEEKDAY_APPR_PROCESS_START\n",
      "HOUR_APPR_PROCESS_START\n",
      "REG_REGION_NOT_LIVE_REGION\n",
      "REG_REGION_NOT_WORK_REGION\n",
      "LIVE_REGION_NOT_WORK_REGION\n",
      "REG_CITY_NOT_LIVE_CITY\n",
      "REG_CITY_NOT_WORK_CITY\n",
      "LIVE_CITY_NOT_WORK_CITY\n",
      "ORGANIZATION_TYPE\n",
      "EXT_SOURCE_1\n",
      "EXT_SOURCE_2\n",
      "EXT_SOURCE_3\n",
      "APARTMENTS_AVG\n",
      "BASEMENTAREA_AVG\n",
      "YEARS_BEGINEXPLUATATION_AVG\n",
      "YEARS_BUILD_AVG\n",
      "COMMONAREA_AVG\n",
      "ELEVATORS_AVG\n",
      "ENTRANCES_AVG\n",
      "FLOORSMAX_AVG\n",
      "FLOORSMIN_AVG\n",
      "LANDAREA_AVG\n",
      "LIVINGAPARTMENTS_AVG\n",
      "LIVINGAREA_AVG\n",
      "NONLIVINGAPARTMENTS_AVG\n",
      "NONLIVINGAREA_AVG\n",
      "APARTMENTS_MODE\n",
      "BASEMENTAREA_MODE\n",
      "YEARS_BEGINEXPLUATATION_MODE\n",
      "YEARS_BUILD_MODE\n",
      "COMMONAREA_MODE\n",
      "ELEVATORS_MODE\n",
      "ENTRANCES_MODE\n",
      "FLOORSMAX_MODE\n",
      "FLOORSMIN_MODE\n",
      "LANDAREA_MODE\n",
      "LIVINGAPARTMENTS_MODE\n",
      "LIVINGAREA_MODE\n",
      "NONLIVINGAPARTMENTS_MODE\n",
      "NONLIVINGAREA_MODE\n",
      "APARTMENTS_MEDI\n",
      "BASEMENTAREA_MEDI\n",
      "YEARS_BEGINEXPLUATATION_MEDI\n",
      "YEARS_BUILD_MEDI\n",
      "COMMONAREA_MEDI\n",
      "ELEVATORS_MEDI\n",
      "ENTRANCES_MEDI\n",
      "FLOORSMAX_MEDI\n",
      "FLOORSMIN_MEDI\n",
      "LANDAREA_MEDI\n",
      "LIVINGAPARTMENTS_MEDI\n",
      "LIVINGAREA_MEDI\n",
      "NONLIVINGAPARTMENTS_MEDI\n",
      "NONLIVINGAREA_MEDI\n",
      "FONDKAPREMONT_MODE\n",
      "HOUSETYPE_MODE\n",
      "TOTALAREA_MODE\n",
      "WALLSMATERIAL_MODE\n",
      "EMERGENCYSTATE_MODE\n",
      "OBS_30_CNT_SOCIAL_CIRCLE\n",
      "DEF_30_CNT_SOCIAL_CIRCLE\n",
      "OBS_60_CNT_SOCIAL_CIRCLE\n",
      "DEF_60_CNT_SOCIAL_CIRCLE\n",
      "DAYS_LAST_PHONE_CHANGE\n",
      "FLAG_DOCUMENT_2\n",
      "FLAG_DOCUMENT_3\n",
      "FLAG_DOCUMENT_4\n",
      "FLAG_DOCUMENT_5\n",
      "FLAG_DOCUMENT_6\n",
      "FLAG_DOCUMENT_7\n",
      "FLAG_DOCUMENT_8\n",
      "FLAG_DOCUMENT_9\n",
      "FLAG_DOCUMENT_10\n",
      "FLAG_DOCUMENT_11\n",
      "FLAG_DOCUMENT_12\n",
      "FLAG_DOCUMENT_13\n",
      "FLAG_DOCUMENT_14\n",
      "FLAG_DOCUMENT_15\n",
      "FLAG_DOCUMENT_16\n",
      "FLAG_DOCUMENT_17\n",
      "FLAG_DOCUMENT_18\n",
      "FLAG_DOCUMENT_19\n",
      "FLAG_DOCUMENT_20\n",
      "FLAG_DOCUMENT_21\n",
      "AMT_REQ_CREDIT_BUREAU_HOUR\n",
      "AMT_REQ_CREDIT_BUREAU_DAY\n",
      "AMT_REQ_CREDIT_BUREAU_WEEK\n",
      "AMT_REQ_CREDIT_BUREAU_MON\n",
      "AMT_REQ_CREDIT_BUREAU_QRT\n",
      "AMT_REQ_CREDIT_BUREAU_YEAR\n"
     ]
    }
   ],
   "source": [
    "for column in app_train.columns:\n",
    "    print(column)"
   ]
  },
  {
   "cell_type": "markdown",
   "id": "dc3e26d2",
   "metadata": {},
   "source": [
    "# Split data"
   ]
  },
  {
   "cell_type": "code",
   "execution_count": 4,
   "id": "aa4c6cf6",
   "metadata": {},
   "outputs": [],
   "source": [
    "X = app_train\n",
    "y = app_train[\"TARGET\"]\n",
    "\n",
    "X_train, X_test, y_train, y_test = train_test_split(X, y, \\\n",
    "                                                    random_state=84, \\\n",
    "                                                    stratify = X[[\"TARGET\"]])"
   ]
  },
  {
   "cell_type": "code",
   "execution_count": 5,
   "id": "a115ca3c",
   "metadata": {},
   "outputs": [
    {
     "data": {
      "text/plain": [
       "((230633, 122), (230633,))"
      ]
     },
     "execution_count": 5,
     "metadata": {},
     "output_type": "execute_result"
    }
   ],
   "source": [
    "X_train.shape, y_train.shape"
   ]
  },
  {
   "cell_type": "code",
   "execution_count": 6,
   "id": "984c921e",
   "metadata": {},
   "outputs": [
    {
     "data": {
      "text/plain": [
       "((76878, 122), (76878,))"
      ]
     },
     "execution_count": 6,
     "metadata": {},
     "output_type": "execute_result"
    }
   ],
   "source": [
    "X_test.shape, y_test.shape"
   ]
  },
  {
   "cell_type": "markdown",
   "id": "35053c32",
   "metadata": {},
   "source": [
    "# Pre-process"
   ]
  },
  {
   "cell_type": "markdown",
   "id": "0415d236",
   "metadata": {},
   "source": [
    "### Custom functions for some variables"
   ]
  },
  {
   "cell_type": "code",
   "execution_count": 7,
   "id": "85b77cd5",
   "metadata": {},
   "outputs": [],
   "source": [
    "def abs_log(a):\n",
    "    \"\"\"\n",
    "    This function takes the absolute value and then applies a log transformation. Absolute\n",
    "    values are necessary as the values are negative and log transformation coult not be \n",
    "    applied. Log transformation is applied to make the variables more normally distributed\n",
    "    while keeping ease of interpretation.\n",
    "    \"\"\"\n",
    "    a = a.iloc[:, 0]\n",
    "    a = abs(a)\n",
    "    a = np.log(a)\n",
    "    a = np.array(a).reshape(-1, 1)\n",
    "    return a"
   ]
  },
  {
   "cell_type": "code",
   "execution_count": 8,
   "id": "a1a6e298",
   "metadata": {},
   "outputs": [],
   "source": [
    "def winsorize_and_log(a):\n",
    "    \"\"\"\n",
    "    This function winsorizes at 1% and 99% of the distribution to handle outliers which are \n",
    "    clearly wrong and not reduce the sample size. A log of the variable is taken after \n",
    "    winsorizing to get the distribution closer to a normal distribution while keeping ease\n",
    "    of interpretation.\n",
    "    \"\"\"\n",
    "    a = a.iloc[:, 0]\n",
    "    a = winsorize(a, limits = [.01, .01])\n",
    "    a = np.log(a)\n",
    "    a = np.array(a).reshape(-1, 1)\n",
    "    return a"
   ]
  },
  {
   "cell_type": "code",
   "execution_count": 9,
   "id": "c8cce158",
   "metadata": {},
   "outputs": [],
   "source": [
    "def categorize_education_type(a):\n",
    "    \"\"\"\n",
    "    This function splits people into having higher education or not. This is done to reduce the\n",
    "    amount of categories while still being meaningful.\n",
    "    \"\"\"\n",
    "    a = a.iloc[:, 0]\n",
    "    a = [1 if d == \"Secondary / secondary special|Lower secondary\" else 0 for d in a]\n",
    "    a = np.array(a).reshape(-1, 1)\n",
    "    return a"
   ]
  },
  {
   "cell_type": "code",
   "execution_count": 10,
   "id": "ec2b0adf",
   "metadata": {},
   "outputs": [],
   "source": [
    "def categorize_income_type(a):\n",
    "    \"\"\"\n",
    "    This function splits people into being active workers or not. Grouping is necessary here as \n",
    "    otherwise we would need to delete the Maternity leave/Businessman group as there are very few\n",
    "    observations for these categories. When doing the split, these categories cause issues.\n",
    "    \"\"\"\n",
    "    a = a.iloc[:, 0]\n",
    "    a = [1 if d == \"Working|Commercial associate|State servant|Businessman\" else 0 for d in a]\n",
    "    a = np.array(a).reshape(-1, 1)\n",
    "    return a"
   ]
  },
  {
   "cell_type": "code",
   "execution_count": 11,
   "id": "9c4f2a06",
   "metadata": {},
   "outputs": [],
   "source": [
    "def categorize_family_status(a):\n",
    "    \"\"\"\n",
    "    This function splits people into being alone or not. Grouping is necessary here as otherwise \n",
    "    we would need to delete the Unknown group as there are only 2 observations for that category.\n",
    "    When doing the split, this very small category causes issues.\n",
    "    \"\"\"\n",
    "    a = a.iloc[:, 0]\n",
    "    a = [1 if d == \"Married|Civil marriage\" else 0 for d in a]\n",
    "    a = np.array(a).reshape(-1, 1)\n",
    "    return a"
   ]
  },
  {
   "cell_type": "markdown",
   "id": "39669257",
   "metadata": {},
   "source": [
    "### Column transformations"
   ]
  },
  {
   "cell_type": "code",
   "execution_count": 12,
   "id": "0fee80ac",
   "metadata": {},
   "outputs": [],
   "source": [
    "ct = ColumnTransformer(\n",
    "    [\n",
    "        ( # Bora, Maha\n",
    "            \"dummies\", OneHotEncoder(), \n",
    "            [\"NAME_HOUSING_TYPE\", \"NAME_CONTRACT_TYPE\"]\n",
    "        ), \n",
    "        \n",
    "        ( # Bora\n",
    "            \"logs\", FunctionTransformer(np.log), \n",
    "             [\"AMT_ANNUITY\"]\n",
    "        ), \n",
    "        \n",
    "        ( # Kahmin\n",
    "            \"abs_logs\", FunctionTransformer(abs_log), \n",
    "             [\"DAYS_BIRTH\"]\n",
    "        ), \n",
    "        \n",
    "        ( # Maha\n",
    "            \"winsorized_log\", FunctionTransformer(winsorize_and_log), \n",
    "            [\"AMT_INCOME_TOTAL\"]\n",
    "        ),\n",
    "        \n",
    "        ( # Lennard\n",
    "            \"higher_education\", FunctionTransformer(categorize_education_type), \n",
    "            [\"NAME_EDUCATION_TYPE\"]\n",
    "        ), \n",
    "        \n",
    "        ( # Kahmin\n",
    "            \"alone\", FunctionTransformer(categorize_family_status), \n",
    "            [\"NAME_FAMILY_STATUS\"]\n",
    "        ), \n",
    "        \n",
    "        ( # Sailan\n",
    "            \"active_employment\", FunctionTransformer(categorize_income_type), \n",
    "            [\"NAME_INCOME_TYPE\"]\n",
    "        ), \n",
    "        \n",
    "        ( # Sailan\n",
    "            \"minmax\", MinMaxScaler(),\n",
    "            [\"AMT_CREDIT\"]\n",
    "        ), \n",
    "        \n",
    "        ( # Kahmin\n",
    "            \"passthroughs\", \"passthrough\",\n",
    "            [\"CNT_FAM_MEMBERS\"]\n",
    "        ), \n",
    "    ]\n",
    ")"
   ]
  },
  {
   "cell_type": "code",
   "execution_count": 13,
   "id": "1b281470",
   "metadata": {},
   "outputs": [],
   "source": [
    "X_train_processed = pd.DataFrame(ct.fit_transform(X_train))\n",
    "X_test_processed = pd.DataFrame(ct.fit_transform(X_test))"
   ]
  },
  {
   "cell_type": "code",
   "execution_count": 14,
   "id": "ce22074e",
   "metadata": {},
   "outputs": [
    {
     "data": {
      "text/plain": [
       "((230633, 16), (76878, 16))"
      ]
     },
     "execution_count": 14,
     "metadata": {},
     "output_type": "execute_result"
    }
   ],
   "source": [
    "X_train_processed.shape, X_test_processed.shape"
   ]
  },
  {
   "cell_type": "markdown",
   "id": "6cf56702",
   "metadata": {},
   "source": [
    "### Prepare y-vector"
   ]
  },
  {
   "cell_type": "code",
   "execution_count": 15,
   "id": "9a4b1346",
   "metadata": {},
   "outputs": [],
   "source": [
    "y_train_processed = y_train.reset_index(drop=True)\n",
    "y_test_processed = y_test.reset_index(drop=True)"
   ]
  },
  {
   "cell_type": "code",
   "execution_count": 16,
   "id": "736d7f12",
   "metadata": {},
   "outputs": [
    {
     "data": {
      "text/plain": [
       "((230633,), (76878,))"
      ]
     },
     "execution_count": 16,
     "metadata": {},
     "output_type": "execute_result"
    }
   ],
   "source": [
    "y_train_processed.shape, y_test_processed.shape"
   ]
  },
  {
   "cell_type": "markdown",
   "id": "109893c4",
   "metadata": {},
   "source": [
    "# Clean"
   ]
  },
  {
   "cell_type": "markdown",
   "id": "5c013f02",
   "metadata": {},
   "source": [
    "### Correct for remaining missing values"
   ]
  },
  {
   "cell_type": "code",
   "execution_count": 17,
   "id": "1e7c68da",
   "metadata": {},
   "outputs": [],
   "source": [
    "index_train = (X_train_processed.isna().sum(axis=1)) | (y_train.isna())\n",
    "index_test = (X_test_processed.isna().sum(axis=1)) | (y_test.isna())"
   ]
  },
  {
   "cell_type": "code",
   "execution_count": 18,
   "id": "bc1ac069",
   "metadata": {},
   "outputs": [
    {
     "name": "stderr",
     "output_type": "stream",
     "text": [
      "/tmp/ipykernel_100203/1885464961.py:1: UserWarning: Boolean Series key will be reindexed to match DataFrame index.\n",
      "  X_train_processed_cleaned = X_train_processed[-index_train]\n",
      "/tmp/ipykernel_100203/1885464961.py:4: UserWarning: Boolean Series key will be reindexed to match DataFrame index.\n",
      "  X_test_processed_cleaned = X_test_processed[-index_test]\n"
     ]
    }
   ],
   "source": [
    "X_train_processed_cleaned = X_train_processed[-index_train]\n",
    "y_train_processed_cleaned = y_train_processed[-index_train]\n",
    "\n",
    "X_test_processed_cleaned = X_test_processed[-index_test]\n",
    "y_test_processed_cleaned = y_test_processed[-index_test]"
   ]
  },
  {
   "cell_type": "code",
   "execution_count": 19,
   "id": "fdf7d13e",
   "metadata": {},
   "outputs": [
    {
     "data": {
      "text/plain": [
       "((230620, 16), (76877, 16))"
      ]
     },
     "execution_count": 19,
     "metadata": {},
     "output_type": "execute_result"
    }
   ],
   "source": [
    "X_train_processed_cleaned.shape, X_test_processed_cleaned.shape"
   ]
  },
  {
   "cell_type": "code",
   "execution_count": 20,
   "id": "7371b4d4",
   "metadata": {},
   "outputs": [
    {
     "data": {
      "text/plain": [
       "((230620,), (76877,))"
      ]
     },
     "execution_count": 20,
     "metadata": {},
     "output_type": "execute_result"
    }
   ],
   "source": [
    "y_train_processed_cleaned.shape, y_test_processed_cleaned.shape"
   ]
  },
  {
   "cell_type": "markdown",
   "id": "2b0574e8",
   "metadata": {},
   "source": [
    "# Model"
   ]
  },
  {
   "cell_type": "code",
   "execution_count": 28,
   "id": "4506c0a6",
   "metadata": {},
   "outputs": [
    {
     "name": "stderr",
     "output_type": "stream",
     "text": [
      "/home/lennard/.local/lib/python3.10/site-packages/sklearn/linear_model/_logistic.py:444: ConvergenceWarning: lbfgs failed to converge (status=1):\n",
      "STOP: TOTAL NO. of ITERATIONS REACHED LIMIT.\n",
      "\n",
      "Increase the number of iterations (max_iter) or scale the data as shown in:\n",
      "    https://scikit-learn.org/stable/modules/preprocessing.html\n",
      "Please also refer to the documentation for alternative solver options:\n",
      "    https://scikit-learn.org/stable/modules/linear_model.html#logistic-regression\n",
      "  n_iter_i = _check_optimize_result(\n"
     ]
    },
    {
     "data": {
      "text/html": [
       "<style>#sk-container-id-3 {color: black;background-color: white;}#sk-container-id-3 pre{padding: 0;}#sk-container-id-3 div.sk-toggleable {background-color: white;}#sk-container-id-3 label.sk-toggleable__label {cursor: pointer;display: block;width: 100%;margin-bottom: 0;padding: 0.3em;box-sizing: border-box;text-align: center;}#sk-container-id-3 label.sk-toggleable__label-arrow:before {content: \"▸\";float: left;margin-right: 0.25em;color: #696969;}#sk-container-id-3 label.sk-toggleable__label-arrow:hover:before {color: black;}#sk-container-id-3 div.sk-estimator:hover label.sk-toggleable__label-arrow:before {color: black;}#sk-container-id-3 div.sk-toggleable__content {max-height: 0;max-width: 0;overflow: hidden;text-align: left;background-color: #f0f8ff;}#sk-container-id-3 div.sk-toggleable__content pre {margin: 0.2em;color: black;border-radius: 0.25em;background-color: #f0f8ff;}#sk-container-id-3 input.sk-toggleable__control:checked~div.sk-toggleable__content {max-height: 200px;max-width: 100%;overflow: auto;}#sk-container-id-3 input.sk-toggleable__control:checked~label.sk-toggleable__label-arrow:before {content: \"▾\";}#sk-container-id-3 div.sk-estimator input.sk-toggleable__control:checked~label.sk-toggleable__label {background-color: #d4ebff;}#sk-container-id-3 div.sk-label input.sk-toggleable__control:checked~label.sk-toggleable__label {background-color: #d4ebff;}#sk-container-id-3 input.sk-hidden--visually {border: 0;clip: rect(1px 1px 1px 1px);clip: rect(1px, 1px, 1px, 1px);height: 1px;margin: -1px;overflow: hidden;padding: 0;position: absolute;width: 1px;}#sk-container-id-3 div.sk-estimator {font-family: monospace;background-color: #f0f8ff;border: 1px dotted black;border-radius: 0.25em;box-sizing: border-box;margin-bottom: 0.5em;}#sk-container-id-3 div.sk-estimator:hover {background-color: #d4ebff;}#sk-container-id-3 div.sk-parallel-item::after {content: \"\";width: 100%;border-bottom: 1px solid gray;flex-grow: 1;}#sk-container-id-3 div.sk-label:hover label.sk-toggleable__label {background-color: #d4ebff;}#sk-container-id-3 div.sk-serial::before {content: \"\";position: absolute;border-left: 1px solid gray;box-sizing: border-box;top: 0;bottom: 0;left: 50%;z-index: 0;}#sk-container-id-3 div.sk-serial {display: flex;flex-direction: column;align-items: center;background-color: white;padding-right: 0.2em;padding-left: 0.2em;position: relative;}#sk-container-id-3 div.sk-item {position: relative;z-index: 1;}#sk-container-id-3 div.sk-parallel {display: flex;align-items: stretch;justify-content: center;background-color: white;position: relative;}#sk-container-id-3 div.sk-item::before, #sk-container-id-3 div.sk-parallel-item::before {content: \"\";position: absolute;border-left: 1px solid gray;box-sizing: border-box;top: 0;bottom: 0;left: 50%;z-index: -1;}#sk-container-id-3 div.sk-parallel-item {display: flex;flex-direction: column;z-index: 1;position: relative;background-color: white;}#sk-container-id-3 div.sk-parallel-item:first-child::after {align-self: flex-end;width: 50%;}#sk-container-id-3 div.sk-parallel-item:last-child::after {align-self: flex-start;width: 50%;}#sk-container-id-3 div.sk-parallel-item:only-child::after {width: 0;}#sk-container-id-3 div.sk-dashed-wrapped {border: 1px dashed gray;margin: 0 0.4em 0.5em 0.4em;box-sizing: border-box;padding-bottom: 0.4em;background-color: white;}#sk-container-id-3 div.sk-label label {font-family: monospace;font-weight: bold;display: inline-block;line-height: 1.2em;}#sk-container-id-3 div.sk-label-container {text-align: center;}#sk-container-id-3 div.sk-container {/* jupyter's `normalize.less` sets `[hidden] { display: none; }` but bootstrap.min.css set `[hidden] { display: none !important; }` so we also need the `!important` here to be able to override the default hidden behavior on the sphinx rendered scikit-learn.org. See: https://github.com/scikit-learn/scikit-learn/issues/21755 */display: inline-block !important;position: relative;}#sk-container-id-3 div.sk-text-repr-fallback {display: none;}</style><div id=\"sk-container-id-3\" class=\"sk-top-container\"><div class=\"sk-text-repr-fallback\"><pre>LogisticRegression()</pre><b>In a Jupyter environment, please rerun this cell to show the HTML representation or trust the notebook. <br />On GitHub, the HTML representation is unable to render, please try loading this page with nbviewer.org.</b></div><div class=\"sk-container\" hidden><div class=\"sk-item\"><div class=\"sk-estimator sk-toggleable\"><input class=\"sk-toggleable__control sk-hidden--visually\" id=\"sk-estimator-id-3\" type=\"checkbox\" checked><label for=\"sk-estimator-id-3\" class=\"sk-toggleable__label sk-toggleable__label-arrow\">LogisticRegression</label><div class=\"sk-toggleable__content\"><pre>LogisticRegression()</pre></div></div></div></div></div>"
      ],
      "text/plain": [
       "LogisticRegression()"
      ]
     },
     "execution_count": 28,
     "metadata": {},
     "output_type": "execute_result"
    }
   ],
   "source": [
    "log_reg = LogisticRegression()\n",
    "\n",
    "log_reg.fit(X_train_processed_cleaned, y_train_processed_cleaned)"
   ]
  },
  {
   "cell_type": "markdown",
   "id": "925fd243",
   "metadata": {},
   "source": [
    "### Evaluate"
   ]
  },
  {
   "cell_type": "code",
   "execution_count": 29,
   "id": "1d7ee99e",
   "metadata": {},
   "outputs": [
    {
     "name": "stderr",
     "output_type": "stream",
     "text": [
      "/home/lennard/.local/lib/python3.10/site-packages/sklearn/utils/deprecation.py:87: FutureWarning: Function plot_confusion_matrix is deprecated; Function `plot_confusion_matrix` is deprecated in 1.0 and will be removed in 1.2. Use one of the class methods: ConfusionMatrixDisplay.from_predictions or ConfusionMatrixDisplay.from_estimator.\n",
      "  warnings.warn(msg, category=FutureWarning)\n"
     ]
    },
    {
     "data": {
      "text/plain": [
       "<sklearn.metrics._plot.confusion_matrix.ConfusionMatrixDisplay at 0x7f561a4ebc70>"
      ]
     },
     "execution_count": 29,
     "metadata": {},
     "output_type": "execute_result"
    },
    {
     "data": {
      "image/png": "[encoded data removed]",
      "text/plain": [
       "<Figure size 432x288 with 2 Axes>"
      ]
     },
     "metadata": {
      "needs_background": "light"
     },
     "output_type": "display_data"
    }
   ],
   "source": [
    "plot_confusion_matrix(log_reg, X_test_processed_cleaned, y_test_processed_cleaned)"
   ]
  },
  {
   "cell_type": "markdown",
   "id": "9031737c",
   "metadata": {},
   "source": [
    "## Kfold validation"
   ]
  },
  {
   "cell_type": "code",
   "execution_count": 38,
   "id": "6514a0be",
   "metadata": {},
   "outputs": [
    {
     "name": "stderr",
     "output_type": "stream",
     "text": [
      "/home/lennard/.local/lib/python3.10/site-packages/sklearn/linear_model/_logistic.py:444: ConvergenceWarning: lbfgs failed to converge (status=1):\n",
      "STOP: TOTAL NO. of ITERATIONS REACHED LIMIT.\n",
      "\n",
      "Increase the number of iterations (max_iter) or scale the data as shown in:\n",
      "    https://scikit-learn.org/stable/modules/preprocessing.html\n",
      "Please also refer to the documentation for alternative solver options:\n",
      "    https://scikit-learn.org/stable/modules/linear_model.html#logistic-regression\n",
      "  n_iter_i = _check_optimize_result(\n",
      "/home/lennard/.local/lib/python3.10/site-packages/sklearn/linear_model/_logistic.py:444: ConvergenceWarning: lbfgs failed to converge (status=1):\n",
      "STOP: TOTAL NO. of ITERATIONS REACHED LIMIT.\n",
      "\n",
      "Increase the number of iterations (max_iter) or scale the data as shown in:\n",
      "    https://scikit-learn.org/stable/modules/preprocessing.html\n",
      "Please also refer to the documentation for alternative solver options:\n",
      "    https://scikit-learn.org/stable/modules/linear_model.html#logistic-regression\n",
      "  n_iter_i = _check_optimize_result(\n",
      "/home/lennard/.local/lib/python3.10/site-packages/sklearn/linear_model/_logistic.py:444: ConvergenceWarning: lbfgs failed to converge (status=1):\n",
      "STOP: TOTAL NO. of ITERATIONS REACHED LIMIT.\n",
      "\n",
      "Increase the number of iterations (max_iter) or scale the data as shown in:\n",
      "    https://scikit-learn.org/stable/modules/preprocessing.html\n",
      "Please also refer to the documentation for alternative solver options:\n",
      "    https://scikit-learn.org/stable/modules/linear_model.html#logistic-regression\n",
      "  n_iter_i = _check_optimize_result(\n",
      "/home/lennard/.local/lib/python3.10/site-packages/sklearn/linear_model/_logistic.py:444: ConvergenceWarning: lbfgs failed to converge (status=1):\n",
      "STOP: TOTAL NO. of ITERATIONS REACHED LIMIT.\n",
      "\n",
      "Increase the number of iterations (max_iter) or scale the data as shown in:\n",
      "    https://scikit-learn.org/stable/modules/preprocessing.html\n",
      "Please also refer to the documentation for alternative solver options:\n",
      "    https://scikit-learn.org/stable/modules/linear_model.html#logistic-regression\n",
      "  n_iter_i = _check_optimize_result(\n",
      "/home/lennard/.local/lib/python3.10/site-packages/sklearn/linear_model/_logistic.py:444: ConvergenceWarning: lbfgs failed to converge (status=1):\n",
      "STOP: TOTAL NO. of ITERATIONS REACHED LIMIT.\n",
      "\n",
      "Increase the number of iterations (max_iter) or scale the data as shown in:\n",
      "    https://scikit-learn.org/stable/modules/preprocessing.html\n",
      "Please also refer to the documentation for alternative solver options:\n",
      "    https://scikit-learn.org/stable/modules/linear_model.html#logistic-regression\n",
      "  n_iter_i = _check_optimize_result(\n",
      "/home/lennard/.local/lib/python3.10/site-packages/sklearn/linear_model/_logistic.py:444: ConvergenceWarning: lbfgs failed to converge (status=1):\n",
      "STOP: TOTAL NO. of ITERATIONS REACHED LIMIT.\n",
      "\n",
      "Increase the number of iterations (max_iter) or scale the data as shown in:\n",
      "    https://scikit-learn.org/stable/modules/preprocessing.html\n",
      "Please also refer to the documentation for alternative solver options:\n",
      "    https://scikit-learn.org/stable/modules/linear_model.html#logistic-regression\n",
      "  n_iter_i = _check_optimize_result(\n",
      "/home/lennard/.local/lib/python3.10/site-packages/sklearn/linear_model/_logistic.py:444: ConvergenceWarning: lbfgs failed to converge (status=1):\n",
      "STOP: TOTAL NO. of ITERATIONS REACHED LIMIT.\n",
      "\n",
      "Increase the number of iterations (max_iter) or scale the data as shown in:\n",
      "    https://scikit-learn.org/stable/modules/preprocessing.html\n",
      "Please also refer to the documentation for alternative solver options:\n",
      "    https://scikit-learn.org/stable/modules/linear_model.html#logistic-regression\n",
      "  n_iter_i = _check_optimize_result(\n",
      "/home/lennard/.local/lib/python3.10/site-packages/sklearn/linear_model/_logistic.py:444: ConvergenceWarning: lbfgs failed to converge (status=1):\n",
      "STOP: TOTAL NO. of ITERATIONS REACHED LIMIT.\n",
      "\n",
      "Increase the number of iterations (max_iter) or scale the data as shown in:\n",
      "    https://scikit-learn.org/stable/modules/preprocessing.html\n",
      "Please also refer to the documentation for alternative solver options:\n",
      "    https://scikit-learn.org/stable/modules/linear_model.html#logistic-regression\n",
      "  n_iter_i = _check_optimize_result(\n",
      "/home/lennard/.local/lib/python3.10/site-packages/sklearn/linear_model/_logistic.py:444: ConvergenceWarning: lbfgs failed to converge (status=1):\n",
      "STOP: TOTAL NO. of ITERATIONS REACHED LIMIT.\n",
      "\n",
      "Increase the number of iterations (max_iter) or scale the data as shown in:\n",
      "    https://scikit-learn.org/stable/modules/preprocessing.html\n",
      "Please also refer to the documentation for alternative solver options:\n",
      "    https://scikit-learn.org/stable/modules/linear_model.html#logistic-regression\n",
      "  n_iter_i = _check_optimize_result(\n",
      "/home/lennard/.local/lib/python3.10/site-packages/sklearn/linear_model/_logistic.py:444: ConvergenceWarning: lbfgs failed to converge (status=1):\n",
      "STOP: TOTAL NO. of ITERATIONS REACHED LIMIT.\n",
      "\n",
      "Increase the number of iterations (max_iter) or scale the data as shown in:\n",
      "    https://scikit-learn.org/stable/modules/preprocessing.html\n",
      "Please also refer to the documentation for alternative solver options:\n",
      "    https://scikit-learn.org/stable/modules/linear_model.html#logistic-regression\n",
      "  n_iter_i = _check_optimize_result(\n"
     ]
    }
   ],
   "source": [
    "accuracies = []\n",
    "model = []\n",
    "\n",
    "kf = KFold(n_splits=10)\n",
    "kf.get_n_splits(X_train)\n",
    "\n",
    "X = X_train.reset_index(drop = True)\n",
    "y = y_train.reset_index(drop = True)\n",
    "\n",
    "for train_fold, test_fold in kf.split(X_train):\n",
    "\n",
    "    # split\n",
    "    X_train_fold, X_test_fold = X.iloc[train_fold], X.iloc[test_fold]\n",
    "    y_train_fold, y_test_fold = y[train_fold], y[test_fold]\n",
    "    \n",
    "    # transform\n",
    "    X_train_fold_processed = pd.DataFrame(ct.fit_transform(X_train_fold))\n",
    "    X_test_fold_processed = pd.DataFrame(ct.fit_transform(X_test_fold)) \n",
    "    y_train_fold_processed = y_train_fold.reset_index(drop=True)\n",
    "    y_test_fold_processed = y_test_fold.reset_index(drop=True)\n",
    "    \n",
    "    # clean\n",
    "    index_train = (X_train_fold_processed.isna().sum(axis=1)) | (y_train_fold_processed.isna())\n",
    "    index_test = (X_test_fold_processed.isna().sum(axis=1)) | (y_test_fold_processed.isna())\n",
    "    X_train_fold_processed_cleaned = X_train_fold_processed[-index_train]\n",
    "    y_train_fold_processed_cleaned = y_train_fold_processed[-index_train]\n",
    "    X_test_fold_processed_cleaned = X_test_fold_processed[-index_test]\n",
    "    y_test_fold_processed_cleaned = y_test_fold_processed[-index_test]\n",
    "\n",
    "    # model\n",
    "    lr = LogisticRegression()\n",
    "    lr.fit(X_train_fold_processed_cleaned, y_train_fold_processed_cleaned)\n",
    "\n",
    "    # save\n",
    "    model.append(lr)\n",
    "    accuracies.append(accuracy_score(lr.predict(X_test_fold_processed_cleaned), y_test_fold_processed_cleaned))\n"
   ]
  }
 ],
 "metadata": {
  "kernelspec": {
   "display_name": "Python 3 (ipykernel)",
   "language": "python",
   "name": "python3"
  },
  "language_info": {
   "codemirror_mode": {
    "name": "ipython",
    "version": 3
   },
   "file_extension": ".py",
   "mimetype": "text/x-python",
   "name": "python",
   "nbconvert_exporter": "python",
   "pygments_lexer": "ipython3",
   "version": "3.10.6"
  }
 },
 "nbformat": 4,
 "nbformat_minor": 5
}
