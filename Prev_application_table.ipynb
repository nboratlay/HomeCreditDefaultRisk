{
 "cells": [
  {
   "cell_type": "markdown",
   "id": "16f642e0",
   "metadata": {},
   "source": [
    "## previous_application.csv table \n",
    "\n",
    "###  A brief examination of the prior applications with a description of each column \n",
    "\n",
    "***\n"
   ]
  },
  {
   "cell_type": "markdown",
   "id": "581f06be",
   "metadata": {},
   "source": [
    "## Load and read data"
   ]
  },
  {
   "cell_type": "code",
   "execution_count": 1,
   "id": "c4cb9df4",
   "metadata": {},
   "outputs": [],
   "source": [
    "import pandas as pd\n",
    "import numpy as np\n",
    "import seaborn as sns\n",
    "sns.set_style('whitegrid')\n",
    "from collections import Counter\n",
    "\n",
    "import matplotlib.pyplot as plt\n",
    "\n",
    "from sklearn.preprocessing import (\n",
    "    OneHotEncoder, \n",
    "    KBinsDiscretizer, \n",
    "    FunctionTransformer,\n",
    "    MinMaxScaler,\n",
    ")\n",
    "\n",
    "from sklearn.compose import ColumnTransformer"
   ]
  },
  {
   "cell_type": "code",
   "execution_count": 2,
   "id": "12497604",
   "metadata": {},
   "outputs": [],
   "source": [
    "#Read the data into pandas dataframe\n",
    "df = pd.read_csv('previous_application.csv')"
   ]
  },
  {
   "cell_type": "code",
   "execution_count": 3,
   "id": "e443b531",
   "metadata": {},
   "outputs": [
    {
     "data": {
      "text/html": [
       "<div>\n",
       "<style scoped>\n",
       "    .dataframe tbody tr th:only-of-type {\n",
       "        vertical-align: middle;\n",
       "    }\n",
       "\n",
       "    .dataframe tbody tr th {\n",
       "        vertical-align: top;\n",
       "    }\n",
       "\n",
       "    .dataframe thead th {\n",
       "        text-align: right;\n",
       "    }\n",
       "</style>\n",
       "<table border=\"1\" class=\"dataframe\">\n",
       "  <thead>\n",
       "    <tr style=\"text-align: right;\">\n",
       "      <th></th>\n",
       "      <th>SK_ID_PREV</th>\n",
       "      <th>SK_ID_CURR</th>\n",
       "      <th>NAME_CONTRACT_TYPE</th>\n",
       "      <th>AMT_ANNUITY</th>\n",
       "      <th>AMT_APPLICATION</th>\n",
       "      <th>AMT_CREDIT</th>\n",
       "      <th>AMT_DOWN_PAYMENT</th>\n",
       "      <th>AMT_GOODS_PRICE</th>\n",
       "      <th>WEEKDAY_APPR_PROCESS_START</th>\n",
       "      <th>HOUR_APPR_PROCESS_START</th>\n",
       "      <th>...</th>\n",
       "      <th>NAME_SELLER_INDUSTRY</th>\n",
       "      <th>CNT_PAYMENT</th>\n",
       "      <th>NAME_YIELD_GROUP</th>\n",
       "      <th>PRODUCT_COMBINATION</th>\n",
       "      <th>DAYS_FIRST_DRAWING</th>\n",
       "      <th>DAYS_FIRST_DUE</th>\n",
       "      <th>DAYS_LAST_DUE_1ST_VERSION</th>\n",
       "      <th>DAYS_LAST_DUE</th>\n",
       "      <th>DAYS_TERMINATION</th>\n",
       "      <th>NFLAG_INSURED_ON_APPROVAL</th>\n",
       "    </tr>\n",
       "  </thead>\n",
       "  <tbody>\n",
       "    <tr>\n",
       "      <th>0</th>\n",
       "      <td>2030495</td>\n",
       "      <td>271877</td>\n",
       "      <td>Consumer loans</td>\n",
       "      <td>1730.430</td>\n",
       "      <td>17145.0</td>\n",
       "      <td>17145.0</td>\n",
       "      <td>0.0</td>\n",
       "      <td>17145.0</td>\n",
       "      <td>SATURDAY</td>\n",
       "      <td>15</td>\n",
       "      <td>...</td>\n",
       "      <td>Connectivity</td>\n",
       "      <td>12.0</td>\n",
       "      <td>middle</td>\n",
       "      <td>POS mobile with interest</td>\n",
       "      <td>365243.0</td>\n",
       "      <td>-42.0</td>\n",
       "      <td>300.0</td>\n",
       "      <td>-42.0</td>\n",
       "      <td>-37.0</td>\n",
       "      <td>0.0</td>\n",
       "    </tr>\n",
       "    <tr>\n",
       "      <th>1</th>\n",
       "      <td>2802425</td>\n",
       "      <td>108129</td>\n",
       "      <td>Cash loans</td>\n",
       "      <td>25188.615</td>\n",
       "      <td>607500.0</td>\n",
       "      <td>679671.0</td>\n",
       "      <td>NaN</td>\n",
       "      <td>607500.0</td>\n",
       "      <td>THURSDAY</td>\n",
       "      <td>11</td>\n",
       "      <td>...</td>\n",
       "      <td>XNA</td>\n",
       "      <td>36.0</td>\n",
       "      <td>low_action</td>\n",
       "      <td>Cash X-Sell: low</td>\n",
       "      <td>365243.0</td>\n",
       "      <td>-134.0</td>\n",
       "      <td>916.0</td>\n",
       "      <td>365243.0</td>\n",
       "      <td>365243.0</td>\n",
       "      <td>1.0</td>\n",
       "    </tr>\n",
       "    <tr>\n",
       "      <th>2</th>\n",
       "      <td>2523466</td>\n",
       "      <td>122040</td>\n",
       "      <td>Cash loans</td>\n",
       "      <td>15060.735</td>\n",
       "      <td>112500.0</td>\n",
       "      <td>136444.5</td>\n",
       "      <td>NaN</td>\n",
       "      <td>112500.0</td>\n",
       "      <td>TUESDAY</td>\n",
       "      <td>11</td>\n",
       "      <td>...</td>\n",
       "      <td>XNA</td>\n",
       "      <td>12.0</td>\n",
       "      <td>high</td>\n",
       "      <td>Cash X-Sell: high</td>\n",
       "      <td>365243.0</td>\n",
       "      <td>-271.0</td>\n",
       "      <td>59.0</td>\n",
       "      <td>365243.0</td>\n",
       "      <td>365243.0</td>\n",
       "      <td>1.0</td>\n",
       "    </tr>\n",
       "    <tr>\n",
       "      <th>3</th>\n",
       "      <td>2819243</td>\n",
       "      <td>176158</td>\n",
       "      <td>Cash loans</td>\n",
       "      <td>47041.335</td>\n",
       "      <td>450000.0</td>\n",
       "      <td>470790.0</td>\n",
       "      <td>NaN</td>\n",
       "      <td>450000.0</td>\n",
       "      <td>MONDAY</td>\n",
       "      <td>7</td>\n",
       "      <td>...</td>\n",
       "      <td>XNA</td>\n",
       "      <td>12.0</td>\n",
       "      <td>middle</td>\n",
       "      <td>Cash X-Sell: middle</td>\n",
       "      <td>365243.0</td>\n",
       "      <td>-482.0</td>\n",
       "      <td>-152.0</td>\n",
       "      <td>-182.0</td>\n",
       "      <td>-177.0</td>\n",
       "      <td>1.0</td>\n",
       "    </tr>\n",
       "    <tr>\n",
       "      <th>4</th>\n",
       "      <td>1784265</td>\n",
       "      <td>202054</td>\n",
       "      <td>Cash loans</td>\n",
       "      <td>31924.395</td>\n",
       "      <td>337500.0</td>\n",
       "      <td>404055.0</td>\n",
       "      <td>NaN</td>\n",
       "      <td>337500.0</td>\n",
       "      <td>THURSDAY</td>\n",
       "      <td>9</td>\n",
       "      <td>...</td>\n",
       "      <td>XNA</td>\n",
       "      <td>24.0</td>\n",
       "      <td>high</td>\n",
       "      <td>Cash Street: high</td>\n",
       "      <td>NaN</td>\n",
       "      <td>NaN</td>\n",
       "      <td>NaN</td>\n",
       "      <td>NaN</td>\n",
       "      <td>NaN</td>\n",
       "      <td>NaN</td>\n",
       "    </tr>\n",
       "  </tbody>\n",
       "</table>\n",
       "<p>5 rows × 37 columns</p>\n",
       "</div>"
      ],
      "text/plain": [
       "   SK_ID_PREV  SK_ID_CURR NAME_CONTRACT_TYPE  AMT_ANNUITY  AMT_APPLICATION  \\\n",
       "0     2030495      271877     Consumer loans     1730.430          17145.0   \n",
       "1     2802425      108129         Cash loans    25188.615         607500.0   \n",
       "2     2523466      122040         Cash loans    15060.735         112500.0   \n",
       "3     2819243      176158         Cash loans    47041.335         450000.0   \n",
       "4     1784265      202054         Cash loans    31924.395         337500.0   \n",
       "\n",
       "   AMT_CREDIT  AMT_DOWN_PAYMENT  AMT_GOODS_PRICE WEEKDAY_APPR_PROCESS_START  \\\n",
       "0     17145.0               0.0          17145.0                   SATURDAY   \n",
       "1    679671.0               NaN         607500.0                   THURSDAY   \n",
       "2    136444.5               NaN         112500.0                    TUESDAY   \n",
       "3    470790.0               NaN         450000.0                     MONDAY   \n",
       "4    404055.0               NaN         337500.0                   THURSDAY   \n",
       "\n",
       "   HOUR_APPR_PROCESS_START  ... NAME_SELLER_INDUSTRY  CNT_PAYMENT  \\\n",
       "0                       15  ...         Connectivity         12.0   \n",
       "1                       11  ...                  XNA         36.0   \n",
       "2                       11  ...                  XNA         12.0   \n",
       "3                        7  ...                  XNA         12.0   \n",
       "4                        9  ...                  XNA         24.0   \n",
       "\n",
       "   NAME_YIELD_GROUP       PRODUCT_COMBINATION  DAYS_FIRST_DRAWING  \\\n",
       "0            middle  POS mobile with interest            365243.0   \n",
       "1        low_action          Cash X-Sell: low            365243.0   \n",
       "2              high         Cash X-Sell: high            365243.0   \n",
       "3            middle       Cash X-Sell: middle            365243.0   \n",
       "4              high         Cash Street: high                 NaN   \n",
       "\n",
       "  DAYS_FIRST_DUE DAYS_LAST_DUE_1ST_VERSION  DAYS_LAST_DUE DAYS_TERMINATION  \\\n",
       "0          -42.0                     300.0          -42.0            -37.0   \n",
       "1         -134.0                     916.0       365243.0         365243.0   \n",
       "2         -271.0                      59.0       365243.0         365243.0   \n",
       "3         -482.0                    -152.0         -182.0           -177.0   \n",
       "4            NaN                       NaN            NaN              NaN   \n",
       "\n",
       "  NFLAG_INSURED_ON_APPROVAL  \n",
       "0                       0.0  \n",
       "1                       1.0  \n",
       "2                       1.0  \n",
       "3                       1.0  \n",
       "4                       NaN  \n",
       "\n",
       "[5 rows x 37 columns]"
      ]
     },
     "execution_count": 3,
     "metadata": {},
     "output_type": "execute_result"
    }
   ],
   "source": [
    "df.head()"
   ]
  },
  {
   "cell_type": "markdown",
   "id": "5e06c2a1",
   "metadata": {},
   "source": [
    "## Understanding data"
   ]
  },
  {
   "cell_type": "code",
   "execution_count": 4,
   "id": "b4ba364e",
   "metadata": {},
   "outputs": [
    {
     "data": {
      "text/plain": [
       "Index(['SK_ID_PREV', 'SK_ID_CURR', 'NAME_CONTRACT_TYPE', 'AMT_ANNUITY',\n",
       "       'AMT_APPLICATION', 'AMT_CREDIT', 'AMT_DOWN_PAYMENT', 'AMT_GOODS_PRICE',\n",
       "       'WEEKDAY_APPR_PROCESS_START', 'HOUR_APPR_PROCESS_START',\n",
       "       'FLAG_LAST_APPL_PER_CONTRACT', 'NFLAG_LAST_APPL_IN_DAY',\n",
       "       'RATE_DOWN_PAYMENT', 'RATE_INTEREST_PRIMARY',\n",
       "       'RATE_INTEREST_PRIVILEGED', 'NAME_CASH_LOAN_PURPOSE',\n",
       "       'NAME_CONTRACT_STATUS', 'DAYS_DECISION', 'NAME_PAYMENT_TYPE',\n",
       "       'CODE_REJECT_REASON', 'NAME_TYPE_SUITE', 'NAME_CLIENT_TYPE',\n",
       "       'NAME_GOODS_CATEGORY', 'NAME_PORTFOLIO', 'NAME_PRODUCT_TYPE',\n",
       "       'CHANNEL_TYPE', 'SELLERPLACE_AREA', 'NAME_SELLER_INDUSTRY',\n",
       "       'CNT_PAYMENT', 'NAME_YIELD_GROUP', 'PRODUCT_COMBINATION',\n",
       "       'DAYS_FIRST_DRAWING', 'DAYS_FIRST_DUE', 'DAYS_LAST_DUE_1ST_VERSION',\n",
       "       'DAYS_LAST_DUE', 'DAYS_TERMINATION', 'NFLAG_INSURED_ON_APPROVAL'],\n",
       "      dtype='object')"
      ]
     },
     "execution_count": 4,
     "metadata": {},
     "output_type": "execute_result"
    }
   ],
   "source": [
    "# displaying columns\n",
    "df.columns"
   ]
  },
  {
   "cell_type": "code",
   "execution_count": 5,
   "id": "72e434fc",
   "metadata": {},
   "outputs": [
    {
     "name": "stdout",
     "output_type": "stream",
     "text": [
      "My dataset has 1670214 rows and 37 columns\n"
     ]
    }
   ],
   "source": [
    "# How large is my dataset?\n",
    "print(f\"My dataset has {df.shape[0]} rows and {df.shape[1]} columns\")\n"
   ]
  },
  {
   "cell_type": "code",
   "execution_count": 6,
   "id": "9aa93794",
   "metadata": {},
   "outputs": [
    {
     "name": "stdout",
     "output_type": "stream",
     "text": [
      "<class 'pandas.core.frame.DataFrame'>\n",
      "RangeIndex: 1670214 entries, 0 to 1670213\n",
      "Data columns (total 37 columns):\n",
      " #   Column                       Non-Null Count    Dtype  \n",
      "---  ------                       --------------    -----  \n",
      " 0   SK_ID_PREV                   1670214 non-null  int64  \n",
      " 1   SK_ID_CURR                   1670214 non-null  int64  \n",
      " 2   NAME_CONTRACT_TYPE           1670214 non-null  object \n",
      " 3   AMT_ANNUITY                  1297979 non-null  float64\n",
      " 4   AMT_APPLICATION              1670214 non-null  float64\n",
      " 5   AMT_CREDIT                   1670213 non-null  float64\n",
      " 6   AMT_DOWN_PAYMENT             774370 non-null   float64\n",
      " 7   AMT_GOODS_PRICE              1284699 non-null  float64\n",
      " 8   WEEKDAY_APPR_PROCESS_START   1670214 non-null  object \n",
      " 9   HOUR_APPR_PROCESS_START      1670214 non-null  int64  \n",
      " 10  FLAG_LAST_APPL_PER_CONTRACT  1670214 non-null  object \n",
      " 11  NFLAG_LAST_APPL_IN_DAY       1670214 non-null  int64  \n",
      " 12  RATE_DOWN_PAYMENT            774370 non-null   float64\n",
      " 13  RATE_INTEREST_PRIMARY        5951 non-null     float64\n",
      " 14  RATE_INTEREST_PRIVILEGED     5951 non-null     float64\n",
      " 15  NAME_CASH_LOAN_PURPOSE       1670214 non-null  object \n",
      " 16  NAME_CONTRACT_STATUS         1670214 non-null  object \n",
      " 17  DAYS_DECISION                1670214 non-null  int64  \n",
      " 18  NAME_PAYMENT_TYPE            1670214 non-null  object \n",
      " 19  CODE_REJECT_REASON           1670214 non-null  object \n",
      " 20  NAME_TYPE_SUITE              849809 non-null   object \n",
      " 21  NAME_CLIENT_TYPE             1670214 non-null  object \n",
      " 22  NAME_GOODS_CATEGORY          1670214 non-null  object \n",
      " 23  NAME_PORTFOLIO               1670214 non-null  object \n",
      " 24  NAME_PRODUCT_TYPE            1670214 non-null  object \n",
      " 25  CHANNEL_TYPE                 1670214 non-null  object \n",
      " 26  SELLERPLACE_AREA             1670214 non-null  int64  \n",
      " 27  NAME_SELLER_INDUSTRY         1670214 non-null  object \n",
      " 28  CNT_PAYMENT                  1297984 non-null  float64\n",
      " 29  NAME_YIELD_GROUP             1670214 non-null  object \n",
      " 30  PRODUCT_COMBINATION          1669868 non-null  object \n",
      " 31  DAYS_FIRST_DRAWING           997149 non-null   float64\n",
      " 32  DAYS_FIRST_DUE               997149 non-null   float64\n",
      " 33  DAYS_LAST_DUE_1ST_VERSION    997149 non-null   float64\n",
      " 34  DAYS_LAST_DUE                997149 non-null   float64\n",
      " 35  DAYS_TERMINATION             997149 non-null   float64\n",
      " 36  NFLAG_INSURED_ON_APPROVAL    997149 non-null   float64\n",
      "dtypes: float64(15), int64(6), object(16)\n",
      "memory usage: 471.5+ MB\n"
     ]
    }
   ],
   "source": [
    "## We now want to check out our data-types as well as get a feeling for possible missing values\n",
    "df.info()"
   ]
  },
  {
   "cell_type": "markdown",
   "id": "ea39de8b",
   "metadata": {},
   "source": [
    "#### Generally we assume the data is incomplete (has missing values) and is incorrect (has obvious logical problems that defy our understanding of the content)"
   ]
  },
  {
   "cell_type": "markdown",
   "id": "fab00e4d",
   "metadata": {},
   "source": [
    "## Explore and clean data\n"
   ]
  },
  {
   "cell_type": "markdown",
   "id": "f5323163",
   "metadata": {},
   "source": [
    "##### Drop columns\n"
   ]
  },
  {
   "cell_type": "markdown",
   "id": "2d5bb089",
   "metadata": {},
   "source": [
    "Since we are not interested in all the columns, we can drop some of these to make our exploration easier"
   ]
  },
  {
   "cell_type": "code",
   "execution_count": 7,
   "id": "7bd6df4e",
   "metadata": {},
   "outputs": [
    {
     "data": {
      "text/html": [
       "<div>\n",
       "<style scoped>\n",
       "    .dataframe tbody tr th:only-of-type {\n",
       "        vertical-align: middle;\n",
       "    }\n",
       "\n",
       "    .dataframe tbody tr th {\n",
       "        vertical-align: top;\n",
       "    }\n",
       "\n",
       "    .dataframe thead th {\n",
       "        text-align: right;\n",
       "    }\n",
       "</style>\n",
       "<table border=\"1\" class=\"dataframe\">\n",
       "  <thead>\n",
       "    <tr style=\"text-align: right;\">\n",
       "      <th></th>\n",
       "      <th>percent</th>\n",
       "    </tr>\n",
       "  </thead>\n",
       "  <tbody>\n",
       "    <tr>\n",
       "      <th>RATE_INTEREST_PRIVILEGED</th>\n",
       "      <td>0.996437</td>\n",
       "    </tr>\n",
       "    <tr>\n",
       "      <th>RATE_INTEREST_PRIMARY</th>\n",
       "      <td>0.996437</td>\n",
       "    </tr>\n",
       "    <tr>\n",
       "      <th>AMT_DOWN_PAYMENT</th>\n",
       "      <td>0.536365</td>\n",
       "    </tr>\n",
       "    <tr>\n",
       "      <th>RATE_DOWN_PAYMENT</th>\n",
       "      <td>0.536365</td>\n",
       "    </tr>\n",
       "    <tr>\n",
       "      <th>NAME_TYPE_SUITE</th>\n",
       "      <td>0.491198</td>\n",
       "    </tr>\n",
       "    <tr>\n",
       "      <th>NFLAG_INSURED_ON_APPROVAL</th>\n",
       "      <td>0.402981</td>\n",
       "    </tr>\n",
       "    <tr>\n",
       "      <th>DAYS_TERMINATION</th>\n",
       "      <td>0.402981</td>\n",
       "    </tr>\n",
       "    <tr>\n",
       "      <th>DAYS_LAST_DUE</th>\n",
       "      <td>0.402981</td>\n",
       "    </tr>\n",
       "    <tr>\n",
       "      <th>DAYS_LAST_DUE_1ST_VERSION</th>\n",
       "      <td>0.402981</td>\n",
       "    </tr>\n",
       "    <tr>\n",
       "      <th>DAYS_FIRST_DUE</th>\n",
       "      <td>0.402981</td>\n",
       "    </tr>\n",
       "    <tr>\n",
       "      <th>DAYS_FIRST_DRAWING</th>\n",
       "      <td>0.402981</td>\n",
       "    </tr>\n",
       "    <tr>\n",
       "      <th>AMT_GOODS_PRICE</th>\n",
       "      <td>0.230818</td>\n",
       "    </tr>\n",
       "    <tr>\n",
       "      <th>AMT_ANNUITY</th>\n",
       "      <td>0.222867</td>\n",
       "    </tr>\n",
       "    <tr>\n",
       "      <th>CNT_PAYMENT</th>\n",
       "      <td>0.222864</td>\n",
       "    </tr>\n",
       "    <tr>\n",
       "      <th>PRODUCT_COMBINATION</th>\n",
       "      <td>0.000207</td>\n",
       "    </tr>\n",
       "  </tbody>\n",
       "</table>\n",
       "</div>"
      ],
      "text/plain": [
       "                            percent\n",
       "RATE_INTEREST_PRIVILEGED   0.996437\n",
       "RATE_INTEREST_PRIMARY      0.996437\n",
       "AMT_DOWN_PAYMENT           0.536365\n",
       "RATE_DOWN_PAYMENT          0.536365\n",
       "NAME_TYPE_SUITE            0.491198\n",
       "NFLAG_INSURED_ON_APPROVAL  0.402981\n",
       "DAYS_TERMINATION           0.402981\n",
       "DAYS_LAST_DUE              0.402981\n",
       "DAYS_LAST_DUE_1ST_VERSION  0.402981\n",
       "DAYS_FIRST_DUE             0.402981\n",
       "DAYS_FIRST_DRAWING         0.402981\n",
       "AMT_GOODS_PRICE            0.230818\n",
       "AMT_ANNUITY                0.222867\n",
       "CNT_PAYMENT                0.222864\n",
       "PRODUCT_COMBINATION        0.000207"
      ]
     },
     "execution_count": 7,
     "metadata": {},
     "output_type": "execute_result"
    }
   ],
   "source": [
    "# Function that calculates the percentage of missing values\n",
    "def calc_percent_NAs(df):\n",
    "    nans = pd.DataFrame(df.isnull().sum().sort_values(ascending=False)/len(df), columns=['percent']) \n",
    "    idx = nans['percent'] > 0\n",
    "    return nans[idx]\n",
    "# Let's use above function to look at top ten columns with NaNs\n",
    "calc_percent_NAs(df).head(15)"
   ]
  },
  {
   "cell_type": "markdown",
   "id": "bae5c8cd",
   "metadata": {},
   "source": [
    "Dropping columns with > 40 % of missing values (11 columns) :\n",
    "<br>\n",
    "RATE_INTEREST_PRIVILEGED, RATE_INTEREST_PRIMARY, AMT_DOWN_PAYMENT,  RATE_DOWN_PAYMENT, NAME_TYPE_SUITE, NFLAG_INSURED_ON_APPROVAL, DAYS_TERMINATION, DAYS_LAST_DUE, DAYS_LAST_DUE_1ST_VERSION,  DAYS_FIRST_DUE, DAYS_FIRST_DRAWING "
   ]
  },
  {
   "cell_type": "code",
   "execution_count": 8,
   "id": "04819d33",
   "metadata": {},
   "outputs": [],
   "source": [
    "#drop columns with > 40% NaNs\n",
    "df.drop(['RATE_INTEREST_PRIVILEGED', 'RATE_INTEREST_PRIMARY', 'AMT_DOWN_PAYMENT', 'RATE_DOWN_PAYMENT', 'NAME_TYPE_SUITE', 'NFLAG_INSURED_ON_APPROVAL', 'DAYS_TERMINATION', 'DAYS_LAST_DUE_1ST_VERSION', 'DAYS_FIRST_DUE', 'DAYS_FIRST_DRAWING', 'DAYS_LAST_DUE'], axis = 1, inplace=True)"
   ]
  },
  {
   "cell_type": "code",
   "execution_count": 9,
   "id": "d40aa494",
   "metadata": {},
   "outputs": [
    {
     "name": "stdout",
     "output_type": "stream",
     "text": [
      "My dataset has 1670214 rows and 26 columns\n"
     ]
    }
   ],
   "source": [
    "# How large is my dataset?\n",
    "print(f\"My dataset has {df.shape[0]} rows and {df.shape[1]} columns\")"
   ]
  },
  {
   "cell_type": "code",
   "execution_count": 10,
   "id": "360ed3a6",
   "metadata": {},
   "outputs": [],
   "source": [
    "#drop irrelevant columns \n",
    "df.drop(['WEEKDAY_APPR_PROCESS_START', 'HOUR_APPR_PROCESS_START'], axis = 1, inplace=True)"
   ]
  },
  {
   "cell_type": "code",
   "execution_count": 11,
   "id": "e00f2715",
   "metadata": {},
   "outputs": [
    {
     "data": {
      "text/html": [
       "<div>\n",
       "<style scoped>\n",
       "    .dataframe tbody tr th:only-of-type {\n",
       "        vertical-align: middle;\n",
       "    }\n",
       "\n",
       "    .dataframe tbody tr th {\n",
       "        vertical-align: top;\n",
       "    }\n",
       "\n",
       "    .dataframe thead th {\n",
       "        text-align: right;\n",
       "    }\n",
       "</style>\n",
       "<table border=\"1\" class=\"dataframe\">\n",
       "  <thead>\n",
       "    <tr style=\"text-align: right;\">\n",
       "      <th></th>\n",
       "      <th>SK_ID_PREV</th>\n",
       "      <th>SK_ID_CURR</th>\n",
       "      <th>NAME_CONTRACT_TYPE</th>\n",
       "      <th>AMT_ANNUITY</th>\n",
       "      <th>AMT_APPLICATION</th>\n",
       "      <th>AMT_CREDIT</th>\n",
       "      <th>AMT_GOODS_PRICE</th>\n",
       "      <th>FLAG_LAST_APPL_PER_CONTRACT</th>\n",
       "      <th>NFLAG_LAST_APPL_IN_DAY</th>\n",
       "      <th>NAME_CASH_LOAN_PURPOSE</th>\n",
       "      <th>...</th>\n",
       "      <th>NAME_CLIENT_TYPE</th>\n",
       "      <th>NAME_GOODS_CATEGORY</th>\n",
       "      <th>NAME_PORTFOLIO</th>\n",
       "      <th>NAME_PRODUCT_TYPE</th>\n",
       "      <th>CHANNEL_TYPE</th>\n",
       "      <th>SELLERPLACE_AREA</th>\n",
       "      <th>NAME_SELLER_INDUSTRY</th>\n",
       "      <th>CNT_PAYMENT</th>\n",
       "      <th>NAME_YIELD_GROUP</th>\n",
       "      <th>PRODUCT_COMBINATION</th>\n",
       "    </tr>\n",
       "  </thead>\n",
       "  <tbody>\n",
       "    <tr>\n",
       "      <th>0</th>\n",
       "      <td>2030495</td>\n",
       "      <td>271877</td>\n",
       "      <td>Consumer loans</td>\n",
       "      <td>1730.430</td>\n",
       "      <td>17145.0</td>\n",
       "      <td>17145.0</td>\n",
       "      <td>17145.0</td>\n",
       "      <td>Y</td>\n",
       "      <td>1</td>\n",
       "      <td>XAP</td>\n",
       "      <td>...</td>\n",
       "      <td>Repeater</td>\n",
       "      <td>Mobile</td>\n",
       "      <td>POS</td>\n",
       "      <td>XNA</td>\n",
       "      <td>Country-wide</td>\n",
       "      <td>35</td>\n",
       "      <td>Connectivity</td>\n",
       "      <td>12.0</td>\n",
       "      <td>middle</td>\n",
       "      <td>POS mobile with interest</td>\n",
       "    </tr>\n",
       "    <tr>\n",
       "      <th>1</th>\n",
       "      <td>2802425</td>\n",
       "      <td>108129</td>\n",
       "      <td>Cash loans</td>\n",
       "      <td>25188.615</td>\n",
       "      <td>607500.0</td>\n",
       "      <td>679671.0</td>\n",
       "      <td>607500.0</td>\n",
       "      <td>Y</td>\n",
       "      <td>1</td>\n",
       "      <td>XNA</td>\n",
       "      <td>...</td>\n",
       "      <td>Repeater</td>\n",
       "      <td>XNA</td>\n",
       "      <td>Cash</td>\n",
       "      <td>x-sell</td>\n",
       "      <td>Contact center</td>\n",
       "      <td>-1</td>\n",
       "      <td>XNA</td>\n",
       "      <td>36.0</td>\n",
       "      <td>low_action</td>\n",
       "      <td>Cash X-Sell: low</td>\n",
       "    </tr>\n",
       "    <tr>\n",
       "      <th>2</th>\n",
       "      <td>2523466</td>\n",
       "      <td>122040</td>\n",
       "      <td>Cash loans</td>\n",
       "      <td>15060.735</td>\n",
       "      <td>112500.0</td>\n",
       "      <td>136444.5</td>\n",
       "      <td>112500.0</td>\n",
       "      <td>Y</td>\n",
       "      <td>1</td>\n",
       "      <td>XNA</td>\n",
       "      <td>...</td>\n",
       "      <td>Repeater</td>\n",
       "      <td>XNA</td>\n",
       "      <td>Cash</td>\n",
       "      <td>x-sell</td>\n",
       "      <td>Credit and cash offices</td>\n",
       "      <td>-1</td>\n",
       "      <td>XNA</td>\n",
       "      <td>12.0</td>\n",
       "      <td>high</td>\n",
       "      <td>Cash X-Sell: high</td>\n",
       "    </tr>\n",
       "    <tr>\n",
       "      <th>3</th>\n",
       "      <td>2819243</td>\n",
       "      <td>176158</td>\n",
       "      <td>Cash loans</td>\n",
       "      <td>47041.335</td>\n",
       "      <td>450000.0</td>\n",
       "      <td>470790.0</td>\n",
       "      <td>450000.0</td>\n",
       "      <td>Y</td>\n",
       "      <td>1</td>\n",
       "      <td>XNA</td>\n",
       "      <td>...</td>\n",
       "      <td>Repeater</td>\n",
       "      <td>XNA</td>\n",
       "      <td>Cash</td>\n",
       "      <td>x-sell</td>\n",
       "      <td>Credit and cash offices</td>\n",
       "      <td>-1</td>\n",
       "      <td>XNA</td>\n",
       "      <td>12.0</td>\n",
       "      <td>middle</td>\n",
       "      <td>Cash X-Sell: middle</td>\n",
       "    </tr>\n",
       "    <tr>\n",
       "      <th>4</th>\n",
       "      <td>1784265</td>\n",
       "      <td>202054</td>\n",
       "      <td>Cash loans</td>\n",
       "      <td>31924.395</td>\n",
       "      <td>337500.0</td>\n",
       "      <td>404055.0</td>\n",
       "      <td>337500.0</td>\n",
       "      <td>Y</td>\n",
       "      <td>1</td>\n",
       "      <td>Repairs</td>\n",
       "      <td>...</td>\n",
       "      <td>Repeater</td>\n",
       "      <td>XNA</td>\n",
       "      <td>Cash</td>\n",
       "      <td>walk-in</td>\n",
       "      <td>Credit and cash offices</td>\n",
       "      <td>-1</td>\n",
       "      <td>XNA</td>\n",
       "      <td>24.0</td>\n",
       "      <td>high</td>\n",
       "      <td>Cash Street: high</td>\n",
       "    </tr>\n",
       "  </tbody>\n",
       "</table>\n",
       "<p>5 rows × 24 columns</p>\n",
       "</div>"
      ],
      "text/plain": [
       "   SK_ID_PREV  SK_ID_CURR NAME_CONTRACT_TYPE  AMT_ANNUITY  AMT_APPLICATION  \\\n",
       "0     2030495      271877     Consumer loans     1730.430          17145.0   \n",
       "1     2802425      108129         Cash loans    25188.615         607500.0   \n",
       "2     2523466      122040         Cash loans    15060.735         112500.0   \n",
       "3     2819243      176158         Cash loans    47041.335         450000.0   \n",
       "4     1784265      202054         Cash loans    31924.395         337500.0   \n",
       "\n",
       "   AMT_CREDIT  AMT_GOODS_PRICE FLAG_LAST_APPL_PER_CONTRACT  \\\n",
       "0     17145.0          17145.0                           Y   \n",
       "1    679671.0         607500.0                           Y   \n",
       "2    136444.5         112500.0                           Y   \n",
       "3    470790.0         450000.0                           Y   \n",
       "4    404055.0         337500.0                           Y   \n",
       "\n",
       "   NFLAG_LAST_APPL_IN_DAY NAME_CASH_LOAN_PURPOSE  ... NAME_CLIENT_TYPE  \\\n",
       "0                       1                    XAP  ...         Repeater   \n",
       "1                       1                    XNA  ...         Repeater   \n",
       "2                       1                    XNA  ...         Repeater   \n",
       "3                       1                    XNA  ...         Repeater   \n",
       "4                       1                Repairs  ...         Repeater   \n",
       "\n",
       "   NAME_GOODS_CATEGORY NAME_PORTFOLIO NAME_PRODUCT_TYPE  \\\n",
       "0               Mobile            POS               XNA   \n",
       "1                  XNA           Cash            x-sell   \n",
       "2                  XNA           Cash            x-sell   \n",
       "3                  XNA           Cash            x-sell   \n",
       "4                  XNA           Cash           walk-in   \n",
       "\n",
       "              CHANNEL_TYPE SELLERPLACE_AREA NAME_SELLER_INDUSTRY CNT_PAYMENT  \\\n",
       "0             Country-wide               35         Connectivity        12.0   \n",
       "1           Contact center               -1                  XNA        36.0   \n",
       "2  Credit and cash offices               -1                  XNA        12.0   \n",
       "3  Credit and cash offices               -1                  XNA        12.0   \n",
       "4  Credit and cash offices               -1                  XNA        24.0   \n",
       "\n",
       "  NAME_YIELD_GROUP       PRODUCT_COMBINATION  \n",
       "0           middle  POS mobile with interest  \n",
       "1       low_action          Cash X-Sell: low  \n",
       "2             high         Cash X-Sell: high  \n",
       "3           middle       Cash X-Sell: middle  \n",
       "4             high         Cash Street: high  \n",
       "\n",
       "[5 rows x 24 columns]"
      ]
     },
     "execution_count": 11,
     "metadata": {},
     "output_type": "execute_result"
    }
   ],
   "source": [
    "df.head()"
   ]
  },
  {
   "cell_type": "markdown",
   "id": "d138d01a",
   "metadata": {},
   "source": [
    "### Columns of the data \n",
    "\n",
    "**Variable Description:**\n",
    "\n",
    "|Variable|Definition |Key|  Type |\n",
    "|---|---|---|---|\n",
    "| **SK_ID_PREV** | ID of previous credit in Home credit related to loan in our sample | |int| \n",
    "|**NAME_CONTRACT_TYPE**|Contract product type (Cash loan, consumer loan [POS] ,...) of the previous application | |object|\n",
    "|**AMT_ANNUITY**|Annuity of previous application| | float|\n",
    "|**AMT_APPLICATION**|For how much credit did client ask on the previous application| | float|\n",
    "|**AMT_CREDIT**|Final credit amount on the previous application. | | float|\n",
    "|**AMT_GOODS_PRICE**|Goods price of good that client asked for (if applicable) on the previous application | | float|\n",
    "|**WEEKDAY_APPR_PROCESS_START**|On which day of the week did the client apply for previous application| |object|\n",
    "|**HOUR_APPR_PROCESS_START**|Approximately at what day hour did the client apply for the previous application| |int|\n",
    "|**FLAG_LAST_APPL_PER_CONTRACT**|Flag if it was last application for the previous contract.| |object|\n",
    "|**NFLAG_LAST_APPL_IN_DAY**|Flag if the application was the last application per day of the client | |int| \n",
    "|**NAME_CASH_LOAN_PURPOSE** | Purpose of the cash loan| |object| \n",
    "|**NAME_CONTRACT_STATUS**|Contract status (approved, cancelled, ...) of previous application | |object|\n",
    "|**DAYS_DECISION**|Relative to current application when was the decision about previous application made| |int|\n",
    "|**NAME_PAYMENT_TYPE**|Payment method that client chose to pay for the previous application| |object|\n",
    "|**CODE_REJECT_REASON**|Why was the previous application rejected | |object|\n",
    "|**NAME_CLIENT_TYPE**|Was the client old or new client when applying for the previous application| |object|\n",
    "|**NAME_GOODS_CATEGORY**|What kind of goods did the client apply for in the previous application| |object|\n",
    "|**NAME_PORTFOLIO**|Was the previous application for CASH, POS, CAR | |object|\n",
    "|**NAME_PRODUCT_TYPE**| Was the previous application x-sell o walk-in| |object|\n",
    "|**CHANNEL_TYPE**|Through which channel we acquired the client on the previous application| |object|\n",
    "|**SELLERPLACE_AREA**|Selling area of seller place of the previous application| |int|\n",
    "|**NAME_SELLER_INDUSTRY**|The industry of the seller| |object|\n",
    "|**CNT_PAYMENT**|Term of previous credit at application of the previous application| |float|\n",
    "|**NAME_YIELD_GROUP**|Grouped interest rate into small medium and high of the previous application | |object|\n",
    "|**PRODUCT_COMBINATION**|Detailed product combination of the previous application| |object|\n",
    "|**DAYS_LAST_DUE**|Relative to application date of current application when was the last due date of the previous appl| |float|\n"
   ]
  },
  {
   "cell_type": "markdown",
   "id": "cb18910f",
   "metadata": {},
   "source": [
    "#### Deal with duplicate rows\n"
   ]
  },
  {
   "cell_type": "code",
   "execution_count": 13,
   "id": "a6163d6c",
   "metadata": {},
   "outputs": [
    {
     "data": {
      "text/plain": [
       "True     1331357\n",
       "False     338857\n",
       "Name: SK_ID_CURR, dtype: int64"
      ]
     },
     "execution_count": 13,
     "metadata": {},
     "output_type": "execute_result"
    }
   ],
   "source": [
    "# check for duplicate rows in video_id column\n",
    "df[\"SK_ID_CURR\"].duplicated().value_counts()"
   ]
  },
  {
   "cell_type": "code",
   "execution_count": 14,
   "id": "9c45a472",
   "metadata": {},
   "outputs": [
    {
     "data": {
      "text/plain": [
       "(0, 24)"
      ]
     },
     "execution_count": 14,
     "metadata": {},
     "output_type": "execute_result"
    }
   ],
   "source": [
    "### indentifying duplicate rows if any\n",
    "df[df.duplicated()].shape"
   ]
  },
  {
   "cell_type": "code",
   "execution_count": 15,
   "id": "8717fec0",
   "metadata": {},
   "outputs": [],
   "source": [
    "## CODE_REJECT_REASON, NAME_CONTRACT_TYPE, NAME_CASH_LOAN_PURPOSESK_"
   ]
  },
  {
   "cell_type": "code",
   "execution_count": 16,
   "id": "1ba05518",
   "metadata": {},
   "outputs": [
    {
     "name": "stdout",
     "output_type": "stream",
     "text": [
      "1670214\n",
      "338857\n"
     ]
    }
   ],
   "source": [
    "print(df.SK_ID_PREV.nunique())\n",
    "print(df.SK_ID_CURR.nunique())"
   ]
  },
  {
   "cell_type": "markdown",
   "id": "7b8ad036",
   "metadata": {},
   "source": [
    "Number of rows: 1670214\n",
    "<br>\n",
    "Number of unique previous applications (SK_ID_PREV): 1670214\n",
    "<br>\n",
    "Number of unique current applications (SK_ID_CURR): 338857"
   ]
  },
  {
   "cell_type": "code",
   "execution_count": 17,
   "id": "e24c4739",
   "metadata": {},
   "outputs": [],
   "source": [
    "df = df.drop_duplicates(subset=['SK_ID_CURR'])"
   ]
  },
  {
   "cell_type": "code",
   "execution_count": 18,
   "id": "49d69e06",
   "metadata": {},
   "outputs": [
    {
     "name": "stdout",
     "output_type": "stream",
     "text": [
      "338857\n",
      "338857\n"
     ]
    }
   ],
   "source": [
    "print(df.SK_ID_PREV.nunique())\n",
    "print(df.SK_ID_CURR.nunique())"
   ]
  },
  {
   "cell_type": "markdown",
   "id": "9c0dd689",
   "metadata": {},
   "source": [
    "#### Descriptive Statistics\n"
   ]
  },
  {
   "cell_type": "code",
   "execution_count": 19,
   "id": "60053a5d",
   "metadata": {},
   "outputs": [],
   "source": [
    "df_mean = df.groupby(['SK_ID_PREV', 'SK_ID_CURR']).mean() [:]"
   ]
  },
  {
   "cell_type": "code",
   "execution_count": 20,
   "id": "774d6622",
   "metadata": {},
   "outputs": [
    {
     "data": {
      "text/html": [
       "<div>\n",
       "<style scoped>\n",
       "    .dataframe tbody tr th:only-of-type {\n",
       "        vertical-align: middle;\n",
       "    }\n",
       "\n",
       "    .dataframe tbody tr th {\n",
       "        vertical-align: top;\n",
       "    }\n",
       "\n",
       "    .dataframe thead th {\n",
       "        text-align: right;\n",
       "    }\n",
       "</style>\n",
       "<table border=\"1\" class=\"dataframe\">\n",
       "  <thead>\n",
       "    <tr style=\"text-align: right;\">\n",
       "      <th></th>\n",
       "      <th></th>\n",
       "      <th>AMT_ANNUITY</th>\n",
       "      <th>AMT_APPLICATION</th>\n",
       "      <th>AMT_CREDIT</th>\n",
       "      <th>AMT_GOODS_PRICE</th>\n",
       "      <th>NFLAG_LAST_APPL_IN_DAY</th>\n",
       "      <th>DAYS_DECISION</th>\n",
       "      <th>SELLERPLACE_AREA</th>\n",
       "      <th>CNT_PAYMENT</th>\n",
       "    </tr>\n",
       "    <tr>\n",
       "      <th>SK_ID_PREV</th>\n",
       "      <th>SK_ID_CURR</th>\n",
       "      <th></th>\n",
       "      <th></th>\n",
       "      <th></th>\n",
       "      <th></th>\n",
       "      <th></th>\n",
       "      <th></th>\n",
       "      <th></th>\n",
       "      <th></th>\n",
       "    </tr>\n",
       "  </thead>\n",
       "  <tbody>\n",
       "    <tr>\n",
       "      <th>1000001</th>\n",
       "      <th>158271</th>\n",
       "      <td>6404.310</td>\n",
       "      <td>58905.000</td>\n",
       "      <td>65124.00</td>\n",
       "      <td>58905.000</td>\n",
       "      <td>1.0</td>\n",
       "      <td>-299.0</td>\n",
       "      <td>70.0</td>\n",
       "      <td>12.0</td>\n",
       "    </tr>\n",
       "    <tr>\n",
       "      <th>1000002</th>\n",
       "      <th>101962</th>\n",
       "      <td>6264.000</td>\n",
       "      <td>39145.500</td>\n",
       "      <td>35230.50</td>\n",
       "      <td>39145.500</td>\n",
       "      <td>1.0</td>\n",
       "      <td>-1634.0</td>\n",
       "      <td>1780.0</td>\n",
       "      <td>6.0</td>\n",
       "    </tr>\n",
       "    <tr>\n",
       "      <th>1000005</th>\n",
       "      <th>176456</th>\n",
       "      <td>14713.605</td>\n",
       "      <td>123486.075</td>\n",
       "      <td>120307.50</td>\n",
       "      <td>123486.075</td>\n",
       "      <td>1.0</td>\n",
       "      <td>-1719.0</td>\n",
       "      <td>1877.0</td>\n",
       "      <td>10.0</td>\n",
       "    </tr>\n",
       "    <tr>\n",
       "      <th>1000009</th>\n",
       "      <th>343078</th>\n",
       "      <td>9302.850</td>\n",
       "      <td>42705.000</td>\n",
       "      <td>45243.00</td>\n",
       "      <td>42705.000</td>\n",
       "      <td>1.0</td>\n",
       "      <td>-488.0</td>\n",
       "      <td>121.0</td>\n",
       "      <td>6.0</td>\n",
       "    </tr>\n",
       "    <tr>\n",
       "      <th>1000016</th>\n",
       "      <th>157990</th>\n",
       "      <td>6078.150</td>\n",
       "      <td>63720.000</td>\n",
       "      <td>56970.00</td>\n",
       "      <td>63720.000</td>\n",
       "      <td>1.0</td>\n",
       "      <td>-717.0</td>\n",
       "      <td>185.0</td>\n",
       "      <td>12.0</td>\n",
       "    </tr>\n",
       "    <tr>\n",
       "      <th>...</th>\n",
       "      <th>...</th>\n",
       "      <td>...</td>\n",
       "      <td>...</td>\n",
       "      <td>...</td>\n",
       "      <td>...</td>\n",
       "      <td>...</td>\n",
       "      <td>...</td>\n",
       "      <td>...</td>\n",
       "      <td>...</td>\n",
       "    </tr>\n",
       "    <tr>\n",
       "      <th>2845367</th>\n",
       "      <th>330376</th>\n",
       "      <td>15302.205</td>\n",
       "      <td>180000.000</td>\n",
       "      <td>186840.00</td>\n",
       "      <td>180000.000</td>\n",
       "      <td>1.0</td>\n",
       "      <td>-1491.0</td>\n",
       "      <td>49.0</td>\n",
       "      <td>18.0</td>\n",
       "    </tr>\n",
       "    <tr>\n",
       "      <th>2845370</th>\n",
       "      <th>127124</th>\n",
       "      <td>NaN</td>\n",
       "      <td>34159.140</td>\n",
       "      <td>34159.14</td>\n",
       "      <td>34159.140</td>\n",
       "      <td>1.0</td>\n",
       "      <td>-1930.0</td>\n",
       "      <td>2005.0</td>\n",
       "      <td>NaN</td>\n",
       "    </tr>\n",
       "    <tr>\n",
       "      <th>2845377</th>\n",
       "      <th>250234</th>\n",
       "      <td>5009.400</td>\n",
       "      <td>108180.000</td>\n",
       "      <td>108180.00</td>\n",
       "      <td>108180.000</td>\n",
       "      <td>1.0</td>\n",
       "      <td>-1030.0</td>\n",
       "      <td>150.0</td>\n",
       "      <td>24.0</td>\n",
       "    </tr>\n",
       "    <tr>\n",
       "      <th>2845378</th>\n",
       "      <th>100125</th>\n",
       "      <td>11269.575</td>\n",
       "      <td>80995.185</td>\n",
       "      <td>59503.50</td>\n",
       "      <td>80995.185</td>\n",
       "      <td>1.0</td>\n",
       "      <td>-1165.0</td>\n",
       "      <td>3318.0</td>\n",
       "      <td>6.0</td>\n",
       "    </tr>\n",
       "    <tr>\n",
       "      <th>2845382</th>\n",
       "      <th>406596</th>\n",
       "      <td>NaN</td>\n",
       "      <td>30912.750</td>\n",
       "      <td>30912.75</td>\n",
       "      <td>30912.750</td>\n",
       "      <td>1.0</td>\n",
       "      <td>-1318.0</td>\n",
       "      <td>20.0</td>\n",
       "      <td>NaN</td>\n",
       "    </tr>\n",
       "  </tbody>\n",
       "</table>\n",
       "<p>338857 rows × 8 columns</p>\n",
       "</div>"
      ],
      "text/plain": [
       "                       AMT_ANNUITY  AMT_APPLICATION  AMT_CREDIT  \\\n",
       "SK_ID_PREV SK_ID_CURR                                             \n",
       "1000001    158271         6404.310        58905.000    65124.00   \n",
       "1000002    101962         6264.000        39145.500    35230.50   \n",
       "1000005    176456        14713.605       123486.075   120307.50   \n",
       "1000009    343078         9302.850        42705.000    45243.00   \n",
       "1000016    157990         6078.150        63720.000    56970.00   \n",
       "...                            ...              ...         ...   \n",
       "2845367    330376        15302.205       180000.000   186840.00   \n",
       "2845370    127124              NaN        34159.140    34159.14   \n",
       "2845377    250234         5009.400       108180.000   108180.00   \n",
       "2845378    100125        11269.575        80995.185    59503.50   \n",
       "2845382    406596              NaN        30912.750    30912.75   \n",
       "\n",
       "                       AMT_GOODS_PRICE  NFLAG_LAST_APPL_IN_DAY  DAYS_DECISION  \\\n",
       "SK_ID_PREV SK_ID_CURR                                                           \n",
       "1000001    158271            58905.000                     1.0         -299.0   \n",
       "1000002    101962            39145.500                     1.0        -1634.0   \n",
       "1000005    176456           123486.075                     1.0        -1719.0   \n",
       "1000009    343078            42705.000                     1.0         -488.0   \n",
       "1000016    157990            63720.000                     1.0         -717.0   \n",
       "...                                ...                     ...            ...   \n",
       "2845367    330376           180000.000                     1.0        -1491.0   \n",
       "2845370    127124            34159.140                     1.0        -1930.0   \n",
       "2845377    250234           108180.000                     1.0        -1030.0   \n",
       "2845378    100125            80995.185                     1.0        -1165.0   \n",
       "2845382    406596            30912.750                     1.0        -1318.0   \n",
       "\n",
       "                       SELLERPLACE_AREA  CNT_PAYMENT  \n",
       "SK_ID_PREV SK_ID_CURR                                 \n",
       "1000001    158271                  70.0         12.0  \n",
       "1000002    101962                1780.0          6.0  \n",
       "1000005    176456                1877.0         10.0  \n",
       "1000009    343078                 121.0          6.0  \n",
       "1000016    157990                 185.0         12.0  \n",
       "...                                 ...          ...  \n",
       "2845367    330376                  49.0         18.0  \n",
       "2845370    127124                2005.0          NaN  \n",
       "2845377    250234                 150.0         24.0  \n",
       "2845378    100125                3318.0          6.0  \n",
       "2845382    406596                  20.0          NaN  \n",
       "\n",
       "[338857 rows x 8 columns]"
      ]
     },
     "execution_count": 20,
     "metadata": {},
     "output_type": "execute_result"
    }
   ],
   "source": [
    "df_mean"
   ]
  },
  {
   "cell_type": "code",
   "execution_count": 21,
   "id": "cf3784b1",
   "metadata": {},
   "outputs": [
    {
     "data": {
      "text/html": [
       "<div>\n",
       "<style scoped>\n",
       "    .dataframe tbody tr th:only-of-type {\n",
       "        vertical-align: middle;\n",
       "    }\n",
       "\n",
       "    .dataframe tbody tr th {\n",
       "        vertical-align: top;\n",
       "    }\n",
       "\n",
       "    .dataframe thead th {\n",
       "        text-align: right;\n",
       "    }\n",
       "</style>\n",
       "<table border=\"1\" class=\"dataframe\">\n",
       "  <thead>\n",
       "    <tr style=\"text-align: right;\">\n",
       "      <th></th>\n",
       "      <th>count</th>\n",
       "      <th>mean</th>\n",
       "      <th>std</th>\n",
       "      <th>min</th>\n",
       "      <th>25%</th>\n",
       "      <th>50%</th>\n",
       "      <th>75%</th>\n",
       "      <th>max</th>\n",
       "    </tr>\n",
       "  </thead>\n",
       "  <tbody>\n",
       "    <tr>\n",
       "      <th>SK_ID_PREV</th>\n",
       "      <td>338857.0</td>\n",
       "      <td>1.914716e+06</td>\n",
       "      <td>534143.930627</td>\n",
       "      <td>1000001.0</td>\n",
       "      <td>1449163.00</td>\n",
       "      <td>1.911829e+06</td>\n",
       "      <td>2.378179e+06</td>\n",
       "      <td>2845382.000</td>\n",
       "    </tr>\n",
       "    <tr>\n",
       "      <th>SK_ID_CURR</th>\n",
       "      <td>338857.0</td>\n",
       "      <td>2.781499e+05</td>\n",
       "      <td>102879.193103</td>\n",
       "      <td>100001.0</td>\n",
       "      <td>189061.00</td>\n",
       "      <td>2.782210e+05</td>\n",
       "      <td>3.673020e+05</td>\n",
       "      <td>456255.000</td>\n",
       "    </tr>\n",
       "    <tr>\n",
       "      <th>AMT_ANNUITY</th>\n",
       "      <td>287762.0</td>\n",
       "      <td>1.423110e+04</td>\n",
       "      <td>13381.062510</td>\n",
       "      <td>0.0</td>\n",
       "      <td>5899.14</td>\n",
       "      <td>1.012142e+04</td>\n",
       "      <td>1.746134e+04</td>\n",
       "      <td>417927.645</td>\n",
       "    </tr>\n",
       "    <tr>\n",
       "      <th>AMT_APPLICATION</th>\n",
       "      <td>338857.0</td>\n",
       "      <td>1.528646e+05</td>\n",
       "      <td>247731.912944</td>\n",
       "      <td>0.0</td>\n",
       "      <td>30600.00</td>\n",
       "      <td>7.513200e+04</td>\n",
       "      <td>1.575000e+05</td>\n",
       "      <td>5850000.000</td>\n",
       "    </tr>\n",
       "    <tr>\n",
       "      <th>AMT_CREDIT</th>\n",
       "      <td>338857.0</td>\n",
       "      <td>1.683748e+05</td>\n",
       "      <td>268680.949496</td>\n",
       "      <td>0.0</td>\n",
       "      <td>33579.00</td>\n",
       "      <td>8.092800e+04</td>\n",
       "      <td>1.751895e+05</td>\n",
       "      <td>4104351.000</td>\n",
       "    </tr>\n",
       "    <tr>\n",
       "      <th>AMT_GOODS_PRICE</th>\n",
       "      <td>284907.0</td>\n",
       "      <td>1.818291e+05</td>\n",
       "      <td>260271.882309</td>\n",
       "      <td>0.0</td>\n",
       "      <td>47205.00</td>\n",
       "      <td>9.386550e+04</td>\n",
       "      <td>1.845000e+05</td>\n",
       "      <td>5850000.000</td>\n",
       "    </tr>\n",
       "    <tr>\n",
       "      <th>NFLAG_LAST_APPL_IN_DAY</th>\n",
       "      <td>338857.0</td>\n",
       "      <td>9.976067e-01</td>\n",
       "      <td>0.048863</td>\n",
       "      <td>0.0</td>\n",
       "      <td>1.00</td>\n",
       "      <td>1.000000e+00</td>\n",
       "      <td>1.000000e+00</td>\n",
       "      <td>1.000</td>\n",
       "    </tr>\n",
       "    <tr>\n",
       "      <th>DAYS_DECISION</th>\n",
       "      <td>338857.0</td>\n",
       "      <td>-9.267309e+02</td>\n",
       "      <td>784.705424</td>\n",
       "      <td>-2922.0</td>\n",
       "      <td>-1371.00</td>\n",
       "      <td>-6.410000e+02</td>\n",
       "      <td>-3.180000e+02</td>\n",
       "      <td>-2.000</td>\n",
       "    </tr>\n",
       "    <tr>\n",
       "      <th>SELLERPLACE_AREA</th>\n",
       "      <td>338857.0</td>\n",
       "      <td>4.358585e+02</td>\n",
       "      <td>13890.023521</td>\n",
       "      <td>-1.0</td>\n",
       "      <td>-1.00</td>\n",
       "      <td>3.000000e+01</td>\n",
       "      <td>1.480000e+02</td>\n",
       "      <td>4000000.000</td>\n",
       "    </tr>\n",
       "    <tr>\n",
       "      <th>CNT_PAYMENT</th>\n",
       "      <td>287765.0</td>\n",
       "      <td>1.405768e+01</td>\n",
       "      <td>12.129195</td>\n",
       "      <td>0.0</td>\n",
       "      <td>6.00</td>\n",
       "      <td>1.200000e+01</td>\n",
       "      <td>1.800000e+01</td>\n",
       "      <td>72.000</td>\n",
       "    </tr>\n",
       "  </tbody>\n",
       "</table>\n",
       "</div>"
      ],
      "text/plain": [
       "                           count          mean            std        min  \\\n",
       "SK_ID_PREV              338857.0  1.914716e+06  534143.930627  1000001.0   \n",
       "SK_ID_CURR              338857.0  2.781499e+05  102879.193103   100001.0   \n",
       "AMT_ANNUITY             287762.0  1.423110e+04   13381.062510        0.0   \n",
       "AMT_APPLICATION         338857.0  1.528646e+05  247731.912944        0.0   \n",
       "AMT_CREDIT              338857.0  1.683748e+05  268680.949496        0.0   \n",
       "AMT_GOODS_PRICE         284907.0  1.818291e+05  260271.882309        0.0   \n",
       "NFLAG_LAST_APPL_IN_DAY  338857.0  9.976067e-01       0.048863        0.0   \n",
       "DAYS_DECISION           338857.0 -9.267309e+02     784.705424    -2922.0   \n",
       "SELLERPLACE_AREA        338857.0  4.358585e+02   13890.023521       -1.0   \n",
       "CNT_PAYMENT             287765.0  1.405768e+01      12.129195        0.0   \n",
       "\n",
       "                               25%           50%           75%          max  \n",
       "SK_ID_PREV              1449163.00  1.911829e+06  2.378179e+06  2845382.000  \n",
       "SK_ID_CURR               189061.00  2.782210e+05  3.673020e+05   456255.000  \n",
       "AMT_ANNUITY                5899.14  1.012142e+04  1.746134e+04   417927.645  \n",
       "AMT_APPLICATION           30600.00  7.513200e+04  1.575000e+05  5850000.000  \n",
       "AMT_CREDIT                33579.00  8.092800e+04  1.751895e+05  4104351.000  \n",
       "AMT_GOODS_PRICE           47205.00  9.386550e+04  1.845000e+05  5850000.000  \n",
       "NFLAG_LAST_APPL_IN_DAY        1.00  1.000000e+00  1.000000e+00        1.000  \n",
       "DAYS_DECISION             -1371.00 -6.410000e+02 -3.180000e+02       -2.000  \n",
       "SELLERPLACE_AREA             -1.00  3.000000e+01  1.480000e+02  4000000.000  \n",
       "CNT_PAYMENT                   6.00  1.200000e+01  1.800000e+01       72.000  "
      ]
     },
     "execution_count": 21,
     "metadata": {},
     "output_type": "execute_result"
    }
   ],
   "source": [
    "#Let's have a look at our numerical variables and their descriptive statistics\n",
    "df.describe().T"
   ]
  },
  {
   "cell_type": "code",
   "execution_count": 22,
   "id": "0a974aae",
   "metadata": {},
   "outputs": [
    {
     "ename": "SyntaxError",
     "evalue": "invalid syntax (1050038224.py, line 1)",
     "output_type": "error",
     "traceback": [
      "\u001b[1;36m  Input \u001b[1;32mIn [22]\u001b[1;36m\u001b[0m\n\u001b[1;33m    * Days od decision\u001b[0m\n\u001b[1;37m           ^\u001b[0m\n\u001b[1;31mSyntaxError\u001b[0m\u001b[1;31m:\u001b[0m invalid syntax\n"
     ]
    }
   ],
   "source": [
    "* Days od decision\n",
    "* AMT_Annuity\n",
    "* AMT_CREDIT"
   ]
  },
  {
   "cell_type": "markdown",
   "id": "f5d17031",
   "metadata": {},
   "source": [
    "#### Missing values"
   ]
  },
  {
   "cell_type": "code",
   "execution_count": 23,
   "id": "a1541a14",
   "metadata": {},
   "outputs": [
    {
     "data": {
      "text/plain": [
       "SK_ID_PREV                         0\n",
       "SK_ID_CURR                         0\n",
       "NAME_CONTRACT_TYPE                 0\n",
       "AMT_ANNUITY                    51095\n",
       "AMT_APPLICATION                    0\n",
       "AMT_CREDIT                         0\n",
       "AMT_GOODS_PRICE                53950\n",
       "FLAG_LAST_APPL_PER_CONTRACT        0\n",
       "NFLAG_LAST_APPL_IN_DAY             0\n",
       "NAME_CASH_LOAN_PURPOSE             0\n",
       "NAME_CONTRACT_STATUS               0\n",
       "DAYS_DECISION                      0\n",
       "NAME_PAYMENT_TYPE                  0\n",
       "CODE_REJECT_REASON                 0\n",
       "NAME_CLIENT_TYPE                   0\n",
       "NAME_GOODS_CATEGORY                0\n",
       "NAME_PORTFOLIO                     0\n",
       "NAME_PRODUCT_TYPE                  0\n",
       "CHANNEL_TYPE                       0\n",
       "SELLERPLACE_AREA                   0\n",
       "NAME_SELLER_INDUSTRY               0\n",
       "CNT_PAYMENT                    51092\n",
       "NAME_YIELD_GROUP                   0\n",
       "PRODUCT_COMBINATION               52\n",
       "dtype: int64"
      ]
     },
     "execution_count": 23,
     "metadata": {},
     "output_type": "execute_result"
    }
   ],
   "source": [
    "df.isna().sum()"
   ]
  },
  {
   "cell_type": "markdown",
   "id": "5fd17f65",
   "metadata": {},
   "source": [
    "Missing values in:\n",
    "<br>\n",
    "AMT_ANNUITY\n",
    "<br>\n",
    "AMT_GOODS_PRICE\n",
    "<br>\n",
    "CNT_PAYMENT\n",
    "<br>\n",
    "PRODUCT_COMBINATION"
   ]
  },
  {
   "cell_type": "code",
   "execution_count": 24,
   "id": "fa90ef2d",
   "metadata": {},
   "outputs": [],
   "source": [
    "#imputate missing values with mean\n",
    "df['AMT_ANNUITY']=df['AMT_ANNUITY'].fillna(df['AMT_ANNUITY'].mean())\n",
    "df['AMT_GOODS_PRICE']=df['AMT_GOODS_PRICE'].fillna(df['AMT_GOODS_PRICE'].mean())\n"
   ]
  },
  {
   "cell_type": "code",
   "execution_count": 25,
   "id": "f4076826",
   "metadata": {},
   "outputs": [
    {
     "data": {
      "text/plain": [
       "'POS household with interest'"
      ]
     },
     "execution_count": 25,
     "metadata": {},
     "output_type": "execute_result"
    }
   ],
   "source": [
    "#imputate the NaNs with most common value \n",
    "df.PRODUCT_COMBINATION.mode()[0]"
   ]
  },
  {
   "cell_type": "code",
   "execution_count": 26,
   "id": "5baaa7c2",
   "metadata": {},
   "outputs": [],
   "source": [
    "df[\"PRODUCT_COMBINATION\"].fillna(df[\"PRODUCT_COMBINATION\"].mode()[0],inplace=True)"
   ]
  },
  {
   "cell_type": "code",
   "execution_count": 93,
   "id": "93f33e61",
   "metadata": {},
   "outputs": [
    {
     "data": {
      "text/plain": [
       "<AxesSubplot:>"
      ]
     },
     "execution_count": 93,
     "metadata": {},
     "output_type": "execute_result"
    },
    {
     "data": {
      "image/png": "[encoded data removed]",
      "text/plain": [
       "<Figure size 1080x864 with 2 Axes>"
      ]
     },
     "metadata": {},
     "output_type": "display_data"
    }
   ],
   "source": [
    "corr = df.corr()\n",
    "plt.subplots(figsize=(15, 12))\n",
    "mask = np.triu(np.ones_like(corr, dtype=bool))\n",
    "sns.heatmap(corr, annot=True, cmap=\"YlGnBu_r\", mask=mask, vmax=1, vmin=-1)"
   ]
  },
  {
   "cell_type": "markdown",
   "id": "1f30d850",
   "metadata": {},
   "source": [
    "Assuming that AMT ANNUITY and CNT PAYMENT are highly connected given that CNT PAYMENT may be completely described by AMT ANNUITY, I will remove the CNT PAYMENT feature"
   ]
  },
  {
   "cell_type": "code",
   "execution_count": 27,
   "id": "7d608043",
   "metadata": {},
   "outputs": [],
   "source": [
    "df.drop(columns=['CNT_PAYMENT'], inplace=True) #we can repcase with AMT_ANNUITY high correlaton "
   ]
  },
  {
   "cell_type": "code",
   "execution_count": 28,
   "id": "af10acb5",
   "metadata": {},
   "outputs": [
    {
     "data": {
      "text/plain": [
       "SK_ID_PREV                     0\n",
       "SK_ID_CURR                     0\n",
       "NAME_CONTRACT_TYPE             0\n",
       "AMT_ANNUITY                    0\n",
       "AMT_APPLICATION                0\n",
       "AMT_CREDIT                     0\n",
       "AMT_GOODS_PRICE                0\n",
       "FLAG_LAST_APPL_PER_CONTRACT    0\n",
       "NFLAG_LAST_APPL_IN_DAY         0\n",
       "NAME_CASH_LOAN_PURPOSE         0\n",
       "NAME_CONTRACT_STATUS           0\n",
       "DAYS_DECISION                  0\n",
       "NAME_PAYMENT_TYPE              0\n",
       "CODE_REJECT_REASON             0\n",
       "NAME_CLIENT_TYPE               0\n",
       "NAME_GOODS_CATEGORY            0\n",
       "NAME_PORTFOLIO                 0\n",
       "NAME_PRODUCT_TYPE              0\n",
       "CHANNEL_TYPE                   0\n",
       "SELLERPLACE_AREA               0\n",
       "NAME_SELLER_INDUSTRY           0\n",
       "NAME_YIELD_GROUP               0\n",
       "PRODUCT_COMBINATION            0\n",
       "dtype: int64"
      ]
     },
     "execution_count": 28,
     "metadata": {},
     "output_type": "execute_result"
    }
   ],
   "source": [
    "df.isna().sum()"
   ]
  },
  {
   "cell_type": "code",
   "execution_count": 29,
   "id": "34e3e990",
   "metadata": {},
   "outputs": [
    {
     "name": "stdout",
     "output_type": "stream",
     "text": [
      "My dataset has 338857 rows and 23 columns\n"
     ]
    }
   ],
   "source": [
    "print(f\"My dataset has {df.shape[0]} rows and {df.shape[1]} columns\")"
   ]
  },
  {
   "cell_type": "markdown",
   "id": "c3454933",
   "metadata": {},
   "source": [
    "#### Outliers"
   ]
  },
  {
   "cell_type": "markdown",
   "id": "6fcc2674",
   "metadata": {},
   "source": [
    "We see in our descriptive statistics, that the minimum and maximum values in our numerical columns are far apart from each other. Let's have a look at these \"extreme\" values by looking at boxplots"
   ]
  },
  {
   "cell_type": "code",
   "execution_count": 30,
   "id": "5c456e8e",
   "metadata": {},
   "outputs": [],
   "source": [
    "num_col = df.describe().columns"
   ]
  },
  {
   "cell_type": "code",
   "execution_count": 31,
   "id": "a3cdb498",
   "metadata": {},
   "outputs": [],
   "source": [
    "### converting days columns with negative value to positive to make plotting and calculations easy \n",
    "df[\"DAYS_DECISION\"] = df[\"DAYS_DECISION\"].abs()"
   ]
  },
  {
   "cell_type": "code",
   "execution_count": 32,
   "id": "efd86c8d",
   "metadata": {},
   "outputs": [
    {
     "name": "stdout",
     "output_type": "stream",
     "text": [
      "Box Plot for  SK_ID_PREV\n"
     ]
    },
    {
     "name": "stderr",
     "output_type": "stream",
     "text": [
      "C:\\Users\\Sey\\anaconda3\\lib\\site-packages\\seaborn\\_core.py:1326: UserWarning: Vertical orientation ignored with only `x` specified.\n",
      "  warnings.warn(single_var_warning.format(\"Vertical\", \"x\"))\n"
     ]
    },
    {
     "data": {
      "image/png": "[encoded data removed]",
      "text/plain": [
       "<Figure size 864x288 with 1 Axes>"
      ]
     },
     "metadata": {},
     "output_type": "display_data"
    },
    {
     "name": "stdout",
     "output_type": "stream",
     "text": [
      "\n",
      "Box Plot for  SK_ID_CURR\n"
     ]
    },
    {
     "name": "stderr",
     "output_type": "stream",
     "text": [
      "C:\\Users\\Sey\\anaconda3\\lib\\site-packages\\seaborn\\_core.py:1326: UserWarning: Vertical orientation ignored with only `x` specified.\n",
      "  warnings.warn(single_var_warning.format(\"Vertical\", \"x\"))\n"
     ]
    },
    {
     "data": {
      "image/png": "[encoded data removed]",
      "text/plain": [
       "<Figure size 864x288 with 1 Axes>"
      ]
     },
     "metadata": {},
     "output_type": "display_data"
    },
    {
     "name": "stdout",
     "output_type": "stream",
     "text": [
      "\n",
      "Box Plot for  AMT_ANNUITY\n"
     ]
    },
    {
     "name": "stderr",
     "output_type": "stream",
     "text": [
      "C:\\Users\\Sey\\anaconda3\\lib\\site-packages\\seaborn\\_core.py:1326: UserWarning: Vertical orientation ignored with only `x` specified.\n",
      "  warnings.warn(single_var_warning.format(\"Vertical\", \"x\"))\n"
     ]
    },
    {
     "data": {
      "image/png": "[encoded data removed]",
      "text/plain": [
       "<Figure size 864x288 with 1 Axes>"
      ]
     },
     "metadata": {},
     "output_type": "display_data"
    },
    {
     "name": "stdout",
     "output_type": "stream",
     "text": [
      "\n",
      "Box Plot for  AMT_APPLICATION\n"
     ]
    },
    {
     "name": "stderr",
     "output_type": "stream",
     "text": [
      "C:\\Users\\Sey\\anaconda3\\lib\\site-packages\\seaborn\\_core.py:1326: UserWarning: Vertical orientation ignored with only `x` specified.\n",
      "  warnings.warn(single_var_warning.format(\"Vertical\", \"x\"))\n"
     ]
    },
    {
     "data": {
      "image/png": "[encoded data removed]",
      "text/plain": [
       "<Figure size 864x288 with 1 Axes>"
      ]
     },
     "metadata": {},
     "output_type": "display_data"
    },
    {
     "name": "stdout",
     "output_type": "stream",
     "text": [
      "\n",
      "Box Plot for  AMT_CREDIT\n"
     ]
    },
    {
     "name": "stderr",
     "output_type": "stream",
     "text": [
      "C:\\Users\\Sey\\anaconda3\\lib\\site-packages\\seaborn\\_core.py:1326: UserWarning: Vertical orientation ignored with only `x` specified.\n",
      "  warnings.warn(single_var_warning.format(\"Vertical\", \"x\"))\n"
     ]
    },
    {
     "data": {
      "image/png": "[encoded data removed]",
      "text/plain": [
       "<Figure size 864x288 with 1 Axes>"
      ]
     },
     "metadata": {},
     "output_type": "display_data"
    },
    {
     "name": "stdout",
     "output_type": "stream",
     "text": [
      "\n",
      "Box Plot for  AMT_GOODS_PRICE\n"
     ]
    },
    {
     "name": "stderr",
     "output_type": "stream",
     "text": [
      "C:\\Users\\Sey\\anaconda3\\lib\\site-packages\\seaborn\\_core.py:1326: UserWarning: Vertical orientation ignored with only `x` specified.\n",
      "  warnings.warn(single_var_warning.format(\"Vertical\", \"x\"))\n"
     ]
    },
    {
     "data": {
      "image/png": "[encoded data removed]",
      "text/plain": [
       "<Figure size 864x288 with 1 Axes>"
      ]
     },
     "metadata": {},
     "output_type": "display_data"
    },
    {
     "name": "stdout",
     "output_type": "stream",
     "text": [
      "\n",
      "Box Plot for  NFLAG_LAST_APPL_IN_DAY\n"
     ]
    },
    {
     "name": "stderr",
     "output_type": "stream",
     "text": [
      "C:\\Users\\Sey\\anaconda3\\lib\\site-packages\\seaborn\\_core.py:1326: UserWarning: Vertical orientation ignored with only `x` specified.\n",
      "  warnings.warn(single_var_warning.format(\"Vertical\", \"x\"))\n"
     ]
    },
    {
     "data": {
      "image/png": "[encoded data removed]",
      "text/plain": [
       "<Figure size 864x288 with 1 Axes>"
      ]
     },
     "metadata": {},
     "output_type": "display_data"
    },
    {
     "name": "stdout",
     "output_type": "stream",
     "text": [
      "\n",
      "Box Plot for  DAYS_DECISION\n"
     ]
    },
    {
     "name": "stderr",
     "output_type": "stream",
     "text": [
      "C:\\Users\\Sey\\anaconda3\\lib\\site-packages\\seaborn\\_core.py:1326: UserWarning: Vertical orientation ignored with only `x` specified.\n",
      "  warnings.warn(single_var_warning.format(\"Vertical\", \"x\"))\n"
     ]
    },
    {
     "data": {
      "image/png": "[encoded data removed]",
      "text/plain": [
       "<Figure size 864x288 with 1 Axes>"
      ]
     },
     "metadata": {},
     "output_type": "display_data"
    },
    {
     "name": "stdout",
     "output_type": "stream",
     "text": [
      "\n",
      "Box Plot for  SELLERPLACE_AREA\n"
     ]
    },
    {
     "name": "stderr",
     "output_type": "stream",
     "text": [
      "C:\\Users\\Sey\\anaconda3\\lib\\site-packages\\seaborn\\_core.py:1326: UserWarning: Vertical orientation ignored with only `x` specified.\n",
      "  warnings.warn(single_var_warning.format(\"Vertical\", \"x\"))\n"
     ]
    },
    {
     "data": {
      "image/png": "[encoded data removed]",
      "text/plain": [
       "<Figure size 864x288 with 1 Axes>"
      ]
     },
     "metadata": {},
     "output_type": "display_data"
    },
    {
     "name": "stdout",
     "output_type": "stream",
     "text": [
      "\n"
     ]
    }
   ],
   "source": [
    "##### Plotting box plots for all numerical columns \n",
    "for col in num_col:\n",
    "    print('Box Plot for ',col)\n",
    "    plt.figure(figsize=[12,4])\n",
    "    sns.set(style='whitegrid')\n",
    "    plt.xscale('log')\n",
    "    sns.boxplot(data =df, x=col,orient='v')\n",
    "    plt.show()\n",
    "    print()\n",
    "\n",
    "def plot_hist(var):\n",
    "    plt.figure(figsize=(15,5))\n",
    "    plt.hist(df[var], bins=50)\n",
    "    plt.xticks(rotation=90)\n",
    "    plt.xlabel(var)\n",
    "    plt.ylabel(\"Frequency\")\n",
    "    plt.title(\"{} distribution with hist\".format(var))\n",
    "    plt.show()\n",
    "    \n",
    "for n in df:\n",
    "    plot_hist(n)"
   ]
  },
  {
   "cell_type": "code",
   "execution_count": 95,
   "id": "d6b3d57c",
   "metadata": {},
   "outputs": [],
   "source": [
    "def find_outliers_IQR(df):\n",
    "   q1=df.quantile(0.25)\n",
    "   q3=df.quantile(0.75)\n",
    "   IQR=q3-q1\n",
    "   outliers = df[((df<(q1-1.5*IQR)) | (df>(q3+1.5*IQR)))]\n",
    "   return outliers"
   ]
  },
  {
   "cell_type": "code",
   "execution_count": 96,
   "id": "f9c88f46",
   "metadata": {},
   "outputs": [
    {
     "name": "stdout",
     "output_type": "stream",
     "text": [
      "number of outliers:449105\n",
      "max outlier value:AMT_ANNUITY    1.0\n",
      "dtype: float64\n",
      "min outlier value:AMT_ANNUITY    0.069534\n",
      "dtype: float64\n",
      "        index  AMT_ANNUITY\n",
      "0      100003     0.235345\n",
      "1      100053     0.069988\n",
      "2      100069     0.072200\n",
      "3      100071     0.144258\n",
      "4      100073     0.094384\n",
      "...       ...          ...\n",
      "30233  456207     0.086371\n",
      "30234  456213     0.075111\n",
      "30235  456216     0.096714\n",
      "30236  456218     0.105417\n",
      "30237  456226     0.144669\n",
      "\n",
      "[30238 rows x 2 columns]\n"
     ]
    },
    {
     "data": {
      "text/html": [
       "<div>\n",
       "<style scoped>\n",
       "    .dataframe tbody tr th:only-of-type {\n",
       "        vertical-align: middle;\n",
       "    }\n",
       "\n",
       "    .dataframe tbody tr th {\n",
       "        vertical-align: top;\n",
       "    }\n",
       "\n",
       "    .dataframe thead th {\n",
       "        text-align: right;\n",
       "    }\n",
       "</style>\n",
       "<table border=\"1\" class=\"dataframe\">\n",
       "  <thead>\n",
       "    <tr style=\"text-align: right;\">\n",
       "      <th></th>\n",
       "      <th>AMT_ANNUITY</th>\n",
       "    </tr>\n",
       "  </thead>\n",
       "  <tbody>\n",
       "    <tr>\n",
       "      <th>100001</th>\n",
       "      <td>NaN</td>\n",
       "    </tr>\n",
       "    <tr>\n",
       "      <th>100002</th>\n",
       "      <td>NaN</td>\n",
       "    </tr>\n",
       "    <tr>\n",
       "      <th>100003</th>\n",
       "      <td>0.235345</td>\n",
       "    </tr>\n",
       "    <tr>\n",
       "      <th>100004</th>\n",
       "      <td>NaN</td>\n",
       "    </tr>\n",
       "    <tr>\n",
       "      <th>100005</th>\n",
       "      <td>NaN</td>\n",
       "    </tr>\n",
       "    <tr>\n",
       "      <th>...</th>\n",
       "      <td>...</td>\n",
       "    </tr>\n",
       "    <tr>\n",
       "      <th>307409</th>\n",
       "      <td>NaN</td>\n",
       "    </tr>\n",
       "    <tr>\n",
       "      <th>307453</th>\n",
       "      <td>NaN</td>\n",
       "    </tr>\n",
       "    <tr>\n",
       "      <th>307472</th>\n",
       "      <td>NaN</td>\n",
       "    </tr>\n",
       "    <tr>\n",
       "      <th>307487</th>\n",
       "      <td>NaN</td>\n",
       "    </tr>\n",
       "    <tr>\n",
       "      <th>307495</th>\n",
       "      <td>NaN</td>\n",
       "    </tr>\n",
       "  </tbody>\n",
       "</table>\n",
       "<p>449105 rows × 1 columns</p>\n",
       "</div>"
      ],
      "text/plain": [
       "        AMT_ANNUITY\n",
       "100001          NaN\n",
       "100002          NaN\n",
       "100003     0.235345\n",
       "100004          NaN\n",
       "100005          NaN\n",
       "...             ...\n",
       "307409          NaN\n",
       "307453          NaN\n",
       "307472          NaN\n",
       "307487          NaN\n",
       "307495          NaN\n",
       "\n",
       "[449105 rows x 1 columns]"
      ]
     },
     "execution_count": 96,
     "metadata": {},
     "output_type": "execute_result"
    }
   ],
   "source": [
    "outliers = find_outliers_IQR(df[['AMT_ANNUITY']])\n",
    "\n",
    "print(\"number of outliers:\" + str(len(outliers)))\n",
    "\n",
    "print(\"max outlier value:\" + str(outliers.max()))\n",
    "\n",
    "print(\"min outlier value:\" + str(outliers.min()))\n",
    "\n",
    "print(outliers.dropna().reset_index())\n",
    "outliers"
   ]
  },
  {
   "cell_type": "code",
   "execution_count": 97,
   "id": "8ec4edea",
   "metadata": {},
   "outputs": [
    {
     "data": {
      "text/html": [
       "<div>\n",
       "<style scoped>\n",
       "    .dataframe tbody tr th:only-of-type {\n",
       "        vertical-align: middle;\n",
       "    }\n",
       "\n",
       "    .dataframe tbody tr th {\n",
       "        vertical-align: top;\n",
       "    }\n",
       "\n",
       "    .dataframe thead th {\n",
       "        text-align: right;\n",
       "    }\n",
       "</style>\n",
       "<table border=\"1\" class=\"dataframe\">\n",
       "  <thead>\n",
       "    <tr style=\"text-align: right;\">\n",
       "      <th></th>\n",
       "      <th>count</th>\n",
       "      <th>mean</th>\n",
       "      <th>std</th>\n",
       "      <th>min</th>\n",
       "      <th>25%</th>\n",
       "      <th>50%</th>\n",
       "      <th>75%</th>\n",
       "      <th>max</th>\n",
       "    </tr>\n",
       "  </thead>\n",
       "  <tbody>\n",
       "    <tr>\n",
       "      <th>AMT_ANNUITY</th>\n",
       "      <td>30238.0</td>\n",
       "      <td>0.107350</td>\n",
       "      <td>0.041033</td>\n",
       "      <td>0.069534</td>\n",
       "      <td>0.080502</td>\n",
       "      <td>0.095660</td>\n",
       "      <td>0.119719</td>\n",
       "      <td>1.0</td>\n",
       "    </tr>\n",
       "    <tr>\n",
       "      <th>AMT_APPLICATION</th>\n",
       "      <td>30238.0</td>\n",
       "      <td>0.121562</td>\n",
       "      <td>0.079035</td>\n",
       "      <td>0.000000</td>\n",
       "      <td>0.061538</td>\n",
       "      <td>0.115385</td>\n",
       "      <td>0.160000</td>\n",
       "      <td>1.0</td>\n",
       "    </tr>\n",
       "    <tr>\n",
       "      <th>AMT_CREDIT</th>\n",
       "      <td>30238.0</td>\n",
       "      <td>0.190543</td>\n",
       "      <td>0.117647</td>\n",
       "      <td>0.020086</td>\n",
       "      <td>0.101568</td>\n",
       "      <td>0.172926</td>\n",
       "      <td>0.256989</td>\n",
       "      <td>1.0</td>\n",
       "    </tr>\n",
       "    <tr>\n",
       "      <th>AMT_GOODS_PRICE</th>\n",
       "      <td>30238.0</td>\n",
       "      <td>0.122448</td>\n",
       "      <td>0.077858</td>\n",
       "      <td>0.000000</td>\n",
       "      <td>0.061538</td>\n",
       "      <td>0.115385</td>\n",
       "      <td>0.160000</td>\n",
       "      <td>1.0</td>\n",
       "    </tr>\n",
       "    <tr>\n",
       "      <th>TARGET</th>\n",
       "      <td>17456.0</td>\n",
       "      <td>0.083868</td>\n",
       "      <td>0.277198</td>\n",
       "      <td>0.000000</td>\n",
       "      <td>0.000000</td>\n",
       "      <td>0.000000</td>\n",
       "      <td>0.000000</td>\n",
       "      <td>1.0</td>\n",
       "    </tr>\n",
       "  </tbody>\n",
       "</table>\n",
       "</div>"
      ],
      "text/plain": [
       "                   count      mean       std       min       25%       50%  \\\n",
       "AMT_ANNUITY      30238.0  0.107350  0.041033  0.069534  0.080502  0.095660   \n",
       "AMT_APPLICATION  30238.0  0.121562  0.079035  0.000000  0.061538  0.115385   \n",
       "AMT_CREDIT       30238.0  0.190543  0.117647  0.020086  0.101568  0.172926   \n",
       "AMT_GOODS_PRICE  30238.0  0.122448  0.077858  0.000000  0.061538  0.115385   \n",
       "TARGET           17456.0  0.083868  0.277198  0.000000  0.000000  0.000000   \n",
       "\n",
       "                      75%  max  \n",
       "AMT_ANNUITY      0.119719  1.0  \n",
       "AMT_APPLICATION  0.160000  1.0  \n",
       "AMT_CREDIT       0.256989  1.0  \n",
       "AMT_GOODS_PRICE  0.160000  1.0  \n",
       "TARGET           0.000000  1.0  "
      ]
     },
     "execution_count": 97,
     "metadata": {},
     "output_type": "execute_result"
    }
   ],
   "source": [
    "df.loc[outliers.dropna().reset_index()['index']].describe().T\n"
   ]
  },
  {
   "cell_type": "code",
   "execution_count": 99,
   "id": "6ded2cf6",
   "metadata": {},
   "outputs": [],
   "source": [
    "#check = df.loc[outliers.dropna().reset_index()['index']]\n"
   ]
  },
  {
   "cell_type": "code",
   "execution_count": 101,
   "id": "ee443c1a",
   "metadata": {},
   "outputs": [
    {
     "data": {
      "text/plain": [
       "<AxesSubplot:xlabel='AMT_ANNUITY', ylabel='TARGET'>"
      ]
     },
     "execution_count": 101,
     "metadata": {},
     "output_type": "execute_result"
    },
    {
     "data": {
      "image/png": "[encoded data removed]",
      "text/plain": [
       "<Figure size 432x288 with 1 Axes>"
      ]
     },
     "metadata": {},
     "output_type": "display_data"
    }
   ],
   "source": [
    "#sns.scatterplot(x=check.AMT_ANNUITY, y=check.TARGET) "
   ]
  },
  {
   "cell_type": "markdown",
   "id": "c3455f10",
   "metadata": {},
   "source": [
    "#### Feature Engineering "
   ]
  },
  {
   "cell_type": "code",
   "execution_count": 34,
   "id": "0b1f76fe",
   "metadata": {},
   "outputs": [
    {
     "name": "stdout",
     "output_type": "stream",
     "text": [
      "2030495    1\n",
      "2048675    1\n",
      "1036322    1\n",
      "1259959    1\n",
      "1593744    1\n",
      "2156354    1\n",
      "1497056    1\n",
      "1517597    1\n",
      "2031258    1\n",
      "1698169    1\n",
      "Name: SK_ID_PREV, dtype: int64 \n",
      "\n",
      "\n",
      "271877    1\n",
      "411338    1\n",
      "127932    1\n",
      "140605    1\n",
      "218151    1\n",
      "143375    1\n",
      "446383    1\n",
      "425144    1\n",
      "372241    1\n",
      "222277    1\n",
      "Name: SK_ID_CURR, dtype: int64 \n",
      "\n",
      "\n",
      "Consumer loans     199628\n",
      "Cash loans         105751\n",
      "Revolving loans     33426\n",
      "XNA                    52\n",
      "Name: NAME_CONTRACT_TYPE, dtype: int64 \n",
      "\n",
      "\n",
      "14231.100868    51095\n",
      "2250.000000      6723\n",
      "9000.000000      2381\n",
      "6750.000000      2365\n",
      "11250.000000     2266\n",
      "4500.000000      1959\n",
      "22500.000000     1928\n",
      "13500.000000     1144\n",
      "3375.000000       970\n",
      "7875.000000       836\n",
      "Name: AMT_ANNUITY, dtype: int64 \n",
      "\n",
      "\n",
      "0.0         54965\n",
      "45000.0      9205\n",
      "225000.0     7191\n",
      "135000.0     6738\n",
      "450000.0     5984\n",
      "90000.0      4969\n",
      "180000.0     3941\n",
      "270000.0     3206\n",
      "675000.0     3153\n",
      "67500.0      2699\n",
      "Name: AMT_APPLICATION, dtype: int64 \n",
      "\n",
      "\n",
      "0.0         44546\n",
      "45000.0      7242\n",
      "225000.0     3468\n",
      "135000.0     3301\n",
      "450000.0     3164\n",
      "180000.0     3112\n",
      "90000.0      2525\n",
      "270000.0     1554\n",
      "67500.0      1373\n",
      "900000.0     1143\n",
      "Name: AMT_CREDIT, dtype: int64 \n",
      "\n",
      "\n",
      "181829.101051    53950\n",
      "45000.000000      9207\n",
      "225000.000000     7188\n",
      "135000.000000     6737\n",
      "450000.000000     5983\n",
      "90000.000000      4969\n",
      "180000.000000     3939\n",
      "270000.000000     3207\n",
      "675000.000000     3152\n",
      "67500.000000      2699\n",
      "Name: AMT_GOODS_PRICE, dtype: int64 \n",
      "\n",
      "\n",
      "Y    337851\n",
      "N      1006\n",
      "Name: FLAG_LAST_APPL_PER_CONTRACT, dtype: int64 \n",
      "\n",
      "\n",
      "1    338046\n",
      "0       811\n",
      "Name: NFLAG_LAST_APPL_IN_DAY, dtype: int64 \n",
      "\n",
      "\n",
      "XAP                             233106\n",
      "XNA                              94502\n",
      "Repairs                           3758\n",
      "Other                             2493\n",
      "Urgent needs                      1503\n",
      "Buying a used car                  451\n",
      "Everyday expenses                  404\n",
      "Medicine                           386\n",
      "Building a house or an annex       373\n",
      "Education                          256\n",
      "Name: NAME_CASH_LOAN_PURPOSE, dtype: int64 \n",
      "\n",
      "\n",
      "Approved        254272\n",
      "Canceled         42159\n",
      "Refused          37316\n",
      "Unused offer      5110\n",
      "Name: NAME_CONTRACT_STATUS, dtype: int64 \n",
      "\n",
      "\n",
      "294    423\n",
      "238    412\n",
      "300    406\n",
      "329    404\n",
      "308    401\n",
      "273    400\n",
      "265    399\n",
      "240    396\n",
      "266    396\n",
      "295    394\n",
      "Name: DAYS_DECISION, dtype: int64 \n",
      "\n",
      "\n",
      "Cash through the bank                        231420\n",
      "XNA                                          105150\n",
      "Non-cash from your account                     2040\n",
      "Cashless from the account of the employer       247\n",
      "Name: NAME_PAYMENT_TYPE, dtype: int64 \n",
      "\n",
      "\n",
      "XAP       296428\n",
      "HC         20089\n",
      "LIMIT       8519\n",
      "SCO         5565\n",
      "CLIENT      5110\n",
      "SCOFR       1850\n",
      "XNA          698\n",
      "VERIF        498\n",
      "SYSTEM       100\n",
      "Name: CODE_REJECT_REASON, dtype: int64 \n",
      "\n",
      "\n",
      "Repeater     185598\n",
      "New          118824\n",
      "Refreshed     34097\n",
      "XNA             338\n",
      "Name: NAME_CLIENT_TYPE, dtype: int64 \n",
      "\n",
      "\n",
      "XNA                         140781\n",
      "Mobile                       59173\n",
      "Consumer Electronics         33034\n",
      "Computers                    29256\n",
      "Audio/Video                  26631\n",
      "Furniture                    16116\n",
      "Clothing and Accessories      7536\n",
      "Construction Materials        7479\n",
      "Photo / Cinema Equipment      6205\n",
      "Auto Accessories              2103\n",
      "Name: NAME_GOODS_CATEGORY, dtype: int64 \n",
      "\n",
      "\n",
      "POS      192591\n",
      "Cash      68603\n",
      "XNA       51092\n",
      "Cards     26462\n",
      "Cars        109\n",
      "Name: NAME_PORTFOLIO, dtype: int64 \n",
      "\n",
      "\n",
      "XNA        243792\n",
      "x-sell      68402\n",
      "walk-in     26663\n",
      "Name: NAME_PRODUCT_TYPE, dtype: int64 \n",
      "\n",
      "\n",
      "Country-wide                  126445\n",
      "Credit and cash offices       100302\n",
      "Stone                          59471\n",
      "Regional / Local               30788\n",
      "Contact center                 10671\n",
      "AP+ (Cash loan)                 9782\n",
      "Channel of corporate sales      1283\n",
      "Car dealer                       115\n",
      "Name: CHANNEL_TYPE, dtype: int64 \n",
      "\n",
      "\n",
      "-1      108393\n",
      " 50      10626\n",
      " 30       9295\n",
      " 20       9239\n",
      " 100      8978\n",
      " 0        8365\n",
      " 40       6606\n",
      " 25       4780\n",
      " 15       4726\n",
      " 150      4645\n",
      "Name: SELLERPLACE_AREA, dtype: int64 \n",
      "\n",
      "\n",
      "XNA                     122434\n",
      "Consumer electronics    103011\n",
      "Connectivity             70678\n",
      "Furniture                17198\n",
      "Construction              8977\n",
      "Clothing                  7584\n",
      "Industry                  5961\n",
      "Auto technology           1648\n",
      "Jewelry                    843\n",
      "MLM partners               361\n",
      "Name: NAME_SELLER_INDUSTRY, dtype: int64 \n",
      "\n",
      "\n",
      "middle        87167\n",
      "high          79435\n",
      "XNA           77554\n",
      "low_normal    71278\n",
      "low_action    23423\n",
      "Name: NAME_YIELD_GROUP, dtype: int64 \n",
      "\n",
      "\n",
      "POS household with interest       70368\n",
      "POS mobile with interest          57120\n",
      "Cash                              37148\n",
      "POS industry with interest        30140\n",
      "POS household without interest    22553\n",
      "Cash X-Sell: middle               21062\n",
      "Card Street                       20069\n",
      "Cash X-Sell: low                  17467\n",
      "Card X-Sell                       13357\n",
      "Cash Street: high                 10555\n",
      "Name: PRODUCT_COMBINATION, dtype: int64 \n",
      "\n",
      "\n"
     ]
    }
   ],
   "source": [
    "## understanding the column meaning & values and checking the datatype for numerical and categorical\n",
    "for i in df.columns:\n",
    "    print(df[i].value_counts().head(10),\"\\n\\n\")"
   ]
  },
  {
   "cell_type": "markdown",
   "id": "8c5a1996",
   "metadata": {},
   "source": [
    "\n",
    "### Some columns have values with XNA and XPA instead of NaN\n",
    "----\n",
    "----"
   ]
  },
  {
   "cell_type": "code",
   "execution_count": 35,
   "id": "bceda116",
   "metadata": {},
   "outputs": [
    {
     "data": {
      "text/plain": [
       "['SK_ID_PREV',\n",
       " 'SK_ID_CURR',\n",
       " 'NAME_CONTRACT_TYPE',\n",
       " 'AMT_ANNUITY',\n",
       " 'AMT_APPLICATION',\n",
       " 'AMT_CREDIT',\n",
       " 'AMT_GOODS_PRICE',\n",
       " 'FLAG_LAST_APPL_PER_CONTRACT',\n",
       " 'NFLAG_LAST_APPL_IN_DAY',\n",
       " 'NAME_CASH_LOAN_PURPOSE',\n",
       " 'NAME_CONTRACT_STATUS',\n",
       " 'DAYS_DECISION',\n",
       " 'NAME_PAYMENT_TYPE',\n",
       " 'CODE_REJECT_REASON',\n",
       " 'NAME_CLIENT_TYPE',\n",
       " 'NAME_GOODS_CATEGORY',\n",
       " 'NAME_PORTFOLIO',\n",
       " 'NAME_PRODUCT_TYPE',\n",
       " 'CHANNEL_TYPE',\n",
       " 'SELLERPLACE_AREA',\n",
       " 'NAME_SELLER_INDUSTRY',\n",
       " 'NAME_YIELD_GROUP',\n",
       " 'PRODUCT_COMBINATION']"
      ]
     },
     "execution_count": 35,
     "metadata": {},
     "output_type": "execute_result"
    }
   ],
   "source": [
    "df.columns.tolist()"
   ]
  },
  {
   "cell_type": "markdown",
   "id": "839a448b",
   "metadata": {},
   "source": [
    "#### Investigating NAME_YIELD_GROUP"
   ]
  },
  {
   "cell_type": "code",
   "execution_count": 36,
   "id": "bea18a29",
   "metadata": {},
   "outputs": [
    {
     "data": {
      "text/plain": [
       "middle        25.723830\n",
       "high          23.442042\n",
       "XNA           22.886941\n",
       "low_normal    21.034832\n",
       "low_action     6.912355\n",
       "Name: NAME_YIELD_GROUP, dtype: float64"
      ]
     },
     "execution_count": 36,
     "metadata": {},
     "output_type": "execute_result"
    }
   ],
   "source": [
    "df.NAME_YIELD_GROUP.value_counts(normalize=True)*100"
   ]
  },
  {
   "cell_type": "code",
   "execution_count": 37,
   "id": "0c36c630",
   "metadata": {},
   "outputs": [],
   "source": [
    "# more than 22 % value have XNA data in NAME_YIELD_GROUP column, we can drop this column\n",
    "df.drop(columns=['NAME_YIELD_GROUP'], inplace=True)"
   ]
  },
  {
   "cell_type": "markdown",
   "id": "4b20e4b7",
   "metadata": {},
   "source": [
    "#### Investigating NAME_SELLER_INDUSTRY\n"
   ]
  },
  {
   "cell_type": "code",
   "execution_count": 38,
   "id": "fe644b03",
   "metadata": {},
   "outputs": [
    {
     "data": {
      "text/plain": [
       "XNA                     36.131465\n",
       "Consumer electronics    30.399549\n",
       "Connectivity            20.857766\n",
       "Furniture                5.075297\n",
       "Construction             2.649200\n",
       "Clothing                 2.238112\n",
       "Industry                 1.759149\n",
       "Auto technology          0.486341\n",
       "Jewelry                  0.248778\n",
       "MLM partners             0.106535\n",
       "Tourism                  0.047808\n",
       "Name: NAME_SELLER_INDUSTRY, dtype: float64"
      ]
     },
     "execution_count": 38,
     "metadata": {},
     "output_type": "execute_result"
    }
   ],
   "source": [
    "df.NAME_SELLER_INDUSTRY.value_counts(normalize=True)*100"
   ]
  },
  {
   "cell_type": "code",
   "execution_count": 39,
   "id": "a215eb25",
   "metadata": {},
   "outputs": [],
   "source": [
    "# more than 35 % value have XNA data, we can drop this column\n",
    "df.drop(columns=['NAME_SELLER_INDUSTRY'], inplace=True) "
   ]
  },
  {
   "cell_type": "markdown",
   "id": "8b8950ef",
   "metadata": {},
   "source": [
    "#### Investigating NAME_PORTFOLIO"
   ]
  },
  {
   "cell_type": "code",
   "execution_count": 40,
   "id": "01ec63d9",
   "metadata": {},
   "outputs": [
    {
     "data": {
      "text/plain": [
       "POS      56.835479\n",
       "Cash     20.245413\n",
       "XNA      15.077747\n",
       "Cards     7.809194\n",
       "Cars      0.032167\n",
       "Name: NAME_PORTFOLIO, dtype: float64"
      ]
     },
     "execution_count": 40,
     "metadata": {},
     "output_type": "execute_result"
    }
   ],
   "source": [
    "df.NAME_PORTFOLIO.value_counts(normalize=True)*100"
   ]
  },
  {
   "cell_type": "code",
   "execution_count": 41,
   "id": "c86e0f98",
   "metadata": {},
   "outputs": [],
   "source": [
    "# 15 % value have XNA data, we can drop this column\n",
    "df.drop(columns='NAME_PORTFOLIO', inplace=True)"
   ]
  },
  {
   "cell_type": "markdown",
   "id": "ee40d415",
   "metadata": {},
   "source": [
    "#### Investigating NAME_GOODS_CATEGORY"
   ]
  },
  {
   "cell_type": "code",
   "execution_count": 42,
   "id": "addf5ac2",
   "metadata": {},
   "outputs": [
    {
     "data": {
      "text/plain": [
       "XNA                         41.545844\n",
       "Mobile                      17.462528\n",
       "Consumer Electronics         9.748655\n",
       "Computers                    8.633730\n",
       "Audio/Video                  7.859067\n",
       "Furniture                    4.755989\n",
       "Clothing and Accessories     2.223947\n",
       "Construction Materials       2.207126\n",
       "Photo / Cinema Equipment     1.831156\n",
       "Auto Accessories             0.620616\n",
       "Jewelry                      0.534739\n",
       "Homewares                    0.487521\n",
       "Medical Supplies             0.458896\n",
       "Vehicles                     0.321670\n",
       "Sport and Leisure            0.260287\n",
       "Gardening                    0.232842\n",
       "Medicine                     0.190051\n",
       "Other                        0.176476\n",
       "Tourism                      0.172344\n",
       "Office Appliances            0.166147\n",
       "Direct Sales                 0.047218\n",
       "Fitness                      0.028921\n",
       "Education                    0.014165\n",
       "Additional Service           0.009148\n",
       "Weapon                       0.005902\n",
       "Insurance                    0.004722\n",
       "Animals                      0.000295\n",
       "Name: NAME_GOODS_CATEGORY, dtype: float64"
      ]
     },
     "execution_count": 42,
     "metadata": {},
     "output_type": "execute_result"
    }
   ],
   "source": [
    "df.NAME_GOODS_CATEGORY.value_counts(normalize=True)*100"
   ]
  },
  {
   "cell_type": "code",
   "execution_count": 43,
   "id": "313df577",
   "metadata": {},
   "outputs": [],
   "source": [
    "# more than 40 % value have XNA data, we can drop this column \n",
    "df.drop(columns=['NAME_GOODS_CATEGORY'], inplace=True)  "
   ]
  },
  {
   "cell_type": "markdown",
   "id": "4d3a8d67",
   "metadata": {},
   "source": [
    "#### Investigating NAME_CLIENT_TYPE"
   ]
  },
  {
   "cell_type": "code",
   "execution_count": 44,
   "id": "2f02d545",
   "metadata": {},
   "outputs": [
    {
     "data": {
      "text/plain": [
       "Repeater     54.771777\n",
       "New          35.066119\n",
       "Refreshed    10.062357\n",
       "XNA           0.099747\n",
       "Name: NAME_CLIENT_TYPE, dtype: float64"
      ]
     },
     "execution_count": 44,
     "metadata": {},
     "output_type": "execute_result"
    }
   ],
   "source": [
    "df.NAME_CLIENT_TYPE.value_counts(normalize=True)*100"
   ]
  },
  {
   "cell_type": "code",
   "execution_count": 45,
   "id": "89b29b1a",
   "metadata": {},
   "outputs": [
    {
     "data": {
      "text/plain": [
       "'Repeater'"
      ]
     },
     "execution_count": 45,
     "metadata": {},
     "output_type": "execute_result"
    }
   ],
   "source": [
    "#XNA is very low but it could be replaced\n",
    "df.NAME_CLIENT_TYPE.mode()[0]"
   ]
  },
  {
   "cell_type": "code",
   "execution_count": 46,
   "id": "50fdb761",
   "metadata": {},
   "outputs": [],
   "source": [
    "df.NAME_CLIENT_TYPE.replace('XNA',df.NAME_CLIENT_TYPE.mode()[0], inplace=True)"
   ]
  },
  {
   "cell_type": "markdown",
   "id": "c8beb7aa",
   "metadata": {},
   "source": [
    "#### Investigating CODE_REJECT_REASON"
   ]
  },
  {
   "cell_type": "code",
   "execution_count": 47,
   "id": "202eb806",
   "metadata": {},
   "outputs": [
    {
     "data": {
      "text/plain": [
       "XAP       87.478789\n",
       "HC         5.928459\n",
       "LIMIT      2.514040\n",
       "SCO        1.642286\n",
       "CLIENT     1.508011\n",
       "SCOFR      0.545953\n",
       "XNA        0.205987\n",
       "VERIF      0.146965\n",
       "SYSTEM     0.029511\n",
       "Name: CODE_REJECT_REASON, dtype: float64"
      ]
     },
     "execution_count": 47,
     "metadata": {},
     "output_type": "execute_result"
    }
   ],
   "source": [
    "df.CODE_REJECT_REASON.value_counts(normalize=True)*100"
   ]
  },
  {
   "cell_type": "code",
   "execution_count": 48,
   "id": "3841b134",
   "metadata": {},
   "outputs": [],
   "source": [
    "#XAP is 80% - drop\n",
    "df.drop(columns=['CODE_REJECT_REASON'], inplace=True) "
   ]
  },
  {
   "cell_type": "markdown",
   "id": "56c948df",
   "metadata": {},
   "source": [
    "#### Investigating NAME_PAYMENT_TYPE"
   ]
  },
  {
   "cell_type": "code",
   "execution_count": 49,
   "id": "e41cb5e6",
   "metadata": {},
   "outputs": [
    {
     "data": {
      "text/plain": [
       "Cash through the bank                        68.294295\n",
       "XNA                                          31.030789\n",
       "Non-cash from your account                    0.602024\n",
       "Cashless from the account of the employer     0.072892\n",
       "Name: NAME_PAYMENT_TYPE, dtype: float64"
      ]
     },
     "execution_count": 49,
     "metadata": {},
     "output_type": "execute_result"
    }
   ],
   "source": [
    "df.NAME_PAYMENT_TYPE.value_counts(normalize=True)*100"
   ]
  },
  {
   "cell_type": "code",
   "execution_count": 50,
   "id": "f65ddeb0",
   "metadata": {},
   "outputs": [],
   "source": [
    "##XNA is 30% - drop\n",
    "df.drop(columns=['NAME_PAYMENT_TYPE'], inplace=True)"
   ]
  },
  {
   "cell_type": "markdown",
   "id": "c0266444",
   "metadata": {},
   "source": [
    "#### Investigating NAME_CONTRACT_TYPE"
   ]
  },
  {
   "cell_type": "code",
   "execution_count": 51,
   "id": "ca8a0f11",
   "metadata": {},
   "outputs": [
    {
     "data": {
      "text/plain": [
       "Consumer loans     58.912166\n",
       "Cash loans         31.208150\n",
       "Revolving loans     9.864338\n",
       "XNA                 0.015346\n",
       "Name: NAME_CONTRACT_TYPE, dtype: float64"
      ]
     },
     "execution_count": 51,
     "metadata": {},
     "output_type": "execute_result"
    }
   ],
   "source": [
    "df.NAME_CONTRACT_TYPE.value_counts(normalize=True)*100"
   ]
  },
  {
   "cell_type": "code",
   "execution_count": 52,
   "id": "5f777598",
   "metadata": {},
   "outputs": [
    {
     "data": {
      "text/plain": [
       "'Consumer loans'"
      ]
     },
     "execution_count": 52,
     "metadata": {},
     "output_type": "execute_result"
    }
   ],
   "source": [
    "df.NAME_CONTRACT_TYPE.mode()[0]\n"
   ]
  },
  {
   "cell_type": "code",
   "execution_count": 53,
   "id": "6396eb93",
   "metadata": {},
   "outputs": [],
   "source": [
    "df.NAME_CONTRACT_TYPE.replace('XNA',df.NAME_CONTRACT_TYPE.mode()[0], inplace=True)"
   ]
  },
  {
   "cell_type": "markdown",
   "id": "19c7a7e5",
   "metadata": {},
   "source": [
    "#### Investigating NAME_CASH_LOAN_PURPOSE"
   ]
  },
  {
   "cell_type": "code",
   "execution_count": 54,
   "id": "3e32eedf",
   "metadata": {},
   "outputs": [
    {
     "data": {
      "text/plain": [
       "XAP                                 68.791850\n",
       "XNA                                 27.888460\n",
       "Repairs                              1.109022\n",
       "Other                                0.735709\n",
       "Urgent needs                         0.443550\n",
       "Buying a used car                    0.133094\n",
       "Everyday expenses                    0.119224\n",
       "Medicine                             0.113912\n",
       "Building a house or an annex         0.110076\n",
       "Education                            0.075548\n",
       "Journey                              0.062268\n",
       "Payments on other loans              0.060497\n",
       "Purchase of electronic equipment     0.058727\n",
       "Wedding / gift / holiday             0.051939\n",
       "Furniture                            0.046332\n",
       "Car repairs                          0.046037\n",
       "Buying a new car                     0.041906\n",
       "Buying a home                        0.039545\n",
       "Buying a holiday home / land         0.024789\n",
       "Business development                 0.019477\n",
       "Gasification / water supply          0.018002\n",
       "Buying a garage                      0.005312\n",
       "Hobby                                0.002361\n",
       "Money for a third person             0.001771\n",
       "Refusal to name the goal             0.000590\n",
       "Name: NAME_CASH_LOAN_PURPOSE, dtype: float64"
      ]
     },
     "execution_count": 54,
     "metadata": {},
     "output_type": "execute_result"
    }
   ],
   "source": [
    "df.NAME_CASH_LOAN_PURPOSE.value_counts(normalize=True)*100"
   ]
  },
  {
   "cell_type": "code",
   "execution_count": 55,
   "id": "e61fa8c6",
   "metadata": {},
   "outputs": [],
   "source": [
    "df.drop(columns=['NAME_CASH_LOAN_PURPOSE'], inplace=True)"
   ]
  },
  {
   "cell_type": "markdown",
   "id": "c62a4ea7",
   "metadata": {},
   "source": [
    "#### Investigating FLAG_LAST_APPL_PER_CONTRACT and NFLAG_LAST_APPL_IN_DAY"
   ]
  },
  {
   "cell_type": "code",
   "execution_count": 56,
   "id": "d3b4dd5d",
   "metadata": {},
   "outputs": [
    {
     "data": {
      "text/plain": [
       "Y    99.70312\n",
       "N     0.29688\n",
       "Name: FLAG_LAST_APPL_PER_CONTRACT, dtype: float64"
      ]
     },
     "execution_count": 56,
     "metadata": {},
     "output_type": "execute_result"
    }
   ],
   "source": [
    "df.FLAG_LAST_APPL_PER_CONTRACT.value_counts(normalize=True)*100"
   ]
  },
  {
   "cell_type": "code",
   "execution_count": 57,
   "id": "ab2fac2e",
   "metadata": {},
   "outputs": [
    {
     "data": {
      "text/plain": [
       "1    99.760666\n",
       "0     0.239334\n",
       "Name: NFLAG_LAST_APPL_IN_DAY, dtype: float64"
      ]
     },
     "execution_count": 57,
     "metadata": {},
     "output_type": "execute_result"
    }
   ],
   "source": [
    "df.NFLAG_LAST_APPL_IN_DAY.value_counts(normalize=True)*100"
   ]
  },
  {
   "cell_type": "markdown",
   "id": "f679e484",
   "metadata": {},
   "source": [
    "Since the both FLAGS are almost 100% yes - we don't need them "
   ]
  },
  {
   "cell_type": "code",
   "execution_count": 58,
   "id": "7f0f3e56",
   "metadata": {},
   "outputs": [],
   "source": [
    "df.drop(columns=['FLAG_LAST_APPL_PER_CONTRACT'], inplace=True) \n",
    "df.drop(columns=['NFLAG_LAST_APPL_IN_DAY'], inplace=True) "
   ]
  },
  {
   "cell_type": "markdown",
   "id": "6a1ad88d",
   "metadata": {},
   "source": [
    "#### Investigating FLAG_LAST_APPL_PER_CONTRACT and NFLAG_LAST_APPL_IN_DAY"
   ]
  },
  {
   "cell_type": "code",
   "execution_count": 59,
   "id": "a353d4e8",
   "metadata": {},
   "outputs": [
    {
     "data": {
      "text/plain": [
       "XNA        71.945393\n",
       "x-sell     20.186096\n",
       "walk-in     7.868511\n",
       "Name: NAME_PRODUCT_TYPE, dtype: float64"
      ]
     },
     "execution_count": 59,
     "metadata": {},
     "output_type": "execute_result"
    }
   ],
   "source": [
    "df.NAME_PRODUCT_TYPE.value_counts(normalize=True)*100"
   ]
  },
  {
   "cell_type": "code",
   "execution_count": 60,
   "id": "90fcd855",
   "metadata": {},
   "outputs": [],
   "source": [
    "df.drop(columns=['NAME_PRODUCT_TYPE'], inplace=True) "
   ]
  },
  {
   "cell_type": "code",
   "execution_count": 61,
   "id": "232ae9fa",
   "metadata": {},
   "outputs": [
    {
     "name": "stdout",
     "output_type": "stream",
     "text": [
      "My dataset has 338857 rows and 13 columns\n"
     ]
    }
   ],
   "source": [
    "# How large is my dataset?\n",
    "print(f\"My dataset has {df.shape[0]} rows and {df.shape[1]} columns\")"
   ]
  },
  {
   "cell_type": "markdown",
   "id": "629ce006",
   "metadata": {},
   "source": [
    "-------\n",
    "-------"
   ]
  },
  {
   "cell_type": "code",
   "execution_count": 62,
   "id": "9c42f7be",
   "metadata": {},
   "outputs": [
    {
     "data": {
      "text/plain": [
       "['SK_ID_PREV',\n",
       " 'SK_ID_CURR',\n",
       " 'NAME_CONTRACT_TYPE',\n",
       " 'AMT_ANNUITY',\n",
       " 'AMT_APPLICATION',\n",
       " 'AMT_CREDIT',\n",
       " 'AMT_GOODS_PRICE',\n",
       " 'NAME_CONTRACT_STATUS',\n",
       " 'DAYS_DECISION',\n",
       " 'NAME_CLIENT_TYPE',\n",
       " 'CHANNEL_TYPE',\n",
       " 'SELLERPLACE_AREA',\n",
       " 'PRODUCT_COMBINATION']"
      ]
     },
     "execution_count": 62,
     "metadata": {},
     "output_type": "execute_result"
    }
   ],
   "source": [
    "df.columns.tolist()"
   ]
  },
  {
   "cell_type": "code",
   "execution_count": 63,
   "id": "c414607b",
   "metadata": {},
   "outputs": [
    {
     "data": {
      "text/plain": [
       "(338857, 13)"
      ]
     },
     "execution_count": 63,
     "metadata": {},
     "output_type": "execute_result"
    }
   ],
   "source": [
    "df.shape"
   ]
  },
  {
   "cell_type": "code",
   "execution_count": 64,
   "id": "c9e1419d",
   "metadata": {},
   "outputs": [
    {
     "data": {
      "text/plain": [
       "['SK_ID_PREV',\n",
       " 'SK_ID_CURR',\n",
       " 'AMT_ANNUITY',\n",
       " 'AMT_APPLICATION',\n",
       " 'AMT_CREDIT',\n",
       " 'AMT_GOODS_PRICE',\n",
       " 'NFLAG_LAST_APPL_IN_DAY',\n",
       " 'DAYS_DECISION',\n",
       " 'SELLERPLACE_AREA']"
      ]
     },
     "execution_count": 64,
     "metadata": {},
     "output_type": "execute_result"
    }
   ],
   "source": [
    "num_col.to_list()"
   ]
  },
  {
   "cell_type": "code",
   "execution_count": 65,
   "id": "aa011e85",
   "metadata": {},
   "outputs": [
    {
     "name": "stdout",
     "output_type": "stream",
     "text": [
      "<class 'pandas.core.frame.DataFrame'>\n",
      "Int64Index: 338857 entries, 0 to 1670060\n",
      "Data columns (total 13 columns):\n",
      " #   Column                Non-Null Count   Dtype  \n",
      "---  ------                --------------   -----  \n",
      " 0   SK_ID_PREV            338857 non-null  int64  \n",
      " 1   SK_ID_CURR            338857 non-null  int64  \n",
      " 2   NAME_CONTRACT_TYPE    338857 non-null  object \n",
      " 3   AMT_ANNUITY           338857 non-null  float64\n",
      " 4   AMT_APPLICATION       338857 non-null  float64\n",
      " 5   AMT_CREDIT            338857 non-null  float64\n",
      " 6   AMT_GOODS_PRICE       338857 non-null  float64\n",
      " 7   NAME_CONTRACT_STATUS  338857 non-null  object \n",
      " 8   DAYS_DECISION         338857 non-null  int64  \n",
      " 9   NAME_CLIENT_TYPE      338857 non-null  object \n",
      " 10  CHANNEL_TYPE          338857 non-null  object \n",
      " 11  SELLERPLACE_AREA      338857 non-null  int64  \n",
      " 12  PRODUCT_COMBINATION   338857 non-null  object \n",
      "dtypes: float64(4), int64(4), object(5)\n",
      "memory usage: 36.2+ MB\n"
     ]
    }
   ],
   "source": [
    "df.info()"
   ]
  },
  {
   "cell_type": "code",
   "execution_count": null,
   "id": "7346da5c",
   "metadata": {},
   "outputs": [],
   "source": [
    "#cat_fetaures = [' NAME_CONTRACT_TYPE', 'NAME_CONTRACT_STATUS', 'NAME_CLIENT_TYPE', 'CHANNEL_TYPE', 'PRODUCT_COMBINATION' ]"
   ]
  },
  {
   "cell_type": "markdown",
   "id": "03737554",
   "metadata": {},
   "source": [
    "### Creating Dummy Variables"
   ]
  },
  {
   "cell_type": "code",
   "execution_count": 66,
   "id": "a1eaa12b",
   "metadata": {},
   "outputs": [],
   "source": [
    "def dummy_encoding(df):\n",
    "    cat_convert = df\n",
    "    #Convert contract type\n",
    "    cat_convert = pd.get_dummies(cat_convert, columns=[\"NAME_CONTRACT_TYPE\"], prefix='NAME_CONTRACT_TYPE_', drop_first=True, dtype=None)\n",
    "    #Convert contract status\n",
    "    cat_convert = pd.get_dummies(cat_convert, columns=[\"NAME_CONTRACT_STATUS\"], prefix='NAME_CONTRACT_STATUS_', drop_first=True, dtype=None)\n",
    "    #Convert type of client\n",
    "    cat_convert = pd.get_dummies(cat_convert, columns=[\"NAME_CLIENT_TYPE\"], prefix='NAME_CLIENT_TYPE_', drop_first=True, dtype=None)\n",
    "    #Convert type of channel\n",
    "    cat_convert = pd.get_dummies(cat_convert, columns=[\"CHANNEL_TYPE\"], prefix='CHANNEL_TYPE_', drop_first=True, dtype=None)\n",
    "    #Convert product combination\n",
    "    cat_convert =pd.get_dummies(cat_convert, columns=[\"PRODUCT_COMBINATION\"], prefix='PRODUCT_COMBINATION_', drop_first=True, dtype=None)\n",
    "\n",
    "    return cat_convert"
   ]
  },
  {
   "cell_type": "code",
   "execution_count": 68,
   "id": "5a0da0ab",
   "metadata": {},
   "outputs": [
    {
     "ename": "KeyError",
     "evalue": "\"None of [Index(['NAME_CONTRACT_TYPE'], dtype='object')] are in the [columns]\"",
     "output_type": "error",
     "traceback": [
      "\u001b[1;31m---------------------------------------------------------------------------\u001b[0m",
      "\u001b[1;31mKeyError\u001b[0m                                  Traceback (most recent call last)",
      "Input \u001b[1;32mIn [68]\u001b[0m, in \u001b[0;36m<cell line: 1>\u001b[1;34m()\u001b[0m\n\u001b[1;32m----> 1\u001b[0m df \u001b[38;5;241m=\u001b[39m \u001b[43mdummy_encoding\u001b[49m\u001b[43m(\u001b[49m\u001b[43mdf\u001b[49m\u001b[43m)\u001b[49m\n",
      "Input \u001b[1;32mIn [66]\u001b[0m, in \u001b[0;36mdummy_encoding\u001b[1;34m(df)\u001b[0m\n\u001b[0;32m      2\u001b[0m cat_convert \u001b[38;5;241m=\u001b[39m df\n\u001b[0;32m      3\u001b[0m \u001b[38;5;66;03m#Convert contract type\u001b[39;00m\n\u001b[1;32m----> 4\u001b[0m cat_convert \u001b[38;5;241m=\u001b[39m \u001b[43mpd\u001b[49m\u001b[38;5;241;43m.\u001b[39;49m\u001b[43mget_dummies\u001b[49m\u001b[43m(\u001b[49m\u001b[43mcat_convert\u001b[49m\u001b[43m,\u001b[49m\u001b[43m \u001b[49m\u001b[43mcolumns\u001b[49m\u001b[38;5;241;43m=\u001b[39;49m\u001b[43m[\u001b[49m\u001b[38;5;124;43m\"\u001b[39;49m\u001b[38;5;124;43mNAME_CONTRACT_TYPE\u001b[39;49m\u001b[38;5;124;43m\"\u001b[39;49m\u001b[43m]\u001b[49m\u001b[43m,\u001b[49m\u001b[43m \u001b[49m\u001b[43mprefix\u001b[49m\u001b[38;5;241;43m=\u001b[39;49m\u001b[38;5;124;43m'\u001b[39;49m\u001b[38;5;124;43mNAME_CONTRACT_TYPE_\u001b[39;49m\u001b[38;5;124;43m'\u001b[39;49m\u001b[43m,\u001b[49m\u001b[43m \u001b[49m\u001b[43mdrop_first\u001b[49m\u001b[38;5;241;43m=\u001b[39;49m\u001b[38;5;28;43;01mTrue\u001b[39;49;00m\u001b[43m,\u001b[49m\u001b[43m \u001b[49m\u001b[43mdtype\u001b[49m\u001b[38;5;241;43m=\u001b[39;49m\u001b[38;5;28;43;01mNone\u001b[39;49;00m\u001b[43m)\u001b[49m\n\u001b[0;32m      5\u001b[0m \u001b[38;5;66;03m#Convert contract status\u001b[39;00m\n\u001b[0;32m      6\u001b[0m cat_convert \u001b[38;5;241m=\u001b[39m pd\u001b[38;5;241m.\u001b[39mget_dummies(cat_convert, columns\u001b[38;5;241m=\u001b[39m[\u001b[38;5;124m\"\u001b[39m\u001b[38;5;124mNAME_CONTRACT_STATUS\u001b[39m\u001b[38;5;124m\"\u001b[39m], prefix\u001b[38;5;241m=\u001b[39m\u001b[38;5;124m'\u001b[39m\u001b[38;5;124mNAME_CONTRACT_STATUS_\u001b[39m\u001b[38;5;124m'\u001b[39m, drop_first\u001b[38;5;241m=\u001b[39m\u001b[38;5;28;01mTrue\u001b[39;00m, dtype\u001b[38;5;241m=\u001b[39m\u001b[38;5;28;01mNone\u001b[39;00m)\n",
      "File \u001b[1;32m~\\anaconda3\\lib\\site-packages\\pandas\\core\\reshape\\reshape.py:931\u001b[0m, in \u001b[0;36mget_dummies\u001b[1;34m(data, prefix, prefix_sep, dummy_na, columns, sparse, drop_first, dtype)\u001b[0m\n\u001b[0;32m    929\u001b[0m     \u001b[38;5;28;01mraise\u001b[39;00m \u001b[38;5;167;01mTypeError\u001b[39;00m(\u001b[38;5;124m\"\u001b[39m\u001b[38;5;124mInput must be a list-like for parameter `columns`\u001b[39m\u001b[38;5;124m\"\u001b[39m)\n\u001b[0;32m    930\u001b[0m \u001b[38;5;28;01melse\u001b[39;00m:\n\u001b[1;32m--> 931\u001b[0m     data_to_encode \u001b[38;5;241m=\u001b[39m \u001b[43mdata\u001b[49m\u001b[43m[\u001b[49m\u001b[43mcolumns\u001b[49m\u001b[43m]\u001b[49m\n\u001b[0;32m    933\u001b[0m \u001b[38;5;66;03m# validate prefixes and separator to avoid silently dropping cols\u001b[39;00m\n\u001b[0;32m    934\u001b[0m \u001b[38;5;28;01mdef\u001b[39;00m \u001b[38;5;21mcheck_len\u001b[39m(item, name):\n",
      "File \u001b[1;32m~\\anaconda3\\lib\\site-packages\\pandas\\core\\frame.py:3511\u001b[0m, in \u001b[0;36mDataFrame.__getitem__\u001b[1;34m(self, key)\u001b[0m\n\u001b[0;32m   3509\u001b[0m     \u001b[38;5;28;01mif\u001b[39;00m is_iterator(key):\n\u001b[0;32m   3510\u001b[0m         key \u001b[38;5;241m=\u001b[39m \u001b[38;5;28mlist\u001b[39m(key)\n\u001b[1;32m-> 3511\u001b[0m     indexer \u001b[38;5;241m=\u001b[39m \u001b[38;5;28;43mself\u001b[39;49m\u001b[38;5;241;43m.\u001b[39;49m\u001b[43mcolumns\u001b[49m\u001b[38;5;241;43m.\u001b[39;49m\u001b[43m_get_indexer_strict\u001b[49m\u001b[43m(\u001b[49m\u001b[43mkey\u001b[49m\u001b[43m,\u001b[49m\u001b[43m \u001b[49m\u001b[38;5;124;43m\"\u001b[39;49m\u001b[38;5;124;43mcolumns\u001b[39;49m\u001b[38;5;124;43m\"\u001b[39;49m\u001b[43m)\u001b[49m[\u001b[38;5;241m1\u001b[39m]\n\u001b[0;32m   3513\u001b[0m \u001b[38;5;66;03m# take() does not accept boolean indexers\u001b[39;00m\n\u001b[0;32m   3514\u001b[0m \u001b[38;5;28;01mif\u001b[39;00m \u001b[38;5;28mgetattr\u001b[39m(indexer, \u001b[38;5;124m\"\u001b[39m\u001b[38;5;124mdtype\u001b[39m\u001b[38;5;124m\"\u001b[39m, \u001b[38;5;28;01mNone\u001b[39;00m) \u001b[38;5;241m==\u001b[39m \u001b[38;5;28mbool\u001b[39m:\n",
      "File \u001b[1;32m~\\anaconda3\\lib\\site-packages\\pandas\\core\\indexes\\base.py:5782\u001b[0m, in \u001b[0;36mIndex._get_indexer_strict\u001b[1;34m(self, key, axis_name)\u001b[0m\n\u001b[0;32m   5779\u001b[0m \u001b[38;5;28;01melse\u001b[39;00m:\n\u001b[0;32m   5780\u001b[0m     keyarr, indexer, new_indexer \u001b[38;5;241m=\u001b[39m \u001b[38;5;28mself\u001b[39m\u001b[38;5;241m.\u001b[39m_reindex_non_unique(keyarr)\n\u001b[1;32m-> 5782\u001b[0m \u001b[38;5;28;43mself\u001b[39;49m\u001b[38;5;241;43m.\u001b[39;49m\u001b[43m_raise_if_missing\u001b[49m\u001b[43m(\u001b[49m\u001b[43mkeyarr\u001b[49m\u001b[43m,\u001b[49m\u001b[43m \u001b[49m\u001b[43mindexer\u001b[49m\u001b[43m,\u001b[49m\u001b[43m \u001b[49m\u001b[43maxis_name\u001b[49m\u001b[43m)\u001b[49m\n\u001b[0;32m   5784\u001b[0m keyarr \u001b[38;5;241m=\u001b[39m \u001b[38;5;28mself\u001b[39m\u001b[38;5;241m.\u001b[39mtake(indexer)\n\u001b[0;32m   5785\u001b[0m \u001b[38;5;28;01mif\u001b[39;00m \u001b[38;5;28misinstance\u001b[39m(key, Index):\n\u001b[0;32m   5786\u001b[0m     \u001b[38;5;66;03m# GH 42790 - Preserve name from an Index\u001b[39;00m\n",
      "File \u001b[1;32m~\\anaconda3\\lib\\site-packages\\pandas\\core\\indexes\\base.py:5842\u001b[0m, in \u001b[0;36mIndex._raise_if_missing\u001b[1;34m(self, key, indexer, axis_name)\u001b[0m\n\u001b[0;32m   5840\u001b[0m     \u001b[38;5;28;01mif\u001b[39;00m use_interval_msg:\n\u001b[0;32m   5841\u001b[0m         key \u001b[38;5;241m=\u001b[39m \u001b[38;5;28mlist\u001b[39m(key)\n\u001b[1;32m-> 5842\u001b[0m     \u001b[38;5;28;01mraise\u001b[39;00m \u001b[38;5;167;01mKeyError\u001b[39;00m(\u001b[38;5;124mf\u001b[39m\u001b[38;5;124m\"\u001b[39m\u001b[38;5;124mNone of [\u001b[39m\u001b[38;5;132;01m{\u001b[39;00mkey\u001b[38;5;132;01m}\u001b[39;00m\u001b[38;5;124m] are in the [\u001b[39m\u001b[38;5;132;01m{\u001b[39;00maxis_name\u001b[38;5;132;01m}\u001b[39;00m\u001b[38;5;124m]\u001b[39m\u001b[38;5;124m\"\u001b[39m)\n\u001b[0;32m   5844\u001b[0m not_found \u001b[38;5;241m=\u001b[39m \u001b[38;5;28mlist\u001b[39m(ensure_index(key)[missing_mask\u001b[38;5;241m.\u001b[39mnonzero()[\u001b[38;5;241m0\u001b[39m]]\u001b[38;5;241m.\u001b[39munique())\n\u001b[0;32m   5845\u001b[0m \u001b[38;5;28;01mraise\u001b[39;00m \u001b[38;5;167;01mKeyError\u001b[39;00m(\u001b[38;5;124mf\u001b[39m\u001b[38;5;124m\"\u001b[39m\u001b[38;5;132;01m{\u001b[39;00mnot_found\u001b[38;5;132;01m}\u001b[39;00m\u001b[38;5;124m not in index\u001b[39m\u001b[38;5;124m\"\u001b[39m)\n",
      "\u001b[1;31mKeyError\u001b[0m: \"None of [Index(['NAME_CONTRACT_TYPE'], dtype='object')] are in the [columns]\""
     ]
    }
   ],
   "source": [
    "df = dummy_encoding(df)"
   ]
  },
  {
   "cell_type": "code",
   "execution_count": 69,
   "id": "ee0d0ea4",
   "metadata": {},
   "outputs": [
    {
     "data": {
      "text/html": [
       "<div>\n",
       "<style scoped>\n",
       "    .dataframe tbody tr th:only-of-type {\n",
       "        vertical-align: middle;\n",
       "    }\n",
       "\n",
       "    .dataframe tbody tr th {\n",
       "        vertical-align: top;\n",
       "    }\n",
       "\n",
       "    .dataframe thead th {\n",
       "        text-align: right;\n",
       "    }\n",
       "</style>\n",
       "<table border=\"1\" class=\"dataframe\">\n",
       "  <thead>\n",
       "    <tr style=\"text-align: right;\">\n",
       "      <th></th>\n",
       "      <th>SK_ID_PREV</th>\n",
       "      <th>SK_ID_CURR</th>\n",
       "      <th>AMT_ANNUITY</th>\n",
       "      <th>AMT_APPLICATION</th>\n",
       "      <th>AMT_CREDIT</th>\n",
       "      <th>AMT_GOODS_PRICE</th>\n",
       "      <th>DAYS_DECISION</th>\n",
       "      <th>SELLERPLACE_AREA</th>\n",
       "      <th>NAME_CONTRACT_TYPE__Consumer loans</th>\n",
       "      <th>NAME_CONTRACT_TYPE__Revolving loans</th>\n",
       "      <th>...</th>\n",
       "      <th>PRODUCT_COMBINATION__Cash X-Sell: low</th>\n",
       "      <th>PRODUCT_COMBINATION__Cash X-Sell: middle</th>\n",
       "      <th>PRODUCT_COMBINATION__POS household with interest</th>\n",
       "      <th>PRODUCT_COMBINATION__POS household without interest</th>\n",
       "      <th>PRODUCT_COMBINATION__POS industry with interest</th>\n",
       "      <th>PRODUCT_COMBINATION__POS industry without interest</th>\n",
       "      <th>PRODUCT_COMBINATION__POS mobile with interest</th>\n",
       "      <th>PRODUCT_COMBINATION__POS mobile without interest</th>\n",
       "      <th>PRODUCT_COMBINATION__POS other with interest</th>\n",
       "      <th>PRODUCT_COMBINATION__POS others without interest</th>\n",
       "    </tr>\n",
       "  </thead>\n",
       "  <tbody>\n",
       "    <tr>\n",
       "      <th>0</th>\n",
       "      <td>2030495</td>\n",
       "      <td>271877</td>\n",
       "      <td>1730.430</td>\n",
       "      <td>17145.0</td>\n",
       "      <td>17145.0</td>\n",
       "      <td>17145.0</td>\n",
       "      <td>73</td>\n",
       "      <td>35</td>\n",
       "      <td>1</td>\n",
       "      <td>0</td>\n",
       "      <td>...</td>\n",
       "      <td>0</td>\n",
       "      <td>0</td>\n",
       "      <td>0</td>\n",
       "      <td>0</td>\n",
       "      <td>0</td>\n",
       "      <td>0</td>\n",
       "      <td>1</td>\n",
       "      <td>0</td>\n",
       "      <td>0</td>\n",
       "      <td>0</td>\n",
       "    </tr>\n",
       "    <tr>\n",
       "      <th>1</th>\n",
       "      <td>2802425</td>\n",
       "      <td>108129</td>\n",
       "      <td>25188.615</td>\n",
       "      <td>607500.0</td>\n",
       "      <td>679671.0</td>\n",
       "      <td>607500.0</td>\n",
       "      <td>164</td>\n",
       "      <td>-1</td>\n",
       "      <td>0</td>\n",
       "      <td>0</td>\n",
       "      <td>...</td>\n",
       "      <td>1</td>\n",
       "      <td>0</td>\n",
       "      <td>0</td>\n",
       "      <td>0</td>\n",
       "      <td>0</td>\n",
       "      <td>0</td>\n",
       "      <td>0</td>\n",
       "      <td>0</td>\n",
       "      <td>0</td>\n",
       "      <td>0</td>\n",
       "    </tr>\n",
       "    <tr>\n",
       "      <th>2</th>\n",
       "      <td>2523466</td>\n",
       "      <td>122040</td>\n",
       "      <td>15060.735</td>\n",
       "      <td>112500.0</td>\n",
       "      <td>136444.5</td>\n",
       "      <td>112500.0</td>\n",
       "      <td>301</td>\n",
       "      <td>-1</td>\n",
       "      <td>0</td>\n",
       "      <td>0</td>\n",
       "      <td>...</td>\n",
       "      <td>0</td>\n",
       "      <td>0</td>\n",
       "      <td>0</td>\n",
       "      <td>0</td>\n",
       "      <td>0</td>\n",
       "      <td>0</td>\n",
       "      <td>0</td>\n",
       "      <td>0</td>\n",
       "      <td>0</td>\n",
       "      <td>0</td>\n",
       "    </tr>\n",
       "    <tr>\n",
       "      <th>3</th>\n",
       "      <td>2819243</td>\n",
       "      <td>176158</td>\n",
       "      <td>47041.335</td>\n",
       "      <td>450000.0</td>\n",
       "      <td>470790.0</td>\n",
       "      <td>450000.0</td>\n",
       "      <td>512</td>\n",
       "      <td>-1</td>\n",
       "      <td>0</td>\n",
       "      <td>0</td>\n",
       "      <td>...</td>\n",
       "      <td>0</td>\n",
       "      <td>1</td>\n",
       "      <td>0</td>\n",
       "      <td>0</td>\n",
       "      <td>0</td>\n",
       "      <td>0</td>\n",
       "      <td>0</td>\n",
       "      <td>0</td>\n",
       "      <td>0</td>\n",
       "      <td>0</td>\n",
       "    </tr>\n",
       "    <tr>\n",
       "      <th>4</th>\n",
       "      <td>1784265</td>\n",
       "      <td>202054</td>\n",
       "      <td>31924.395</td>\n",
       "      <td>337500.0</td>\n",
       "      <td>404055.0</td>\n",
       "      <td>337500.0</td>\n",
       "      <td>781</td>\n",
       "      <td>-1</td>\n",
       "      <td>0</td>\n",
       "      <td>0</td>\n",
       "      <td>...</td>\n",
       "      <td>0</td>\n",
       "      <td>0</td>\n",
       "      <td>0</td>\n",
       "      <td>0</td>\n",
       "      <td>0</td>\n",
       "      <td>0</td>\n",
       "      <td>0</td>\n",
       "      <td>0</td>\n",
       "      <td>0</td>\n",
       "      <td>0</td>\n",
       "    </tr>\n",
       "  </tbody>\n",
       "</table>\n",
       "<p>5 rows × 38 columns</p>\n",
       "</div>"
      ],
      "text/plain": [
       "   SK_ID_PREV  SK_ID_CURR  AMT_ANNUITY  AMT_APPLICATION  AMT_CREDIT  \\\n",
       "0     2030495      271877     1730.430          17145.0     17145.0   \n",
       "1     2802425      108129    25188.615         607500.0    679671.0   \n",
       "2     2523466      122040    15060.735         112500.0    136444.5   \n",
       "3     2819243      176158    47041.335         450000.0    470790.0   \n",
       "4     1784265      202054    31924.395         337500.0    404055.0   \n",
       "\n",
       "   AMT_GOODS_PRICE  DAYS_DECISION  SELLERPLACE_AREA  \\\n",
       "0          17145.0             73                35   \n",
       "1         607500.0            164                -1   \n",
       "2         112500.0            301                -1   \n",
       "3         450000.0            512                -1   \n",
       "4         337500.0            781                -1   \n",
       "\n",
       "   NAME_CONTRACT_TYPE__Consumer loans  NAME_CONTRACT_TYPE__Revolving loans  \\\n",
       "0                                   1                                    0   \n",
       "1                                   0                                    0   \n",
       "2                                   0                                    0   \n",
       "3                                   0                                    0   \n",
       "4                                   0                                    0   \n",
       "\n",
       "   ...  PRODUCT_COMBINATION__Cash X-Sell: low  \\\n",
       "0  ...                                      0   \n",
       "1  ...                                      1   \n",
       "2  ...                                      0   \n",
       "3  ...                                      0   \n",
       "4  ...                                      0   \n",
       "\n",
       "   PRODUCT_COMBINATION__Cash X-Sell: middle  \\\n",
       "0                                         0   \n",
       "1                                         0   \n",
       "2                                         0   \n",
       "3                                         1   \n",
       "4                                         0   \n",
       "\n",
       "   PRODUCT_COMBINATION__POS household with interest  \\\n",
       "0                                                 0   \n",
       "1                                                 0   \n",
       "2                                                 0   \n",
       "3                                                 0   \n",
       "4                                                 0   \n",
       "\n",
       "   PRODUCT_COMBINATION__POS household without interest  \\\n",
       "0                                                  0     \n",
       "1                                                  0     \n",
       "2                                                  0     \n",
       "3                                                  0     \n",
       "4                                                  0     \n",
       "\n",
       "   PRODUCT_COMBINATION__POS industry with interest  \\\n",
       "0                                                0   \n",
       "1                                                0   \n",
       "2                                                0   \n",
       "3                                                0   \n",
       "4                                                0   \n",
       "\n",
       "   PRODUCT_COMBINATION__POS industry without interest  \\\n",
       "0                                                  0    \n",
       "1                                                  0    \n",
       "2                                                  0    \n",
       "3                                                  0    \n",
       "4                                                  0    \n",
       "\n",
       "   PRODUCT_COMBINATION__POS mobile with interest  \\\n",
       "0                                              1   \n",
       "1                                              0   \n",
       "2                                              0   \n",
       "3                                              0   \n",
       "4                                              0   \n",
       "\n",
       "   PRODUCT_COMBINATION__POS mobile without interest  \\\n",
       "0                                                 0   \n",
       "1                                                 0   \n",
       "2                                                 0   \n",
       "3                                                 0   \n",
       "4                                                 0   \n",
       "\n",
       "   PRODUCT_COMBINATION__POS other with interest  \\\n",
       "0                                             0   \n",
       "1                                             0   \n",
       "2                                             0   \n",
       "3                                             0   \n",
       "4                                             0   \n",
       "\n",
       "   PRODUCT_COMBINATION__POS others without interest  \n",
       "0                                                 0  \n",
       "1                                                 0  \n",
       "2                                                 0  \n",
       "3                                                 0  \n",
       "4                                                 0  \n",
       "\n",
       "[5 rows x 38 columns]"
      ]
     },
     "execution_count": 69,
     "metadata": {},
     "output_type": "execute_result"
    }
   ],
   "source": [
    "df.head()"
   ]
  },
  {
   "cell_type": "code",
   "execution_count": 70,
   "id": "647ee636",
   "metadata": {},
   "outputs": [
    {
     "data": {
      "text/plain": [
       "(338857, 38)"
      ]
     },
     "execution_count": 70,
     "metadata": {},
     "output_type": "execute_result"
    }
   ],
   "source": [
    "df.shape"
   ]
  },
  {
   "cell_type": "code",
   "execution_count": 71,
   "id": "65ae9563",
   "metadata": {},
   "outputs": [
    {
     "name": "stdout",
     "output_type": "stream",
     "text": [
      "<class 'pandas.core.frame.DataFrame'>\n",
      "Int64Index: 338857 entries, 0 to 1670060\n",
      "Data columns (total 38 columns):\n",
      " #   Column                                               Non-Null Count   Dtype  \n",
      "---  ------                                               --------------   -----  \n",
      " 0   SK_ID_PREV                                           338857 non-null  int64  \n",
      " 1   SK_ID_CURR                                           338857 non-null  int64  \n",
      " 2   AMT_ANNUITY                                          338857 non-null  float64\n",
      " 3   AMT_APPLICATION                                      338857 non-null  float64\n",
      " 4   AMT_CREDIT                                           338857 non-null  float64\n",
      " 5   AMT_GOODS_PRICE                                      338857 non-null  float64\n",
      " 6   DAYS_DECISION                                        338857 non-null  int64  \n",
      " 7   SELLERPLACE_AREA                                     338857 non-null  int64  \n",
      " 8   NAME_CONTRACT_TYPE__Consumer loans                   338857 non-null  uint8  \n",
      " 9   NAME_CONTRACT_TYPE__Revolving loans                  338857 non-null  uint8  \n",
      " 10  NAME_CONTRACT_STATUS__Canceled                       338857 non-null  uint8  \n",
      " 11  NAME_CONTRACT_STATUS__Refused                        338857 non-null  uint8  \n",
      " 12  NAME_CONTRACT_STATUS__Unused offer                   338857 non-null  uint8  \n",
      " 13  NAME_CLIENT_TYPE__Refreshed                          338857 non-null  uint8  \n",
      " 14  NAME_CLIENT_TYPE__Repeater                           338857 non-null  uint8  \n",
      " 15  CHANNEL_TYPE__Car dealer                             338857 non-null  uint8  \n",
      " 16  CHANNEL_TYPE__Channel of corporate sales             338857 non-null  uint8  \n",
      " 17  CHANNEL_TYPE__Contact center                         338857 non-null  uint8  \n",
      " 18  CHANNEL_TYPE__Country-wide                           338857 non-null  uint8  \n",
      " 19  CHANNEL_TYPE__Credit and cash offices                338857 non-null  uint8  \n",
      " 20  CHANNEL_TYPE__Regional / Local                       338857 non-null  uint8  \n",
      " 21  CHANNEL_TYPE__Stone                                  338857 non-null  uint8  \n",
      " 22  PRODUCT_COMBINATION__Card X-Sell                     338857 non-null  uint8  \n",
      " 23  PRODUCT_COMBINATION__Cash                            338857 non-null  uint8  \n",
      " 24  PRODUCT_COMBINATION__Cash Street: high               338857 non-null  uint8  \n",
      " 25  PRODUCT_COMBINATION__Cash Street: low                338857 non-null  uint8  \n",
      " 26  PRODUCT_COMBINATION__Cash Street: middle             338857 non-null  uint8  \n",
      " 27  PRODUCT_COMBINATION__Cash X-Sell: high               338857 non-null  uint8  \n",
      " 28  PRODUCT_COMBINATION__Cash X-Sell: low                338857 non-null  uint8  \n",
      " 29  PRODUCT_COMBINATION__Cash X-Sell: middle             338857 non-null  uint8  \n",
      " 30  PRODUCT_COMBINATION__POS household with interest     338857 non-null  uint8  \n",
      " 31  PRODUCT_COMBINATION__POS household without interest  338857 non-null  uint8  \n",
      " 32  PRODUCT_COMBINATION__POS industry with interest      338857 non-null  uint8  \n",
      " 33  PRODUCT_COMBINATION__POS industry without interest   338857 non-null  uint8  \n",
      " 34  PRODUCT_COMBINATION__POS mobile with interest        338857 non-null  uint8  \n",
      " 35  PRODUCT_COMBINATION__POS mobile without interest     338857 non-null  uint8  \n",
      " 36  PRODUCT_COMBINATION__POS other with interest         338857 non-null  uint8  \n",
      " 37  PRODUCT_COMBINATION__POS others without interest     338857 non-null  uint8  \n",
      "dtypes: float64(4), int64(4), uint8(30)\n",
      "memory usage: 33.0 MB\n"
     ]
    }
   ],
   "source": [
    "df.info()"
   ]
  },
  {
   "cell_type": "code",
   "execution_count": 72,
   "id": "0cd0ec92",
   "metadata": {},
   "outputs": [],
   "source": [
    "agg_df = df.groupby(['SK_ID_CURR', 'SK_ID_PREV']).agg({'AMT_ANNUITY':'mean', \n",
    "                                                   'AMT_APPLICATION':'sum', \n",
    "                                                   'AMT_CREDIT':'sum',\n",
    "                                                      'AMT_GOODS_PRICE': 'sum'}).groupby('SK_ID_CURR').agg(np.mean)"
   ]
  },
  {
   "cell_type": "code",
   "execution_count": 73,
   "id": "ac182d69",
   "metadata": {},
   "outputs": [
    {
     "data": {
      "text/plain": [
       "AMT_ANNUITY        0\n",
       "AMT_APPLICATION    0\n",
       "AMT_CREDIT         0\n",
       "AMT_GOODS_PRICE    0\n",
       "dtype: int64"
      ]
     },
     "execution_count": 73,
     "metadata": {},
     "output_type": "execute_result"
    }
   ],
   "source": [
    "agg_df.isna().sum()"
   ]
  },
  {
   "cell_type": "code",
   "execution_count": 74,
   "id": "90322140",
   "metadata": {},
   "outputs": [
    {
     "data": {
      "text/html": [
       "<div>\n",
       "<style scoped>\n",
       "    .dataframe tbody tr th:only-of-type {\n",
       "        vertical-align: middle;\n",
       "    }\n",
       "\n",
       "    .dataframe tbody tr th {\n",
       "        vertical-align: top;\n",
       "    }\n",
       "\n",
       "    .dataframe thead th {\n",
       "        text-align: right;\n",
       "    }\n",
       "</style>\n",
       "<table border=\"1\" class=\"dataframe\">\n",
       "  <thead>\n",
       "    <tr style=\"text-align: right;\">\n",
       "      <th></th>\n",
       "      <th>SK_ID_CURR</th>\n",
       "      <th>AMT_ANNUITY</th>\n",
       "      <th>AMT_APPLICATION</th>\n",
       "      <th>AMT_CREDIT</th>\n",
       "      <th>AMT_GOODS_PRICE</th>\n",
       "    </tr>\n",
       "  </thead>\n",
       "  <tbody>\n",
       "    <tr>\n",
       "      <th>0</th>\n",
       "      <td>100001</td>\n",
       "      <td>3951.000000</td>\n",
       "      <td>24835.5</td>\n",
       "      <td>23787.0</td>\n",
       "      <td>24835.500000</td>\n",
       "    </tr>\n",
       "    <tr>\n",
       "      <th>1</th>\n",
       "      <td>100002</td>\n",
       "      <td>9251.775000</td>\n",
       "      <td>179055.0</td>\n",
       "      <td>179055.0</td>\n",
       "      <td>179055.000000</td>\n",
       "    </tr>\n",
       "    <tr>\n",
       "      <th>2</th>\n",
       "      <td>100003</td>\n",
       "      <td>98356.995000</td>\n",
       "      <td>900000.0</td>\n",
       "      <td>1035882.0</td>\n",
       "      <td>900000.000000</td>\n",
       "    </tr>\n",
       "    <tr>\n",
       "      <th>3</th>\n",
       "      <td>100004</td>\n",
       "      <td>5357.250000</td>\n",
       "      <td>24282.0</td>\n",
       "      <td>20106.0</td>\n",
       "      <td>24282.000000</td>\n",
       "    </tr>\n",
       "    <tr>\n",
       "      <th>4</th>\n",
       "      <td>100005</td>\n",
       "      <td>14231.100868</td>\n",
       "      <td>0.0</td>\n",
       "      <td>0.0</td>\n",
       "      <td>181829.101051</td>\n",
       "    </tr>\n",
       "  </tbody>\n",
       "</table>\n",
       "</div>"
      ],
      "text/plain": [
       "   SK_ID_CURR   AMT_ANNUITY  AMT_APPLICATION  AMT_CREDIT  AMT_GOODS_PRICE\n",
       "0      100001   3951.000000          24835.5     23787.0     24835.500000\n",
       "1      100002   9251.775000         179055.0    179055.0    179055.000000\n",
       "2      100003  98356.995000         900000.0   1035882.0    900000.000000\n",
       "3      100004   5357.250000          24282.0     20106.0     24282.000000\n",
       "4      100005  14231.100868              0.0         0.0    181829.101051"
      ]
     },
     "execution_count": 74,
     "metadata": {},
     "output_type": "execute_result"
    }
   ],
   "source": [
    "agg_df.head().reset_index()"
   ]
  },
  {
   "cell_type": "code",
   "execution_count": 75,
   "id": "70b2d905",
   "metadata": {},
   "outputs": [
    {
     "data": {
      "text/plain": [
       "(338857, 4)"
      ]
     },
     "execution_count": 75,
     "metadata": {},
     "output_type": "execute_result"
    }
   ],
   "source": [
    "agg_df.shape"
   ]
  },
  {
   "cell_type": "code",
   "execution_count": 76,
   "id": "ac243179",
   "metadata": {},
   "outputs": [],
   "source": [
    "agg_df.to_csv(path_or_buf = \"agg_df.csv\", index=False)"
   ]
  },
  {
   "cell_type": "code",
   "execution_count": null,
   "id": "28d24cf1",
   "metadata": {},
   "outputs": [],
   "source": [
    "#pd.read_csv('agg_df.csv')"
   ]
  },
  {
   "cell_type": "code",
   "execution_count": 77,
   "id": "49d812ff",
   "metadata": {},
   "outputs": [
    {
     "data": {
      "image/png": "[encoded data removed]",
      "text/plain": [
       "<Figure size 1080x360 with 1 Axes>"
      ]
     },
     "metadata": {},
     "output_type": "display_data"
    },
    {
     "data": {
      "image/png": "[encoded data removed]",
      "text/plain": [
       "<Figure size 1080x360 with 1 Axes>"
      ]
     },
     "metadata": {},
     "output_type": "display_data"
    },
    {
     "data": {
      "image/png": "[encoded data removed]",
      "text/plain": [
       "<Figure size 1080x360 with 1 Axes>"
      ]
     },
     "metadata": {},
     "output_type": "display_data"
    },
    {
     "data": {
      "image/png": "[encoded data removed]",
      "text/plain": [
       "<Figure size 1080x360 with 1 Axes>"
      ]
     },
     "metadata": {},
     "output_type": "display_data"
    }
   ],
   "source": [
    "def plot_hist(var):\n",
    "    plt.figure(figsize=(15,5))\n",
    "    plt.hist(df[var], bins=50)\n",
    "    plt.xticks(rotation=90)\n",
    "    plt.xlabel(var)\n",
    "    plt.ylabel(\"Frequency\")\n",
    "    plt.title(\"{} distribution with hist\".format(var))\n",
    "    plt.show()\n",
    "    \n",
    "for n in agg_df:\n",
    "    plot_hist(n)"
   ]
  },
  {
   "cell_type": "code",
   "execution_count": 78,
   "id": "c0cb9101",
   "metadata": {},
   "outputs": [],
   "source": [
    "from sklearn.preprocessing import MinMaxScaler\n",
    "from scipy.stats.mstats import winsorize"
   ]
  },
  {
   "cell_type": "code",
   "execution_count": 79,
   "id": "5cf89546",
   "metadata": {},
   "outputs": [],
   "source": [
    "minmax_scaler = MinMaxScaler()\n",
    "\n",
    "agg_df[['AMT_ANNUITY','AMT_APPLICATION','AMT_CREDIT','AMT_GOODS_PRICE' ]] = minmax_scaler.fit_transform(agg_df[['AMT_ANNUITY','AMT_APPLICATION','AMT_CREDIT','AMT_GOODS_PRICE']])"
   ]
  },
  {
   "cell_type": "code",
   "execution_count": null,
   "id": "6f3a76c5",
   "metadata": {},
   "outputs": [],
   "source": [
    "def plot_hist(var):\n",
    "    plt.figure(figsize=(15,5))\n",
    "    plt.hist(df[var], bins=50)\n",
    "    plt.xticks(rotation=90)\n",
    "    plt.xlabel(var)\n",
    "    plt.ylabel(\"Frequency\")\n",
    "    plt.title(\"{} distribution with hist\".format(var))\n",
    "    plt.show()\n",
    "    \n",
    "for n in agg_df:\n",
    "    plot_hist(n)"
   ]
  },
  {
   "cell_type": "code",
   "execution_count": null,
   "id": "68159fd6",
   "metadata": {},
   "outputs": [],
   "source": []
  },
  {
   "cell_type": "markdown",
   "id": "8960a3e5",
   "metadata": {},
   "source": [
    "### Load the main dataset"
   ]
  },
  {
   "cell_type": "code",
   "execution_count": 80,
   "id": "c87c2740",
   "metadata": {},
   "outputs": [],
   "source": [
    "df = pd.read_csv('application_train.csv')"
   ]
  },
  {
   "cell_type": "code",
   "execution_count": 81,
   "id": "82a48f7b",
   "metadata": {},
   "outputs": [
    {
     "data": {
      "text/html": [
       "<div>\n",
       "<style scoped>\n",
       "    .dataframe tbody tr th:only-of-type {\n",
       "        vertical-align: middle;\n",
       "    }\n",
       "\n",
       "    .dataframe tbody tr th {\n",
       "        vertical-align: top;\n",
       "    }\n",
       "\n",
       "    .dataframe thead th {\n",
       "        text-align: right;\n",
       "    }\n",
       "</style>\n",
       "<table border=\"1\" class=\"dataframe\">\n",
       "  <thead>\n",
       "    <tr style=\"text-align: right;\">\n",
       "      <th></th>\n",
       "      <th>SK_ID_CURR</th>\n",
       "      <th>TARGET</th>\n",
       "      <th>NAME_CONTRACT_TYPE</th>\n",
       "      <th>CODE_GENDER</th>\n",
       "      <th>FLAG_OWN_CAR</th>\n",
       "      <th>FLAG_OWN_REALTY</th>\n",
       "      <th>CNT_CHILDREN</th>\n",
       "      <th>AMT_INCOME_TOTAL</th>\n",
       "      <th>AMT_CREDIT</th>\n",
       "      <th>AMT_ANNUITY</th>\n",
       "      <th>...</th>\n",
       "      <th>FLAG_DOCUMENT_18</th>\n",
       "      <th>FLAG_DOCUMENT_19</th>\n",
       "      <th>FLAG_DOCUMENT_20</th>\n",
       "      <th>FLAG_DOCUMENT_21</th>\n",
       "      <th>AMT_REQ_CREDIT_BUREAU_HOUR</th>\n",
       "      <th>AMT_REQ_CREDIT_BUREAU_DAY</th>\n",
       "      <th>AMT_REQ_CREDIT_BUREAU_WEEK</th>\n",
       "      <th>AMT_REQ_CREDIT_BUREAU_MON</th>\n",
       "      <th>AMT_REQ_CREDIT_BUREAU_QRT</th>\n",
       "      <th>AMT_REQ_CREDIT_BUREAU_YEAR</th>\n",
       "    </tr>\n",
       "  </thead>\n",
       "  <tbody>\n",
       "    <tr>\n",
       "      <th>0</th>\n",
       "      <td>100002</td>\n",
       "      <td>1</td>\n",
       "      <td>Cash loans</td>\n",
       "      <td>M</td>\n",
       "      <td>N</td>\n",
       "      <td>Y</td>\n",
       "      <td>0</td>\n",
       "      <td>202500.0</td>\n",
       "      <td>406597.5</td>\n",
       "      <td>24700.5</td>\n",
       "      <td>...</td>\n",
       "      <td>0</td>\n",
       "      <td>0</td>\n",
       "      <td>0</td>\n",
       "      <td>0</td>\n",
       "      <td>0.0</td>\n",
       "      <td>0.0</td>\n",
       "      <td>0.0</td>\n",
       "      <td>0.0</td>\n",
       "      <td>0.0</td>\n",
       "      <td>1.0</td>\n",
       "    </tr>\n",
       "    <tr>\n",
       "      <th>1</th>\n",
       "      <td>100003</td>\n",
       "      <td>0</td>\n",
       "      <td>Cash loans</td>\n",
       "      <td>F</td>\n",
       "      <td>N</td>\n",
       "      <td>N</td>\n",
       "      <td>0</td>\n",
       "      <td>270000.0</td>\n",
       "      <td>1293502.5</td>\n",
       "      <td>35698.5</td>\n",
       "      <td>...</td>\n",
       "      <td>0</td>\n",
       "      <td>0</td>\n",
       "      <td>0</td>\n",
       "      <td>0</td>\n",
       "      <td>0.0</td>\n",
       "      <td>0.0</td>\n",
       "      <td>0.0</td>\n",
       "      <td>0.0</td>\n",
       "      <td>0.0</td>\n",
       "      <td>0.0</td>\n",
       "    </tr>\n",
       "    <tr>\n",
       "      <th>2</th>\n",
       "      <td>100004</td>\n",
       "      <td>0</td>\n",
       "      <td>Revolving loans</td>\n",
       "      <td>M</td>\n",
       "      <td>Y</td>\n",
       "      <td>Y</td>\n",
       "      <td>0</td>\n",
       "      <td>67500.0</td>\n",
       "      <td>135000.0</td>\n",
       "      <td>6750.0</td>\n",
       "      <td>...</td>\n",
       "      <td>0</td>\n",
       "      <td>0</td>\n",
       "      <td>0</td>\n",
       "      <td>0</td>\n",
       "      <td>0.0</td>\n",
       "      <td>0.0</td>\n",
       "      <td>0.0</td>\n",
       "      <td>0.0</td>\n",
       "      <td>0.0</td>\n",
       "      <td>0.0</td>\n",
       "    </tr>\n",
       "    <tr>\n",
       "      <th>3</th>\n",
       "      <td>100006</td>\n",
       "      <td>0</td>\n",
       "      <td>Cash loans</td>\n",
       "      <td>F</td>\n",
       "      <td>N</td>\n",
       "      <td>Y</td>\n",
       "      <td>0</td>\n",
       "      <td>135000.0</td>\n",
       "      <td>312682.5</td>\n",
       "      <td>29686.5</td>\n",
       "      <td>...</td>\n",
       "      <td>0</td>\n",
       "      <td>0</td>\n",
       "      <td>0</td>\n",
       "      <td>0</td>\n",
       "      <td>NaN</td>\n",
       "      <td>NaN</td>\n",
       "      <td>NaN</td>\n",
       "      <td>NaN</td>\n",
       "      <td>NaN</td>\n",
       "      <td>NaN</td>\n",
       "    </tr>\n",
       "    <tr>\n",
       "      <th>4</th>\n",
       "      <td>100007</td>\n",
       "      <td>0</td>\n",
       "      <td>Cash loans</td>\n",
       "      <td>M</td>\n",
       "      <td>N</td>\n",
       "      <td>Y</td>\n",
       "      <td>0</td>\n",
       "      <td>121500.0</td>\n",
       "      <td>513000.0</td>\n",
       "      <td>21865.5</td>\n",
       "      <td>...</td>\n",
       "      <td>0</td>\n",
       "      <td>0</td>\n",
       "      <td>0</td>\n",
       "      <td>0</td>\n",
       "      <td>0.0</td>\n",
       "      <td>0.0</td>\n",
       "      <td>0.0</td>\n",
       "      <td>0.0</td>\n",
       "      <td>0.0</td>\n",
       "      <td>0.0</td>\n",
       "    </tr>\n",
       "  </tbody>\n",
       "</table>\n",
       "<p>5 rows × 122 columns</p>\n",
       "</div>"
      ],
      "text/plain": [
       "   SK_ID_CURR  TARGET NAME_CONTRACT_TYPE CODE_GENDER FLAG_OWN_CAR  \\\n",
       "0      100002       1         Cash loans           M            N   \n",
       "1      100003       0         Cash loans           F            N   \n",
       "2      100004       0    Revolving loans           M            Y   \n",
       "3      100006       0         Cash loans           F            N   \n",
       "4      100007       0         Cash loans           M            N   \n",
       "\n",
       "  FLAG_OWN_REALTY  CNT_CHILDREN  AMT_INCOME_TOTAL  AMT_CREDIT  AMT_ANNUITY  \\\n",
       "0               Y             0          202500.0    406597.5      24700.5   \n",
       "1               N             0          270000.0   1293502.5      35698.5   \n",
       "2               Y             0           67500.0    135000.0       6750.0   \n",
       "3               Y             0          135000.0    312682.5      29686.5   \n",
       "4               Y             0          121500.0    513000.0      21865.5   \n",
       "\n",
       "   ...  FLAG_DOCUMENT_18 FLAG_DOCUMENT_19 FLAG_DOCUMENT_20 FLAG_DOCUMENT_21  \\\n",
       "0  ...                 0                0                0                0   \n",
       "1  ...                 0                0                0                0   \n",
       "2  ...                 0                0                0                0   \n",
       "3  ...                 0                0                0                0   \n",
       "4  ...                 0                0                0                0   \n",
       "\n",
       "  AMT_REQ_CREDIT_BUREAU_HOUR AMT_REQ_CREDIT_BUREAU_DAY  \\\n",
       "0                        0.0                       0.0   \n",
       "1                        0.0                       0.0   \n",
       "2                        0.0                       0.0   \n",
       "3                        NaN                       NaN   \n",
       "4                        0.0                       0.0   \n",
       "\n",
       "   AMT_REQ_CREDIT_BUREAU_WEEK  AMT_REQ_CREDIT_BUREAU_MON  \\\n",
       "0                         0.0                        0.0   \n",
       "1                         0.0                        0.0   \n",
       "2                         0.0                        0.0   \n",
       "3                         NaN                        NaN   \n",
       "4                         0.0                        0.0   \n",
       "\n",
       "   AMT_REQ_CREDIT_BUREAU_QRT  AMT_REQ_CREDIT_BUREAU_YEAR  \n",
       "0                        0.0                         1.0  \n",
       "1                        0.0                         0.0  \n",
       "2                        0.0                         0.0  \n",
       "3                        NaN                         NaN  \n",
       "4                        0.0                         0.0  \n",
       "\n",
       "[5 rows x 122 columns]"
      ]
     },
     "execution_count": 81,
     "metadata": {},
     "output_type": "execute_result"
    }
   ],
   "source": [
    "df.head()"
   ]
  },
  {
   "cell_type": "code",
   "execution_count": 82,
   "id": "9687b943",
   "metadata": {},
   "outputs": [],
   "source": [
    "df = df['TARGET']"
   ]
  },
  {
   "cell_type": "code",
   "execution_count": 83,
   "id": "cf3a1026",
   "metadata": {},
   "outputs": [],
   "source": [
    "df = pd.concat([pd.DataFrame(agg_df), df], axis=1)"
   ]
  },
  {
   "cell_type": "code",
   "execution_count": 84,
   "id": "23da7f77",
   "metadata": {},
   "outputs": [
    {
     "data": {
      "text/html": [
       "<div>\n",
       "<style scoped>\n",
       "    .dataframe tbody tr th:only-of-type {\n",
       "        vertical-align: middle;\n",
       "    }\n",
       "\n",
       "    .dataframe tbody tr th {\n",
       "        vertical-align: top;\n",
       "    }\n",
       "\n",
       "    .dataframe thead th {\n",
       "        text-align: right;\n",
       "    }\n",
       "</style>\n",
       "<table border=\"1\" class=\"dataframe\">\n",
       "  <thead>\n",
       "    <tr style=\"text-align: right;\">\n",
       "      <th></th>\n",
       "      <th>AMT_ANNUITY</th>\n",
       "      <th>AMT_APPLICATION</th>\n",
       "      <th>AMT_CREDIT</th>\n",
       "      <th>AMT_GOODS_PRICE</th>\n",
       "      <th>TARGET</th>\n",
       "    </tr>\n",
       "  </thead>\n",
       "  <tbody>\n",
       "    <tr>\n",
       "      <th>100001</th>\n",
       "      <td>0.009454</td>\n",
       "      <td>0.004245</td>\n",
       "      <td>0.005796</td>\n",
       "      <td>0.004245</td>\n",
       "      <td>0.0</td>\n",
       "    </tr>\n",
       "    <tr>\n",
       "      <th>100002</th>\n",
       "      <td>0.022137</td>\n",
       "      <td>0.030608</td>\n",
       "      <td>0.043626</td>\n",
       "      <td>0.030608</td>\n",
       "      <td>0.0</td>\n",
       "    </tr>\n",
       "    <tr>\n",
       "      <th>100003</th>\n",
       "      <td>0.235345</td>\n",
       "      <td>0.153846</td>\n",
       "      <td>0.252386</td>\n",
       "      <td>0.153846</td>\n",
       "      <td>0.0</td>\n",
       "    </tr>\n",
       "    <tr>\n",
       "      <th>100004</th>\n",
       "      <td>0.012819</td>\n",
       "      <td>0.004151</td>\n",
       "      <td>0.004899</td>\n",
       "      <td>0.004151</td>\n",
       "      <td>0.0</td>\n",
       "    </tr>\n",
       "    <tr>\n",
       "      <th>100005</th>\n",
       "      <td>0.034052</td>\n",
       "      <td>0.000000</td>\n",
       "      <td>0.000000</td>\n",
       "      <td>0.031082</td>\n",
       "      <td>0.0</td>\n",
       "    </tr>\n",
       "    <tr>\n",
       "      <th>...</th>\n",
       "      <td>...</td>\n",
       "      <td>...</td>\n",
       "      <td>...</td>\n",
       "      <td>...</td>\n",
       "      <td>...</td>\n",
       "    </tr>\n",
       "    <tr>\n",
       "      <th>307409</th>\n",
       "      <td>NaN</td>\n",
       "      <td>NaN</td>\n",
       "      <td>NaN</td>\n",
       "      <td>NaN</td>\n",
       "      <td>0.0</td>\n",
       "    </tr>\n",
       "    <tr>\n",
       "      <th>307453</th>\n",
       "      <td>NaN</td>\n",
       "      <td>NaN</td>\n",
       "      <td>NaN</td>\n",
       "      <td>NaN</td>\n",
       "      <td>0.0</td>\n",
       "    </tr>\n",
       "    <tr>\n",
       "      <th>307472</th>\n",
       "      <td>NaN</td>\n",
       "      <td>NaN</td>\n",
       "      <td>NaN</td>\n",
       "      <td>NaN</td>\n",
       "      <td>0.0</td>\n",
       "    </tr>\n",
       "    <tr>\n",
       "      <th>307487</th>\n",
       "      <td>NaN</td>\n",
       "      <td>NaN</td>\n",
       "      <td>NaN</td>\n",
       "      <td>NaN</td>\n",
       "      <td>0.0</td>\n",
       "    </tr>\n",
       "    <tr>\n",
       "      <th>307495</th>\n",
       "      <td>NaN</td>\n",
       "      <td>NaN</td>\n",
       "      <td>NaN</td>\n",
       "      <td>NaN</td>\n",
       "      <td>0.0</td>\n",
       "    </tr>\n",
       "  </tbody>\n",
       "</table>\n",
       "<p>449105 rows × 5 columns</p>\n",
       "</div>"
      ],
      "text/plain": [
       "        AMT_ANNUITY  AMT_APPLICATION  AMT_CREDIT  AMT_GOODS_PRICE  TARGET\n",
       "100001     0.009454         0.004245    0.005796         0.004245     0.0\n",
       "100002     0.022137         0.030608    0.043626         0.030608     0.0\n",
       "100003     0.235345         0.153846    0.252386         0.153846     0.0\n",
       "100004     0.012819         0.004151    0.004899         0.004151     0.0\n",
       "100005     0.034052         0.000000    0.000000         0.031082     0.0\n",
       "...             ...              ...         ...              ...     ...\n",
       "307409          NaN              NaN         NaN              NaN     0.0\n",
       "307453          NaN              NaN         NaN              NaN     0.0\n",
       "307472          NaN              NaN         NaN              NaN     0.0\n",
       "307487          NaN              NaN         NaN              NaN     0.0\n",
       "307495          NaN              NaN         NaN              NaN     0.0\n",
       "\n",
       "[449105 rows x 5 columns]"
      ]
     },
     "execution_count": 84,
     "metadata": {},
     "output_type": "execute_result"
    }
   ],
   "source": [
    "df"
   ]
  },
  {
   "cell_type": "code",
   "execution_count": 86,
   "id": "6720c361",
   "metadata": {},
   "outputs": [
    {
     "data": {
      "text/plain": [
       "AMT_ANNUITY        110248\n",
       "AMT_APPLICATION    110248\n",
       "AMT_CREDIT         110248\n",
       "AMT_GOODS_PRICE    110248\n",
       "TARGET             141594\n",
       "dtype: int64"
      ]
     },
     "execution_count": 86,
     "metadata": {},
     "output_type": "execute_result"
    }
   ],
   "source": [
    "df.isna().sum()"
   ]
  },
  {
   "cell_type": "code",
   "execution_count": 87,
   "id": "de8116f8",
   "metadata": {},
   "outputs": [],
   "source": [
    "df_new = df.dropna()"
   ]
  },
  {
   "cell_type": "code",
   "execution_count": 88,
   "id": "194d353f",
   "metadata": {},
   "outputs": [
    {
     "data": {
      "text/plain": [
       "AMT_ANNUITY        0\n",
       "AMT_APPLICATION    0\n",
       "AMT_CREDIT         0\n",
       "AMT_GOODS_PRICE    0\n",
       "TARGET             0\n",
       "dtype: int64"
      ]
     },
     "execution_count": 88,
     "metadata": {},
     "output_type": "execute_result"
    }
   ],
   "source": [
    "df_new.isna().sum()"
   ]
  },
  {
   "cell_type": "code",
   "execution_count": null,
   "id": "4191eae0",
   "metadata": {},
   "outputs": [],
   "source": [
    "# Concatenating scaled and dummy columns\n",
    "\n",
    "#df_prevoius = pd.concat([pd.DataFrame(agg_df), df], axis=1)"
   ]
  },
  {
   "cell_type": "code",
   "execution_count": null,
   "id": "7d5230ac",
   "metadata": {},
   "outputs": [],
   "source": [
    "df_prevoius.shape"
   ]
  },
  {
   "cell_type": "code",
   "execution_count": null,
   "id": "0d77336d",
   "metadata": {},
   "outputs": [],
   "source": [
    "df_previous.info()"
   ]
  },
  {
   "cell_type": "code",
   "execution_count": null,
   "id": "816aacf1",
   "metadata": {},
   "outputs": [],
   "source": [
    "df_prevoius.to_csv(path_or_buf = \"previous_application_cleaned.csv\", index=False)"
   ]
  },
  {
   "cell_type": "markdown",
   "id": "2db8196d",
   "metadata": {},
   "source": [
    "### EDA"
   ]
  },
  {
   "cell_type": "markdown",
   "id": "b9d5b2f2",
   "metadata": {},
   "source": [
    " checking what % of previous applications was for CASH, POS, CAR, etc -->  Majority of the applications are for POS and then followed by Cash. Least is Cars.¶\n",
    "\"What % of previous applications was for CASH, POS, CAR, etc\")\n",
    "NAME_PORTFOLIO"
   ]
  },
  {
   "cell_type": "code",
   "execution_count": null,
   "id": "46e89482",
   "metadata": {},
   "outputs": [],
   "source": [
    "#### Dividing the data based on the Contract Status:\n",
    "''''complete_loan_data_Approved = df[df['NAME_CONTRACT_STATUS'] == 'Approved']\n",
    "complete_loan_data_Canceled = df[df['NAME_CONTRACT_STATUS'] == 'Canceled']\n",
    "complete_loan_data_Refused = df[df['NAME_CONTRACT_STATUS'] == 'Refused']\n",
    "complete_loan_data_Unused = df[df['NAME_CONTRACT_STATUS'] == 'Unused offer']"
   ]
  },
  {
   "cell_type": "code",
   "execution_count": null,
   "id": "4da26b16",
   "metadata": {},
   "outputs": [],
   "source": [
    "'''''def plot3_func(var):\n",
    "    fig, (ax1, ax2, ax3) = plt.subplots(ncols=3, figsize=(15,5))\n",
    "    \n",
    "    s1=sns.countplot(ax=ax1,x=complete_loan_data_Approved[var], data=complete_loan_data_Approved)\n",
    "    s1.set_xticklabels(s1.get_xticklabels(),rotation=90)\n",
    "    ax1.set_title(\"Approved\", fontsize=10) \n",
    "    ax1.set_xlabel(var)\n",
    "    ax1.set_ylabel(\"Count of Loans\")    \n",
    "    \n",
    "    s2=sns.countplot(ax=ax2,x=complete_loan_data_Canceled[var], data=complete_loan_data_Canceled)\n",
    "    s2.set_xticklabels(s2.get_xticklabels(),rotation=90)\n",
    "    ax2.set_title(\"Canceled\", fontsize=10)\n",
    "    ax2.set_xlabel(var)\n",
    "    ax2.set_ylabel(\"Count of Loans\")    \n",
    "    \n",
    "    s3=sns.countplot(ax=ax3,x=complete_loan_data_Refused[var], data=complete_loan_data_Refused)\n",
    "    s3.set_xticklabels(s3.get_xticklabels(),rotation=90)\n",
    "    ax3.set_title(\"Refused\", fontsize=10)\n",
    "    ax3.set_xlabel(var)\n",
    "    ax3.set_ylabel(\"Count of Loans\")    \n",
    "    plt.show()"
   ]
  },
  {
   "cell_type": "code",
   "execution_count": null,
   "id": "46dd27c4",
   "metadata": {},
   "outputs": [],
   "source": [
    "#plot3_func('PRODUCT_COMBINATION')\n"
   ]
  },
  {
   "cell_type": "markdown",
   "id": "e9a6d84c",
   "metadata": {},
   "source": [
    "POS household with interest product combination has more number of Approved loans. Whereas Cash product conbination has more no of Canceled loans. And, Cash X-Sell:low sees more no of Refused loans.\n",
    "<br>\n",
    "* Focus on clients from housing type ‘House/apartment’ as they are having less paying difficulties.\n",
    "\n"
   ]
  },
  {
   "cell_type": "code",
   "execution_count": null,
   "id": "8bd191ce",
   "metadata": {},
   "outputs": [],
   "source": [
    "''''approved_corr = complete_loan_data_Approved.corr().abs().unstack()\n",
    "approved_corr = approved_corr[~(approved_corr==1.0)]\n",
    "round(approved_corr.sort_values(kind='quicksort').drop_duplicates().tail(10).sort_values(ascending=False)*100,2)"
   ]
  },
  {
   "cell_type": "code",
   "execution_count": null,
   "id": "8cbc38e8",
   "metadata": {},
   "outputs": [],
   "source": [
    "''''canceled_corr = complete_loan_data_Canceled.corr().abs().unstack()\n",
    "canceled_corr = canceled_corr[~(canceled_corr==1.0)]\n",
    "canceled_corr.sort_values(kind='quicksort').drop_duplicates().tail(10).sort_values(ascending=False)*100"
   ]
  },
  {
   "cell_type": "code",
   "execution_count": null,
   "id": "d5642153",
   "metadata": {},
   "outputs": [],
   "source": [
    "''''refused_corr = complete_loan_data_Refused.corr().abs().unstack().dropna()\n",
    "refused_corr = refused_corr[~(refused_corr==1.0)]\n",
    "refused_corr.sort_values(kind='quicksort').drop_duplicates().tail(10).sort_values(ascending=False)*100"
   ]
  },
  {
   "cell_type": "code",
   "execution_count": null,
   "id": "5f5afb6f",
   "metadata": {},
   "outputs": [],
   "source": [
    "''''unused_corr = complete_loan_data_Unused.corr().abs().unstack()\n",
    "unused_corr = unused_corr[~(unused_corr==1.0)]\n",
    "unused_corr.sort_values(kind='quicksort').drop_duplicates().tail(10).sort_values(ascending=False)*100"
   ]
  },
  {
   "cell_type": "markdown",
   "id": "32aff682",
   "metadata": {},
   "source": [
    "Repeater client type seems to have more number of loans across each Contract status"
   ]
  },
  {
   "cell_type": "code",
   "execution_count": null,
   "id": "14ac350c",
   "metadata": {},
   "outputs": [],
   "source": [
    "## understanding the column meaning & values and checking the datatype for numerical and categorical\n",
    "for i in df.columns:\n",
    "    print(df[i].value_counts().head(10),\"\\n\\n\")"
   ]
  },
  {
   "cell_type": "code",
   "execution_count": null,
   "id": "83546d08",
   "metadata": {},
   "outputs": [],
   "source": [
    "df.columns.tolist()"
   ]
  },
  {
   "cell_type": "code",
   "execution_count": null,
   "id": "8d17c970",
   "metadata": {},
   "outputs": [],
   "source": [
    "\"\"\"\n",
    "Since one-hot encoding all of the categorical data in the previous_application frame would create lots of new column, \n",
    "so I decided to select some of the feature that I think they should contain more valuable information.\n",
    "- NAME_CONTRACT_TYPE\n",
    "- NAME_CONTRACT_STATUS\n",
    "- NAME_CLIENT_TYPE\n",
    "- CHANNEL_TYPE\n",
    "- PRODUCT_COMBINATION"
   ]
  },
  {
   "cell_type": "code",
   "execution_count": null,
   "id": "27c68912",
   "metadata": {},
   "outputs": [],
   "source": []
  },
  {
   "cell_type": "code",
   "execution_count": null,
   "id": "22b1713c",
   "metadata": {},
   "outputs": [],
   "source": []
  },
  {
   "cell_type": "code",
   "execution_count": null,
   "id": "65365fb4",
   "metadata": {},
   "outputs": [],
   "source": []
  }
 ],
 "metadata": {
  "kernelspec": {
   "display_name": "Python 3 (ipykernel)",
   "language": "python",
   "name": "python3"
  },
  "language_info": {
   "codemirror_mode": {
    "name": "ipython",
    "version": 3
   },
   "file_extension": ".py",
   "mimetype": "text/x-python",
   "name": "python",
   "nbconvert_exporter": "python",
   "pygments_lexer": "ipython3",
   "version": "3.9.12"
  }
 },
 "nbformat": 4,
 "nbformat_minor": 5
}
